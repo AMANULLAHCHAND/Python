{
  "nbformat": 4,
  "nbformat_minor": 0,
  "metadata": {
    "colab": {
      "provenance": [],
      "collapsed_sections": [
        "7NDw_pBShxj0",
        "9f825qtymHNd",
        "Aau3Dsp7nd82",
        "D_vTMy-FsSdz",
        "mHleAnXu0097"
      ],
      "name": "Amanullah.ipynb",
      "authorship_tag": "ABX9TyM1FHceV8CN02EzB5ne9n28",
      "include_colab_link": true
    },
    "kernelspec": {
      "name": "python3",
      "display_name": "Python 3"
    },
    "language_info": {
      "name": "python"
    }
  },
  "cells": [
    {
      "cell_type": "markdown",
      "metadata": {
        "id": "view-in-github",
        "colab_type": "text"
      },
      "source": [
        "<a href=\"https://colab.research.google.com/github/AMANULLAHCHAND/Python/blob/main/Amanullah.ipynb\" target=\"_parent\"><img src=\"https://colab.research.google.com/assets/colab-badge.svg\" alt=\"Open In Colab\"/></a>"
      ]
    },
    {
      "cell_type": "code",
      "execution_count": null,
      "metadata": {
        "colab": {
          "base_uri": "https://localhost:8080/"
        },
        "id": "W3q7jdMBTMVL",
        "outputId": "2149acba-428f-477a-eca8-970a99e10d90"
      },
      "outputs": [
        {
          "output_type": "stream",
          "name": "stdout",
          "text": [
            "12\n"
          ]
        }
      ],
      "source": [
        "print(12)"
      ]
    },
    {
      "cell_type": "code",
      "source": [],
      "metadata": {
        "id": "MgoXa8gGGGSl"
      },
      "execution_count": null,
      "outputs": []
    },
    {
      "cell_type": "code",
      "source": [
        "age = 35\n",
        "print(age%5 == 0)"
      ],
      "metadata": {
        "colab": {
          "base_uri": "https://localhost:8080/"
        },
        "id": "JMvlR9EKgG5A",
        "outputId": "e6847dee-d6cf-4f27-88be-20802bbd25a2"
      },
      "execution_count": null,
      "outputs": [
        {
          "output_type": "stream",
          "name": "stdout",
          "text": [
            "True\n"
          ]
        }
      ]
    },
    {
      "cell_type": "markdown",
      "source": [],
      "metadata": {
        "id": "9BzlhRgjgeIn"
      }
    },
    {
      "cell_type": "code",
      "source": [
        "age = 35\n",
        "print(age%5,age%7 == 0)"
      ],
      "metadata": {
        "colab": {
          "base_uri": "https://localhost:8080/"
        },
        "id": "9NXa1PnTgdul",
        "outputId": "266ed1ee-7930-455e-e300-cf2d253af70e"
      },
      "execution_count": null,
      "outputs": [
        {
          "output_type": "stream",
          "name": "stdout",
          "text": [
            "0 True\n"
          ]
        }
      ]
    },
    {
      "cell_type": "code",
      "source": [
        "age = 35\n",
        "print()"
      ],
      "metadata": {
        "id": "MFdiSwrchICF"
      },
      "execution_count": null,
      "outputs": []
    },
    {
      "cell_type": "markdown",
      "source": [
        "#### 1. print"
      ],
      "metadata": {
        "id": "7NDw_pBShxj0"
      }
    },
    {
      "cell_type": "code",
      "source": [
        "print(12)\n",
        "print(12.5)\n",
        "print(55)\n",
        "print(\"Amanullah Chand\")\n",
        "print(True)\n",
        "print()\n",
        "print(12.5, 2, True, \"Amanullah Chand\")"
      ],
      "metadata": {
        "colab": {
          "base_uri": "https://localhost:8080/"
        },
        "id": "u_O8xBtQh5Rl",
        "outputId": "d0a57775-7865-4e22-cefa-1dfc28fa3823"
      },
      "execution_count": null,
      "outputs": [
        {
          "output_type": "stream",
          "name": "stdout",
          "text": [
            "12\n",
            "12.5\n",
            "55\n",
            "Amanullah Chand\n",
            "True\n",
            "\n",
            "12.5 2 True Amanullah Chand\n"
          ]
        }
      ]
    },
    {
      "cell_type": "markdown",
      "source": [
        "2. Type"
      ],
      "metadata": {
        "id": "mAbW6tP3kgvO"
      }
    },
    {
      "cell_type": "code",
      "source": [
        "print(type(12))\n",
        "print(type(12.5))\n",
        "print(type('12.5'))\n",
        "print(type('Aman'))\n",
        "print(type(True))\n",
        "print(type('True'))"
      ],
      "metadata": {
        "colab": {
          "base_uri": "https://localhost:8080/"
        },
        "id": "gEthAABakiZM",
        "outputId": "b6143ab9-9568-4492-9ac6-63debb829b7a"
      },
      "execution_count": null,
      "outputs": [
        {
          "output_type": "stream",
          "name": "stdout",
          "text": [
            "<class 'int'>\n",
            "<class 'float'>\n",
            "<class 'str'>\n",
            "<class 'str'>\n",
            "<class 'bool'>\n",
            "<class 'str'>\n"
          ]
        }
      ]
    },
    {
      "cell_type": "markdown",
      "source": [
        "3. Operators"
      ],
      "metadata": {
        "id": "Ej1QT_n5UvB9"
      }
    },
    {
      "cell_type": "markdown",
      "source": [
        "3.1) Arithmetic"
      ],
      "metadata": {
        "id": "uyfCMfXAUy8M"
      }
    },
    {
      "cell_type": "markdown",
      "source": [
        "3.1.1) Int - Int"
      ],
      "metadata": {
        "id": "cgCAx_MQU3Ho"
      }
    },
    {
      "cell_type": "code",
      "source": [
        "print(12+5)\n",
        "print(12-5)\n",
        "print(12*5)\n",
        "print(12/5)\n",
        "print(12//5)\n",
        "print(12%5)\n",
        "print(12**5)\n"
      ],
      "metadata": {
        "colab": {
          "base_uri": "https://localhost:8080/"
        },
        "id": "3X-7Ik2GU8Fl",
        "outputId": "fdbd03b4-12c6-4b73-8533-41e0303c5c76"
      },
      "execution_count": null,
      "outputs": [
        {
          "output_type": "stream",
          "name": "stdout",
          "text": [
            "17\n",
            "7\n",
            "60\n",
            "2.4\n",
            "2\n",
            "2\n",
            "248832\n"
          ]
        }
      ]
    },
    {
      "cell_type": "markdown",
      "source": [
        "3.1.2) Int - Float"
      ],
      "metadata": {
        "id": "ZfhN6ycaVEk0"
      }
    },
    {
      "cell_type": "code",
      "source": [
        "print(12+5.2)\n",
        "print(12-5.2)\n",
        "print(12*5.2)\n",
        "print(12/5.2)\n",
        "print(12//5.2)\n",
        "print(12%5.2)\n",
        "print(12**5.2)"
      ],
      "metadata": {
        "colab": {
          "base_uri": "https://localhost:8080/"
        },
        "id": "uyBEYoxaVJtp",
        "outputId": "be07b9e8-edf2-47d6-e655-461c550e13e7"
      },
      "execution_count": null,
      "outputs": [
        {
          "output_type": "stream",
          "name": "stdout",
          "text": [
            "17.2\n",
            "6.8\n",
            "62.400000000000006\n",
            "2.3076923076923075\n",
            "2.0\n",
            "1.5999999999999996\n",
            "409018.0552424305\n"
          ]
        }
      ]
    },
    {
      "cell_type": "markdown",
      "source": [
        "3.1.3) Int - String"
      ],
      "metadata": {
        "id": "UyB_CbmiV9MH"
      }
    },
    {
      "cell_type": "code",
      "source": [
        "\n",
        "print(12*'Amanullah')"
      ],
      "metadata": {
        "colab": {
          "base_uri": "https://localhost:8080/"
        },
        "id": "nm1UbLeuWCGr",
        "outputId": "ff05cc1d-0764-4d46-a51f-3721b539d129"
      },
      "execution_count": null,
      "outputs": [
        {
          "output_type": "stream",
          "name": "stdout",
          "text": [
            "AmanullahAmanullahAmanullahAmanullahAmanullahAmanullahAmanullahAmanullahAmanullahAmanullahAmanullahAmanullah\n"
          ]
        }
      ]
    },
    {
      "cell_type": "markdown",
      "source": [
        "3.1.4) Int - Boolean"
      ],
      "metadata": {
        "id": "x4dxOlZpWJkh"
      }
    },
    {
      "cell_type": "code",
      "source": [
        "print(12+True)\n",
        "print(12-False)\n",
        "print(12*True)\n",
        "print(12/True)\n",
        "print(12//True)\n",
        "print(12%True)\n",
        "print(12**True)"
      ],
      "metadata": {
        "colab": {
          "base_uri": "https://localhost:8080/"
        },
        "id": "fG3YRBP4WKta",
        "outputId": "868118fb-e0d7-442b-eb0f-4ea47f3da521"
      },
      "execution_count": null,
      "outputs": [
        {
          "output_type": "stream",
          "name": "stdout",
          "text": [
            "13\n",
            "12\n",
            "12\n",
            "12.0\n",
            "12\n",
            "0\n",
            "12\n"
          ]
        }
      ]
    },
    {
      "cell_type": "code",
      "source": [
        "print(False*'Ashish')"
      ],
      "metadata": {
        "colab": {
          "base_uri": "https://localhost:8080/"
        },
        "id": "gcB0nRg3WRqO",
        "outputId": "0044b49b-8b5d-4585-b05d-2b269f091783"
      },
      "execution_count": null,
      "outputs": [
        {
          "output_type": "stream",
          "name": "stdout",
          "text": [
            "\n"
          ]
        }
      ]
    },
    {
      "cell_type": "markdown",
      "source": [
        "3.2) Comparison"
      ],
      "metadata": {
        "id": "8GpwK1MiWbQP"
      }
    },
    {
      "cell_type": "code",
      "source": [
        "print(10>5)\n",
        "print(10<5)\n",
        "# print(a=5)\n",
        "print(10==5)\n",
        "print(10!=5)\n",
        "print(5>=5)\n",
        "print(5>5)\n",
        "print(10<=5)\n"
      ],
      "metadata": {
        "colab": {
          "base_uri": "https://localhost:8080/"
        },
        "id": "JpoabdDHWfqi",
        "outputId": "72d19fbf-8ce6-460b-f02b-b9948869a66b"
      },
      "execution_count": null,
      "outputs": [
        {
          "output_type": "stream",
          "name": "stdout",
          "text": [
            "True\n",
            "False\n",
            "False\n",
            "True\n",
            "True\n",
            "False\n",
            "False\n"
          ]
        }
      ]
    },
    {
      "cell_type": "markdown",
      "source": [
        "3.3) Logical"
      ],
      "metadata": {
        "id": "aqhS_nl6WkmI"
      }
    },
    {
      "cell_type": "code",
      "source": [
        "n = 70\n",
        "\n",
        "print((n%7 == 0) and (n%5 == 0))\n",
        "print((n%7 == 0) or (n%5 == 0))\n",
        "\n",
        "print((n%7 == 0) and (n%5 == 0) and not (n%9 == 0))\n",
        "print((n%7 == 0) and (n%5 == 0) and not (n%9 == 0) and (n%2 == 0))"
      ],
      "metadata": {
        "colab": {
          "base_uri": "https://localhost:8080/"
        },
        "id": "PM1loMLRWWao",
        "outputId": "88717230-6b3e-4ed6-9fca-54e676f5a8de"
      },
      "execution_count": null,
      "outputs": [
        {
          "output_type": "stream",
          "name": "stdout",
          "text": [
            "True\n",
            "True\n",
            "True\n",
            "True\n"
          ]
        }
      ]
    },
    {
      "cell_type": "markdown",
      "source": [
        "4.1) Typecasting"
      ],
      "metadata": {
        "id": "WCrtIitpWzsh"
      }
    },
    {
      "cell_type": "code",
      "source": [
        "print(int(12.99999))\n",
        "print(int('4623'))\n",
        "print(int(True))\n",
        "print(int(False))"
      ],
      "metadata": {
        "colab": {
          "base_uri": "https://localhost:8080/"
        },
        "id": "RsAMFoYpW078",
        "outputId": "f559f5d6-bf65-4c0e-fe7d-155e8a1057df"
      },
      "execution_count": null,
      "outputs": [
        {
          "output_type": "stream",
          "name": "stdout",
          "text": [
            "12\n",
            "4623\n",
            "1\n",
            "0\n"
          ]
        }
      ]
    },
    {
      "cell_type": "markdown",
      "source": [
        "4.2) Float"
      ],
      "metadata": {
        "id": "v-rn-xmgW6UO"
      }
    },
    {
      "cell_type": "code",
      "source": [
        "print(float(12))\n",
        "print(float('462332'))\n",
        "print(float(True))\n",
        "print(float(False))"
      ],
      "metadata": {
        "colab": {
          "base_uri": "https://localhost:8080/"
        },
        "id": "3qsLK7oXW7gP",
        "outputId": "b0de96dd-8937-4549-ac03-d8ecdb9c18a5"
      },
      "execution_count": null,
      "outputs": [
        {
          "output_type": "stream",
          "name": "stdout",
          "text": [
            "12.0\n",
            "462332.0\n",
            "1.0\n",
            "0.0\n"
          ]
        }
      ]
    },
    {
      "cell_type": "markdown",
      "source": [
        "4.3) Boolean"
      ],
      "metadata": {
        "id": "WrHnBWvIXAD6"
      }
    },
    {
      "cell_type": "code",
      "source": [
        "print(bool(0))\n",
        "print(bool(0.0000))\n",
        "print(bool(' '))\n",
        "print(bool(12))\n",
        "print(bool('Aman'))\n",
        "print(bool(-12))\n",
        "print(bool(''))\n",
        "print(bool(0))"
      ],
      "metadata": {
        "colab": {
          "base_uri": "https://localhost:8080/"
        },
        "id": "nOCgfJ1VXDFY",
        "outputId": "fed49e74-3865-4d3a-ebdb-cfc2e0beb576"
      },
      "execution_count": null,
      "outputs": [
        {
          "output_type": "stream",
          "name": "stdout",
          "text": [
            "False\n",
            "False\n",
            "True\n",
            "True\n",
            "True\n",
            "True\n",
            "False\n",
            "False\n"
          ]
        }
      ]
    },
    {
      "cell_type": "markdown",
      "source": [
        "a = 1\n",
        "b = 2\n",
        "c = 3\n",
        "\n",
        "print\n",
        "(a,b,c)"
      ],
      "metadata": {
        "id": "8xiQafWxbvT2"
      }
    },
    {
      "cell_type": "code",
      "source": [
        "print('a,b,c')"
      ],
      "metadata": {
        "id": "IqP_tqbRbu1I"
      },
      "execution_count": null,
      "outputs": []
    },
    {
      "cell_type": "markdown",
      "source": [
        "# 1. Number is Even or Odd\n",
        "# 2. Number is divisible by 5&7 but not and must be off  between(0,100)"
      ],
      "metadata": {
        "id": "h5O3eR-ug0Z7"
      }
    },
    {
      "cell_type": "code",
      "source": [
        "n = int(input())\n",
        "if (n%2 == 0):\n",
        "  print('Divisible')\n",
        "else:\n",
        "  print('Not Divisible')"
      ],
      "metadata": {
        "id": "Qbx9PNzrhQHd"
      },
      "execution_count": null,
      "outputs": []
    },
    {
      "cell_type": "code",
      "source": [
        "# 2. Number is divisible by 5&7 but not 9 and must be off between (0,100)\n",
        "n = int(input())\n",
        " if (n%)\n"
      ],
      "metadata": {
        "id": "C3zTT9EXguAd"
      },
      "execution_count": null,
      "outputs": []
    },
    {
      "cell_type": "markdown",
      "source": [
        "5 - 5 not 7 not 9\n",
        "7 - 7 not 5 not 9\n",
        "9 - 9 not 5 not 7\n",
        "(5,7) - not 9\n",
        "(5,9) - not 7\n",
        "(9,7) - not 5"
      ],
      "metadata": {
        "id": "wIueMF2LqW2t"
      }
    },
    {
      "cell_type": "code",
      "source": [
        "n = 35\n",
        "\n",
        "if n <= 100 and n>= 0:\n",
        "  if n%5 == 0 and n%7 == 0 or n%9 == 0:\n",
        "    print ('by 5 not 7 not 9')\n",
        "  elif n%7 == 0:\n",
        "    print ('by 7 not 5 not 9')\n",
        "  elif n%9 == 0:\n",
        "    print ('by 9 not 7 not 9')\n",
        "\n",
        "else:\n",
        "  print('Not in range')\n"
      ],
      "metadata": {
        "id": "Vedmle06haT1"
      },
      "execution_count": null,
      "outputs": []
    },
    {
      "cell_type": "markdown",
      "source": [
        "### 2. type"
      ],
      "metadata": {
        "id": "9f825qtymHNd"
      }
    },
    {
      "cell_type": "code",
      "source": [
        "print(type(12))\n",
        "print(type(12.5))\n",
        "print(type('Aman'))\n",
        "print(type(True))\n"
      ],
      "metadata": {
        "id": "cWVgfhDFmBdf"
      },
      "execution_count": null,
      "outputs": []
    },
    {
      "cell_type": "markdown",
      "source": [
        "### 3. Operators"
      ],
      "metadata": {
        "id": "Aau3Dsp7nd82"
      }
    },
    {
      "cell_type": "markdown",
      "source": [
        "#### 3.1) Arithmetic"
      ],
      "metadata": {
        "id": "YshmOlOAove9"
      }
    },
    {
      "cell_type": "markdown",
      "source": [
        "####3.1.2) Int - Float"
      ],
      "metadata": {
        "id": "D_vTMy-FsSdz"
      }
    },
    {
      "cell_type": "code",
      "source": [],
      "metadata": {
        "id": "0eJQm2nKsc-B"
      },
      "execution_count": null,
      "outputs": []
    },
    {
      "cell_type": "markdown",
      "source": [],
      "metadata": {
        "id": "lwLihg4ssSaa"
      }
    },
    {
      "cell_type": "code",
      "source": [],
      "metadata": {
        "id": "LH3I0JAjoChY"
      },
      "execution_count": null,
      "outputs": []
    },
    {
      "cell_type": "code",
      "source": [],
      "metadata": {
        "id": "LQo2iWLSocHS"
      },
      "execution_count": null,
      "outputs": []
    },
    {
      "cell_type": "code",
      "source": [],
      "metadata": {
        "id": "Tjh6KQbhocD6"
      },
      "execution_count": null,
      "outputs": []
    },
    {
      "cell_type": "code",
      "source": [],
      "metadata": {
        "id": "8x4vQ0w2ocBa"
      },
      "execution_count": null,
      "outputs": []
    },
    {
      "cell_type": "markdown",
      "source": [
        "### 4. typecasting"
      ],
      "metadata": {
        "id": "NwoXutXGpQVr"
      }
    },
    {
      "cell_type": "markdown",
      "source": [
        "### 4.1) Int"
      ],
      "metadata": {
        "id": "mHleAnXu0097"
      }
    },
    {
      "cell_type": "code",
      "source": [
        "print(12+5)\n",
        "print(12-5)\n",
        "print(12*5)\n",
        "print(12/5)\n",
        "print(12//5)\n",
        "print(12%5)\n",
        "print(12**12)"
      ],
      "metadata": {
        "id": "g8Ma0Fm6ob-B"
      },
      "execution_count": null,
      "outputs": []
    },
    {
      "cell_type": "markdown",
      "source": [],
      "metadata": {
        "id": "KVbofkI4sOgj"
      }
    },
    {
      "cell_type": "code",
      "source": [
        "print ('\\n\\tAMANULLAH')\n",
        "print ('CHAND')"
      ],
      "metadata": {
        "id": "Aib2Gowiob7g"
      },
      "execution_count": null,
      "outputs": []
    },
    {
      "cell_type": "code",
      "source": [
        "print(11, 2.5, True, 'Amanullah')"
      ],
      "metadata": {
        "id": "hlOs7pLSAPWb"
      },
      "execution_count": null,
      "outputs": []
    },
    {
      "cell_type": "markdown",
      "source": [
        "### 5. Conditionals"
      ],
      "metadata": {
        "id": "he6dZRnYon2_"
      }
    },
    {
      "cell_type": "code",
      "source": [
        "n = 35\n",
        "if (n%5 == 0) and (n%7 == 0):\n",
        "  print('Divisible')\n"
      ],
      "metadata": {
        "id": "cLf4fLLApsy4"
      },
      "execution_count": null,
      "outputs": []
    },
    {
      "cell_type": "code",
      "source": [
        "n = 45\n",
        "if (n%5 == 0) and (n%7 == 0):\n",
        "  print('Divisible')\n",
        "\n",
        "if (n%5 != 0) and (n%7 != 0):\n",
        "  print('Not Divisible')"
      ],
      "metadata": {
        "id": "voN4252Nrt4L"
      },
      "execution_count": null,
      "outputs": []
    },
    {
      "cell_type": "code",
      "source": [
        "n = 32\n",
        "\n",
        "if (n%5 == 0) and (n%7 == 0):\n",
        "  print('Divisible')\n",
        "\n",
        "else:\n",
        "  print('Not Divisible')"
      ],
      "metadata": {
        "id": "QqWrjYfRzrnI"
      },
      "execution_count": null,
      "outputs": []
    },
    {
      "cell_type": "code",
      "source": [
        "if True:\n",
        " print ('Divisible')"
      ],
      "metadata": {
        "id": "JrYVvL4TsUVz"
      },
      "execution_count": null,
      "outputs": []
    },
    {
      "cell_type": "code",
      "source": [
        "n = 10\n",
        "if True:\n",
        " print ('Divisible')"
      ],
      "metadata": {
        "id": "pCbLHK6S2my6"
      },
      "execution_count": null,
      "outputs": []
    },
    {
      "cell_type": "code",
      "source": [
        "n = 12\n",
        "if True:\n",
        " print ('Divisible')"
      ],
      "metadata": {
        "id": "Zk5GmH7B2sMQ"
      },
      "execution_count": null,
      "outputs": []
    },
    {
      "cell_type": "code",
      "source": [],
      "metadata": {
        "id": "aDe5xtzFsQDY"
      },
      "execution_count": null,
      "outputs": []
    },
    {
      "cell_type": "markdown",
      "source": [
        "a = 3 b = 2, c = 1. type them in one"
      ],
      "metadata": {
        "id": "0DmMCootoALK"
      }
    },
    {
      "cell_type": "code",
      "source": [
        "a = 3\n",
        "b = 2\n",
        "c = 1\n",
        "print(str(a) + str(b) + str(c))"
      ],
      "metadata": {
        "id": "Ld-tutR7kFl0"
      },
      "execution_count": null,
      "outputs": []
    },
    {
      "cell_type": "code",
      "source": [
        "a = 3\n",
        "b = 2\n",
        "c = 1\n",
        "print(a, end = '')\n",
        "print(b, end = '')\n",
        "print(c)"
      ],
      "metadata": {
        "id": "qWyK6YXDnrCb"
      },
      "execution_count": null,
      "outputs": []
    },
    {
      "cell_type": "markdown",
      "source": [],
      "metadata": {
        "id": "ceHJMvgPj1hf"
      }
    },
    {
      "cell_type": "markdown",
      "source": [
        "5 - 5 not 7 not 9 7 - 7 not 5 not 9 9 - 9 not 5 not 7 (5,7) - not 9 (5,9) - not 7 (9,7) - not 5"
      ],
      "metadata": {
        "id": "ydMsqM2t3RYz"
      }
    },
    {
      "cell_type": "code",
      "source": [
        "n = 35\n",
        "\n",
        "if n <= 100 and n>= 0:\n",
        "  if n%5 == 0 and n%7 == 0 or n%9 == 0:\n",
        "    print ('by 5 not 7 not 9')\n",
        "  elif n%7 == 0:\n",
        "    print ('by 7 not 5 not 9')\n",
        "  elif n%9 == 0:\n",
        "    print ('by 9 not 7 not 9')\n",
        "\n",
        "else:\n",
        "  print('Not in range')"
      ],
      "metadata": {
        "id": "Vta2mcJwob4Z"
      },
      "execution_count": null,
      "outputs": []
    },
    {
      "cell_type": "markdown",
      "source": [
        "1. Number is Even or Odd"
      ],
      "metadata": {
        "id": "aZpRBK184JfH"
      }
    },
    {
      "cell_type": "code",
      "source": [
        "n = 13\n",
        "\n",
        "if n%2 == 0:\n",
        " print ('Even')\n",
        "else:\n",
        "  print ('Odd')\n",
        "\n"
      ],
      "metadata": {
        "id": "PoIcyq-H4KvY",
        "colab": {
          "base_uri": "https://localhost:8080/"
        },
        "outputId": "4f8deae2-81d0-4dbb-e7fc-b4265058e4a9"
      },
      "execution_count": null,
      "outputs": [
        {
          "output_type": "stream",
          "name": "stdout",
          "text": [
            "Odd\n"
          ]
        }
      ]
    },
    {
      "cell_type": "code",
      "source": [
        "n = int(input ('Enter a Number:'))\n",
        "\n",
        "if n%2 == 0:\n",
        " print ('Even')\n",
        "else:\n",
        "  print ('Odd')\n"
      ],
      "metadata": {
        "id": "p5gZL38a5inI"
      },
      "execution_count": null,
      "outputs": []
    },
    {
      "cell_type": "code",
      "source": [
        "## 2. Number is divisible by 5 & 7 but not 9 and must be off between (0,100)\n",
        "n = int(input ('Enter a number:'))\n",
        "if (n>0) and (n<=100) and (n%5==0) and (n%7==0) and (n%9!= 0):\n",
        "  print ('Divisible')\n",
        "\n",
        "else:\n",
        "  print ('Not Divisible')"
      ],
      "metadata": {
        "id": "wX6S91kgob1w"
      },
      "execution_count": null,
      "outputs": []
    },
    {
      "cell_type": "code",
      "source": [
        "## 2. Number is divisible by 5 or 7 but not 9 and must be off between (0,100)\n",
        "n = int(input ('Enter a number:'))\n",
        "if (n>0) and (n<=100) and ((n%5==0) or (n%7==0)) and (n%9!= 0):\n",
        "  print ('Divisible')\n",
        "\n",
        "else:\n",
        "  print ('Not Divisible')"
      ],
      "metadata": {
        "id": "lCHfPiaoFk4I"
      },
      "execution_count": null,
      "outputs": []
    },
    {
      "cell_type": "code",
      "source": [
        "n = 15\n",
        "if (n%5 == 0):\n",
        "  print('by 5')\n",
        "if (n%7 == 0):\n",
        "  print('by 7')"
      ],
      "metadata": {
        "id": "_FAHFfzeobnk"
      },
      "execution_count": null,
      "outputs": []
    },
    {
      "cell_type": "code",
      "source": [
        "n = 35\n",
        "\n",
        "if (n%5 == 0):\n",
        "  print('by 5')\n",
        "elif (n%7 == 0):\n",
        "  print('by 7')\n",
        "elif ('by 9')\n",
        "  print ('by 9')\n"
      ],
      "metadata": {
        "id": "m-Rc1Q7SHctJ"
      },
      "execution_count": null,
      "outputs": []
    },
    {
      "cell_type": "code",
      "source": [
        "n = 35\n",
        "if (n%5 == 0):\n",
        "  print('by 5')\n",
        "if (n%7 == 0):\n",
        "  print('by 7')\n",
        "if (n%9 == 0):\n",
        "  print('by 9')"
      ],
      "metadata": {
        "id": "3gTexdq1IEfL"
      },
      "execution_count": null,
      "outputs": []
    },
    {
      "cell_type": "code",
      "source": [
        "n = 3512\n",
        "\n",
        "if (n%5 == 0):\n",
        "  print('by 5')\n",
        "elif (n%7 == 0):\n",
        "  print('by 7')\n",
        "elif (n%9 == 0):\n",
        "  print ('by 9')\n",
        "else:\n",
        "  print('Sorry')"
      ],
      "metadata": {
        "id": "H2Dq69LxMPb_",
        "colab": {
          "base_uri": "https://localhost:8080/"
        },
        "outputId": "e36a211d-515e-48bf-8132-76de89cbaa96"
      },
      "execution_count": null,
      "outputs": [
        {
          "output_type": "stream",
          "name": "stdout",
          "text": [
            "Sorry\n"
          ]
        }
      ]
    },
    {
      "cell_type": "code",
      "source": [
        "if (n>=0) and (n<=100) and ((n%5 == 0) or (n%7 == 0)) and not (n%9 == 0):\n",
        "  print('Divisible')"
      ],
      "metadata": {
        "id": "9jp65_cuOFnF"
      },
      "execution_count": null,
      "outputs": []
    },
    {
      "cell_type": "code",
      "source": [
        "n = 13\n",
        "if n<= 100 and n>= 0:\n",
        "  if n%5 == 0:\n",
        "    print('by 5')\n",
        "  elif n%7 ==0:\n",
        "    print('by 7')\n",
        "  elif n%9 == 0:\n",
        "    print('by 9')\n",
        "  else:\n",
        "    print('Not 5,7,9')\n",
        "else:\n",
        "  print('Not in Range')"
      ],
      "metadata": {
        "id": "huTu5mIDPpOn",
        "colab": {
          "base_uri": "https://localhost:8080/"
        },
        "outputId": "e409e10a-6b2d-476d-dab1-0e328f2acb84"
      },
      "execution_count": null,
      "outputs": [
        {
          "output_type": "stream",
          "name": "stdout",
          "text": [
            "Not 5,7,9\n"
          ]
        }
      ]
    },
    {
      "cell_type": "code",
      "source": [],
      "metadata": {
        "id": "zkfhZlY-3DtU"
      },
      "execution_count": null,
      "outputs": []
    },
    {
      "cell_type": "markdown",
      "source": [
        "### 6. Loops"
      ],
      "metadata": {
        "id": "ZHf07HPwXPYY"
      }
    },
    {
      "cell_type": "code",
      "source": [
        "n = 19\n",
        "for i in range(1,11, 19):\n",
        "  print(i,'*',i, '=', n*i)"
      ],
      "metadata": {
        "colab": {
          "base_uri": "https://localhost:8080/"
        },
        "id": "olM9TUhbXQDF",
        "outputId": "b6ce1e64-7ebe-4bb3-ad1c-06db59b9bd9c"
      },
      "execution_count": null,
      "outputs": [
        {
          "output_type": "stream",
          "name": "stdout",
          "text": [
            "1 * 1 = 19\n",
            "2 * 2 = 38\n",
            "3 * 3 = 57\n",
            "4 * 4 = 76\n",
            "5 * 5 = 95\n",
            "6 * 6 = 114\n",
            "7 * 7 = 133\n",
            "8 * 8 = 152\n",
            "9 * 9 = 171\n",
            "10 * 10 = 190\n"
          ]
        }
      ]
    },
    {
      "cell_type": "code",
      "source": [
        "n = 19\n",
        "for i in range():\n",
        "  print(i,'*',i, '=', n*i)"
      ],
      "metadata": {
        "id": "Z9xgnAhFc-QQ"
      },
      "execution_count": null,
      "outputs": []
    },
    {
      "cell_type": "code",
      "source": [
        "n = 1000\n",
        "for i in range(n):\n",
        "  n = n + i\n",
        "print(n)\n"
      ],
      "metadata": {
        "colab": {
          "base_uri": "https://localhost:8080/"
        },
        "id": "Qm4gcvvdfBQe",
        "outputId": "31d7094f-8d71-42a7-ffc1-5a5eafa0dd5c"
      },
      "execution_count": null,
      "outputs": [
        {
          "output_type": "stream",
          "name": "stdout",
          "text": [
            "500500\n"
          ]
        }
      ]
    },
    {
      "cell_type": "code",
      "source": [
        "n = 100\n",
        "for i in range(1,101)\n",
        "  print(n*(n+1)/5)"
      ],
      "metadata": {
        "colab": {
          "base_uri": "https://localhost:8080/",
          "height": 106
        },
        "id": "LCBJZMq1irsy",
        "outputId": "a1a4d684-d9e0-4137-cded-23d60a33d217"
      },
      "execution_count": null,
      "outputs": [
        {
          "output_type": "error",
          "ename": "SyntaxError",
          "evalue": "expected ':' (<ipython-input-27-b89935beb868>, line 2)",
          "traceback": [
            "\u001b[0;36m  File \u001b[0;32m\"<ipython-input-27-b89935beb868>\"\u001b[0;36m, line \u001b[0;32m2\u001b[0m\n\u001b[0;31m    for i in range(1,100)\u001b[0m\n\u001b[0m                         ^\u001b[0m\n\u001b[0;31mSyntaxError\u001b[0m\u001b[0;31m:\u001b[0m expected ':'\n"
          ]
        }
      ]
    },
    {
      "cell_type": "markdown",
      "source": [],
      "metadata": {
        "id": "7vUY4wagaeRE"
      }
    },
    {
      "cell_type": "code",
      "source": [
        "n = 10\n",
        "  if i in range(2,n)\n",
        "  # if (n%i == 0):\n",
        "  #"
      ],
      "metadata": {
        "id": "dMocSWVxaew0"
      },
      "execution_count": null,
      "outputs": []
    },
    {
      "cell_type": "code",
      "source": [
        "for i in range(2,n):\n",
        "  if (n%i == 0):\n",
        "    print(i)\n",
        "    isprime = False\n",
        "    break\n",
        "if isPrime:\n",
        "  print('Prime')\n",
        "else:\n",
        "  print('nap')"
      ],
      "metadata": {
        "colab": {
          "base_uri": "https://localhost:8080/"
        },
        "id": "m-8Oj4BfdohQ",
        "outputId": "d810955b-f208-477c-c660-cd4fe382dede"
      },
      "execution_count": null,
      "outputs": [
        {
          "output_type": "stream",
          "name": "stdout",
          "text": [
            "2\n",
            "Prime\n"
          ]
        }
      ]
    },
    {
      "cell_type": "code",
      "source": [
        "n = 3\n",
        "isPrime = True\n",
        "for i in range(2,n):\n",
        "  if (n%i == 0):\n",
        "    print(i)\n",
        "    isprime = False\n",
        "    break\n",
        "\n",
        "if isPrime:\n",
        "  print('Prime')\n",
        "else:\n",
        "  print('nap')"
      ],
      "metadata": {
        "colab": {
          "base_uri": "https://localhost:8080/"
        },
        "id": "UqSHo2-sezBM",
        "outputId": "0cfc817b-5b30-44f4-b2b7-5fec34187a2f"
      },
      "execution_count": null,
      "outputs": [
        {
          "output_type": "stream",
          "name": "stdout",
          "text": [
            "Prime\n"
          ]
        }
      ]
    },
    {
      "cell_type": "code",
      "source": [
        "for n in range (2,1001):\n",
        "  isPrime = True\n",
        "\n",
        "  for i in range(2,n):\n",
        "    if (n%i == 0):\n",
        "      isprime = False\n",
        "      break\n",
        "\n",
        "  if isPrime:\n",
        "    print(n)"
      ],
      "metadata": {
        "colab": {
          "base_uri": "https://localhost:8080/"
        },
        "id": "zzMhBNjYgqFb",
        "outputId": "4355475a-d266-44fb-98b8-1c90eacce26c"
      },
      "execution_count": null,
      "outputs": [
        {
          "output_type": "stream",
          "name": "stdout",
          "text": [
            "2\n",
            "3\n",
            "4\n",
            "5\n",
            "6\n",
            "7\n",
            "8\n",
            "9\n",
            "10\n",
            "11\n",
            "12\n",
            "13\n",
            "14\n",
            "15\n",
            "16\n",
            "17\n",
            "18\n",
            "19\n",
            "20\n",
            "21\n",
            "22\n",
            "23\n",
            "24\n",
            "25\n",
            "26\n",
            "27\n",
            "28\n",
            "29\n",
            "30\n",
            "31\n",
            "32\n",
            "33\n",
            "34\n",
            "35\n",
            "36\n",
            "37\n",
            "38\n",
            "39\n",
            "40\n",
            "41\n",
            "42\n",
            "43\n",
            "44\n",
            "45\n",
            "46\n",
            "47\n",
            "48\n",
            "49\n",
            "50\n",
            "51\n",
            "52\n",
            "53\n",
            "54\n",
            "55\n",
            "56\n",
            "57\n",
            "58\n",
            "59\n",
            "60\n",
            "61\n",
            "62\n",
            "63\n",
            "64\n",
            "65\n",
            "66\n",
            "67\n",
            "68\n",
            "69\n",
            "70\n",
            "71\n",
            "72\n",
            "73\n",
            "74\n",
            "75\n",
            "76\n",
            "77\n",
            "78\n",
            "79\n",
            "80\n",
            "81\n",
            "82\n",
            "83\n",
            "84\n",
            "85\n",
            "86\n",
            "87\n",
            "88\n",
            "89\n",
            "90\n",
            "91\n",
            "92\n",
            "93\n",
            "94\n",
            "95\n",
            "96\n",
            "97\n",
            "98\n",
            "99\n",
            "100\n",
            "101\n",
            "102\n",
            "103\n",
            "104\n",
            "105\n",
            "106\n",
            "107\n",
            "108\n",
            "109\n",
            "110\n",
            "111\n",
            "112\n",
            "113\n",
            "114\n",
            "115\n",
            "116\n",
            "117\n",
            "118\n",
            "119\n",
            "120\n",
            "121\n",
            "122\n",
            "123\n",
            "124\n",
            "125\n",
            "126\n",
            "127\n",
            "128\n",
            "129\n",
            "130\n",
            "131\n",
            "132\n",
            "133\n",
            "134\n",
            "135\n",
            "136\n",
            "137\n",
            "138\n",
            "139\n",
            "140\n",
            "141\n",
            "142\n",
            "143\n",
            "144\n",
            "145\n",
            "146\n",
            "147\n",
            "148\n",
            "149\n",
            "150\n",
            "151\n",
            "152\n",
            "153\n",
            "154\n",
            "155\n",
            "156\n",
            "157\n",
            "158\n",
            "159\n",
            "160\n",
            "161\n",
            "162\n",
            "163\n",
            "164\n",
            "165\n",
            "166\n",
            "167\n",
            "168\n",
            "169\n",
            "170\n",
            "171\n",
            "172\n",
            "173\n",
            "174\n",
            "175\n",
            "176\n",
            "177\n",
            "178\n",
            "179\n",
            "180\n",
            "181\n",
            "182\n",
            "183\n",
            "184\n",
            "185\n",
            "186\n",
            "187\n",
            "188\n",
            "189\n",
            "190\n",
            "191\n",
            "192\n",
            "193\n",
            "194\n",
            "195\n",
            "196\n",
            "197\n",
            "198\n",
            "199\n",
            "200\n",
            "201\n",
            "202\n",
            "203\n",
            "204\n",
            "205\n",
            "206\n",
            "207\n",
            "208\n",
            "209\n",
            "210\n",
            "211\n",
            "212\n",
            "213\n",
            "214\n",
            "215\n",
            "216\n",
            "217\n",
            "218\n",
            "219\n",
            "220\n",
            "221\n",
            "222\n",
            "223\n",
            "224\n",
            "225\n",
            "226\n",
            "227\n",
            "228\n",
            "229\n",
            "230\n",
            "231\n",
            "232\n",
            "233\n",
            "234\n",
            "235\n",
            "236\n",
            "237\n",
            "238\n",
            "239\n",
            "240\n",
            "241\n",
            "242\n",
            "243\n",
            "244\n",
            "245\n",
            "246\n",
            "247\n",
            "248\n",
            "249\n",
            "250\n",
            "251\n",
            "252\n",
            "253\n",
            "254\n",
            "255\n",
            "256\n",
            "257\n",
            "258\n",
            "259\n",
            "260\n",
            "261\n",
            "262\n",
            "263\n",
            "264\n",
            "265\n",
            "266\n",
            "267\n",
            "268\n",
            "269\n",
            "270\n",
            "271\n",
            "272\n",
            "273\n",
            "274\n",
            "275\n",
            "276\n",
            "277\n",
            "278\n",
            "279\n",
            "280\n",
            "281\n",
            "282\n",
            "283\n",
            "284\n",
            "285\n",
            "286\n",
            "287\n",
            "288\n",
            "289\n",
            "290\n",
            "291\n",
            "292\n",
            "293\n",
            "294\n",
            "295\n",
            "296\n",
            "297\n",
            "298\n",
            "299\n",
            "300\n",
            "301\n",
            "302\n",
            "303\n",
            "304\n",
            "305\n",
            "306\n",
            "307\n",
            "308\n",
            "309\n",
            "310\n",
            "311\n",
            "312\n",
            "313\n",
            "314\n",
            "315\n",
            "316\n",
            "317\n",
            "318\n",
            "319\n",
            "320\n",
            "321\n",
            "322\n",
            "323\n",
            "324\n",
            "325\n",
            "326\n",
            "327\n",
            "328\n",
            "329\n",
            "330\n",
            "331\n",
            "332\n",
            "333\n",
            "334\n",
            "335\n",
            "336\n",
            "337\n",
            "338\n",
            "339\n",
            "340\n",
            "341\n",
            "342\n",
            "343\n",
            "344\n",
            "345\n",
            "346\n",
            "347\n",
            "348\n",
            "349\n",
            "350\n",
            "351\n",
            "352\n",
            "353\n",
            "354\n",
            "355\n",
            "356\n",
            "357\n",
            "358\n",
            "359\n",
            "360\n",
            "361\n",
            "362\n",
            "363\n",
            "364\n",
            "365\n",
            "366\n",
            "367\n",
            "368\n",
            "369\n",
            "370\n",
            "371\n",
            "372\n",
            "373\n",
            "374\n",
            "375\n",
            "376\n",
            "377\n",
            "378\n",
            "379\n",
            "380\n",
            "381\n",
            "382\n",
            "383\n",
            "384\n",
            "385\n",
            "386\n",
            "387\n",
            "388\n",
            "389\n",
            "390\n",
            "391\n",
            "392\n",
            "393\n",
            "394\n",
            "395\n",
            "396\n",
            "397\n",
            "398\n",
            "399\n",
            "400\n",
            "401\n",
            "402\n",
            "403\n",
            "404\n",
            "405\n",
            "406\n",
            "407\n",
            "408\n",
            "409\n",
            "410\n",
            "411\n",
            "412\n",
            "413\n",
            "414\n",
            "415\n",
            "416\n",
            "417\n",
            "418\n",
            "419\n",
            "420\n",
            "421\n",
            "422\n",
            "423\n",
            "424\n",
            "425\n",
            "426\n",
            "427\n",
            "428\n",
            "429\n",
            "430\n",
            "431\n",
            "432\n",
            "433\n",
            "434\n",
            "435\n",
            "436\n",
            "437\n",
            "438\n",
            "439\n",
            "440\n",
            "441\n",
            "442\n",
            "443\n",
            "444\n",
            "445\n",
            "446\n",
            "447\n",
            "448\n",
            "449\n",
            "450\n",
            "451\n",
            "452\n",
            "453\n",
            "454\n",
            "455\n",
            "456\n",
            "457\n",
            "458\n",
            "459\n",
            "460\n",
            "461\n",
            "462\n",
            "463\n",
            "464\n",
            "465\n",
            "466\n",
            "467\n",
            "468\n",
            "469\n",
            "470\n",
            "471\n",
            "472\n",
            "473\n",
            "474\n",
            "475\n",
            "476\n",
            "477\n",
            "478\n",
            "479\n",
            "480\n",
            "481\n",
            "482\n",
            "483\n",
            "484\n",
            "485\n",
            "486\n",
            "487\n",
            "488\n",
            "489\n",
            "490\n",
            "491\n",
            "492\n",
            "493\n",
            "494\n",
            "495\n",
            "496\n",
            "497\n",
            "498\n",
            "499\n",
            "500\n",
            "501\n",
            "502\n",
            "503\n",
            "504\n",
            "505\n",
            "506\n",
            "507\n",
            "508\n",
            "509\n",
            "510\n",
            "511\n",
            "512\n",
            "513\n",
            "514\n",
            "515\n",
            "516\n",
            "517\n",
            "518\n",
            "519\n",
            "520\n",
            "521\n",
            "522\n",
            "523\n",
            "524\n",
            "525\n",
            "526\n",
            "527\n",
            "528\n",
            "529\n",
            "530\n",
            "531\n",
            "532\n",
            "533\n",
            "534\n",
            "535\n",
            "536\n",
            "537\n",
            "538\n",
            "539\n",
            "540\n",
            "541\n",
            "542\n",
            "543\n",
            "544\n",
            "545\n",
            "546\n",
            "547\n",
            "548\n",
            "549\n",
            "550\n",
            "551\n",
            "552\n",
            "553\n",
            "554\n",
            "555\n",
            "556\n",
            "557\n",
            "558\n",
            "559\n",
            "560\n",
            "561\n",
            "562\n",
            "563\n",
            "564\n",
            "565\n",
            "566\n",
            "567\n",
            "568\n",
            "569\n",
            "570\n",
            "571\n",
            "572\n",
            "573\n",
            "574\n",
            "575\n",
            "576\n",
            "577\n",
            "578\n",
            "579\n",
            "580\n",
            "581\n",
            "582\n",
            "583\n",
            "584\n",
            "585\n",
            "586\n",
            "587\n",
            "588\n",
            "589\n",
            "590\n",
            "591\n",
            "592\n",
            "593\n",
            "594\n",
            "595\n",
            "596\n",
            "597\n",
            "598\n",
            "599\n",
            "600\n",
            "601\n",
            "602\n",
            "603\n",
            "604\n",
            "605\n",
            "606\n",
            "607\n",
            "608\n",
            "609\n",
            "610\n",
            "611\n",
            "612\n",
            "613\n",
            "614\n",
            "615\n",
            "616\n",
            "617\n",
            "618\n",
            "619\n",
            "620\n",
            "621\n",
            "622\n",
            "623\n",
            "624\n",
            "625\n",
            "626\n",
            "627\n",
            "628\n",
            "629\n",
            "630\n",
            "631\n",
            "632\n",
            "633\n",
            "634\n",
            "635\n",
            "636\n",
            "637\n",
            "638\n",
            "639\n",
            "640\n",
            "641\n",
            "642\n",
            "643\n",
            "644\n",
            "645\n",
            "646\n",
            "647\n",
            "648\n",
            "649\n",
            "650\n",
            "651\n",
            "652\n",
            "653\n",
            "654\n",
            "655\n",
            "656\n",
            "657\n",
            "658\n",
            "659\n",
            "660\n",
            "661\n",
            "662\n",
            "663\n",
            "664\n",
            "665\n",
            "666\n",
            "667\n",
            "668\n",
            "669\n",
            "670\n",
            "671\n",
            "672\n",
            "673\n",
            "674\n",
            "675\n",
            "676\n",
            "677\n",
            "678\n",
            "679\n",
            "680\n",
            "681\n",
            "682\n",
            "683\n",
            "684\n",
            "685\n",
            "686\n",
            "687\n",
            "688\n",
            "689\n",
            "690\n",
            "691\n",
            "692\n",
            "693\n",
            "694\n",
            "695\n",
            "696\n",
            "697\n",
            "698\n",
            "699\n",
            "700\n",
            "701\n",
            "702\n",
            "703\n",
            "704\n",
            "705\n",
            "706\n",
            "707\n",
            "708\n",
            "709\n",
            "710\n",
            "711\n",
            "712\n",
            "713\n",
            "714\n",
            "715\n",
            "716\n",
            "717\n",
            "718\n",
            "719\n",
            "720\n",
            "721\n",
            "722\n",
            "723\n",
            "724\n",
            "725\n",
            "726\n",
            "727\n",
            "728\n",
            "729\n",
            "730\n",
            "731\n",
            "732\n",
            "733\n",
            "734\n",
            "735\n",
            "736\n",
            "737\n",
            "738\n",
            "739\n",
            "740\n",
            "741\n",
            "742\n",
            "743\n",
            "744\n",
            "745\n",
            "746\n",
            "747\n",
            "748\n",
            "749\n",
            "750\n",
            "751\n",
            "752\n",
            "753\n",
            "754\n",
            "755\n",
            "756\n",
            "757\n",
            "758\n",
            "759\n",
            "760\n",
            "761\n",
            "762\n",
            "763\n",
            "764\n",
            "765\n",
            "766\n",
            "767\n",
            "768\n",
            "769\n",
            "770\n",
            "771\n",
            "772\n",
            "773\n",
            "774\n",
            "775\n",
            "776\n",
            "777\n",
            "778\n",
            "779\n",
            "780\n",
            "781\n",
            "782\n",
            "783\n",
            "784\n",
            "785\n",
            "786\n",
            "787\n",
            "788\n",
            "789\n",
            "790\n",
            "791\n",
            "792\n",
            "793\n",
            "794\n",
            "795\n",
            "796\n",
            "797\n",
            "798\n",
            "799\n",
            "800\n",
            "801\n",
            "802\n",
            "803\n",
            "804\n",
            "805\n",
            "806\n",
            "807\n",
            "808\n",
            "809\n",
            "810\n",
            "811\n",
            "812\n",
            "813\n",
            "814\n",
            "815\n",
            "816\n",
            "817\n",
            "818\n",
            "819\n",
            "820\n",
            "821\n",
            "822\n",
            "823\n",
            "824\n",
            "825\n",
            "826\n",
            "827\n",
            "828\n",
            "829\n",
            "830\n",
            "831\n",
            "832\n",
            "833\n",
            "834\n",
            "835\n",
            "836\n",
            "837\n",
            "838\n",
            "839\n",
            "840\n",
            "841\n",
            "842\n",
            "843\n",
            "844\n",
            "845\n",
            "846\n",
            "847\n",
            "848\n",
            "849\n",
            "850\n",
            "851\n",
            "852\n",
            "853\n",
            "854\n",
            "855\n",
            "856\n",
            "857\n",
            "858\n",
            "859\n",
            "860\n",
            "861\n",
            "862\n",
            "863\n",
            "864\n",
            "865\n",
            "866\n",
            "867\n",
            "868\n",
            "869\n",
            "870\n",
            "871\n",
            "872\n",
            "873\n",
            "874\n",
            "875\n",
            "876\n",
            "877\n",
            "878\n",
            "879\n",
            "880\n",
            "881\n",
            "882\n",
            "883\n",
            "884\n",
            "885\n",
            "886\n",
            "887\n",
            "888\n",
            "889\n",
            "890\n",
            "891\n",
            "892\n",
            "893\n",
            "894\n",
            "895\n",
            "896\n",
            "897\n",
            "898\n",
            "899\n",
            "900\n",
            "901\n",
            "902\n",
            "903\n",
            "904\n",
            "905\n",
            "906\n",
            "907\n",
            "908\n",
            "909\n",
            "910\n",
            "911\n",
            "912\n",
            "913\n",
            "914\n",
            "915\n",
            "916\n",
            "917\n",
            "918\n",
            "919\n",
            "920\n",
            "921\n",
            "922\n",
            "923\n",
            "924\n",
            "925\n",
            "926\n",
            "927\n",
            "928\n",
            "929\n",
            "930\n",
            "931\n",
            "932\n",
            "933\n",
            "934\n",
            "935\n",
            "936\n",
            "937\n",
            "938\n",
            "939\n",
            "940\n",
            "941\n",
            "942\n",
            "943\n",
            "944\n",
            "945\n",
            "946\n",
            "947\n",
            "948\n",
            "949\n",
            "950\n",
            "951\n",
            "952\n",
            "953\n",
            "954\n",
            "955\n",
            "956\n",
            "957\n",
            "958\n",
            "959\n",
            "960\n",
            "961\n",
            "962\n",
            "963\n",
            "964\n",
            "965\n",
            "966\n",
            "967\n",
            "968\n",
            "969\n",
            "970\n",
            "971\n",
            "972\n",
            "973\n",
            "974\n",
            "975\n",
            "976\n",
            "977\n",
            "978\n",
            "979\n",
            "980\n",
            "981\n",
            "982\n",
            "983\n",
            "984\n",
            "985\n",
            "986\n",
            "987\n",
            "988\n",
            "989\n",
            "990\n",
            "991\n",
            "992\n",
            "993\n",
            "994\n",
            "995\n",
            "996\n",
            "997\n",
            "998\n",
            "999\n",
            "1000\n"
          ]
        }
      ]
    },
    {
      "cell_type": "code",
      "source": [
        "for n in range (2,1001):\n",
        "  isPrime = True\n",
        "\n",
        "  for i in range(2,n):\n",
        "    if (n%i == 0):\n",
        "      isprime = False\n",
        "      break\n",
        "\n",
        "  if isPrime:\n",
        "   print(n)"
      ],
      "metadata": {
        "colab": {
          "base_uri": "https://localhost:8080/"
        },
        "id": "sheS1LVTiacG",
        "outputId": "acace31b-e522-4722-d542-05aeb0e44a4a"
      },
      "execution_count": null,
      "outputs": [
        {
          "output_type": "stream",
          "name": "stdout",
          "text": [
            "2\n",
            "3\n",
            "4\n",
            "5\n",
            "6\n",
            "7\n",
            "8\n",
            "9\n",
            "10\n",
            "11\n",
            "12\n",
            "13\n",
            "14\n",
            "15\n",
            "16\n",
            "17\n",
            "18\n",
            "19\n",
            "20\n",
            "21\n",
            "22\n",
            "23\n",
            "24\n",
            "25\n",
            "26\n",
            "27\n",
            "28\n",
            "29\n",
            "30\n",
            "31\n",
            "32\n",
            "33\n",
            "34\n",
            "35\n",
            "36\n",
            "37\n",
            "38\n",
            "39\n",
            "40\n",
            "41\n",
            "42\n",
            "43\n",
            "44\n",
            "45\n",
            "46\n",
            "47\n",
            "48\n",
            "49\n",
            "50\n",
            "51\n",
            "52\n",
            "53\n",
            "54\n",
            "55\n",
            "56\n",
            "57\n",
            "58\n",
            "59\n",
            "60\n",
            "61\n",
            "62\n",
            "63\n",
            "64\n",
            "65\n",
            "66\n",
            "67\n",
            "68\n",
            "69\n",
            "70\n",
            "71\n",
            "72\n",
            "73\n",
            "74\n",
            "75\n",
            "76\n",
            "77\n",
            "78\n",
            "79\n",
            "80\n",
            "81\n",
            "82\n",
            "83\n",
            "84\n",
            "85\n",
            "86\n",
            "87\n",
            "88\n",
            "89\n",
            "90\n",
            "91\n",
            "92\n",
            "93\n",
            "94\n",
            "95\n",
            "96\n",
            "97\n",
            "98\n",
            "99\n",
            "100\n",
            "101\n",
            "102\n",
            "103\n",
            "104\n",
            "105\n",
            "106\n",
            "107\n",
            "108\n",
            "109\n",
            "110\n",
            "111\n",
            "112\n",
            "113\n",
            "114\n",
            "115\n",
            "116\n",
            "117\n",
            "118\n",
            "119\n",
            "120\n",
            "121\n",
            "122\n",
            "123\n",
            "124\n",
            "125\n",
            "126\n",
            "127\n",
            "128\n",
            "129\n",
            "130\n",
            "131\n",
            "132\n",
            "133\n",
            "134\n",
            "135\n",
            "136\n",
            "137\n",
            "138\n",
            "139\n",
            "140\n",
            "141\n",
            "142\n",
            "143\n",
            "144\n",
            "145\n",
            "146\n",
            "147\n",
            "148\n",
            "149\n",
            "150\n",
            "151\n",
            "152\n",
            "153\n",
            "154\n",
            "155\n",
            "156\n",
            "157\n",
            "158\n",
            "159\n",
            "160\n",
            "161\n",
            "162\n",
            "163\n",
            "164\n",
            "165\n",
            "166\n",
            "167\n",
            "168\n",
            "169\n",
            "170\n",
            "171\n",
            "172\n",
            "173\n",
            "174\n",
            "175\n",
            "176\n",
            "177\n",
            "178\n",
            "179\n",
            "180\n",
            "181\n",
            "182\n",
            "183\n",
            "184\n",
            "185\n",
            "186\n",
            "187\n",
            "188\n",
            "189\n",
            "190\n",
            "191\n",
            "192\n",
            "193\n",
            "194\n",
            "195\n",
            "196\n",
            "197\n",
            "198\n",
            "199\n",
            "200\n",
            "201\n",
            "202\n",
            "203\n",
            "204\n",
            "205\n",
            "206\n",
            "207\n",
            "208\n",
            "209\n",
            "210\n",
            "211\n",
            "212\n",
            "213\n",
            "214\n",
            "215\n",
            "216\n",
            "217\n",
            "218\n",
            "219\n",
            "220\n",
            "221\n",
            "222\n",
            "223\n",
            "224\n",
            "225\n",
            "226\n",
            "227\n",
            "228\n",
            "229\n",
            "230\n",
            "231\n",
            "232\n",
            "233\n",
            "234\n",
            "235\n",
            "236\n",
            "237\n",
            "238\n",
            "239\n",
            "240\n",
            "241\n",
            "242\n",
            "243\n",
            "244\n",
            "245\n",
            "246\n",
            "247\n",
            "248\n",
            "249\n",
            "250\n",
            "251\n",
            "252\n",
            "253\n",
            "254\n",
            "255\n",
            "256\n",
            "257\n",
            "258\n",
            "259\n",
            "260\n",
            "261\n",
            "262\n",
            "263\n",
            "264\n",
            "265\n",
            "266\n",
            "267\n",
            "268\n",
            "269\n",
            "270\n",
            "271\n",
            "272\n",
            "273\n",
            "274\n",
            "275\n",
            "276\n",
            "277\n",
            "278\n",
            "279\n",
            "280\n",
            "281\n",
            "282\n",
            "283\n",
            "284\n",
            "285\n",
            "286\n",
            "287\n",
            "288\n",
            "289\n",
            "290\n",
            "291\n",
            "292\n",
            "293\n",
            "294\n",
            "295\n",
            "296\n",
            "297\n",
            "298\n",
            "299\n",
            "300\n",
            "301\n",
            "302\n",
            "303\n",
            "304\n",
            "305\n",
            "306\n",
            "307\n",
            "308\n",
            "309\n",
            "310\n",
            "311\n",
            "312\n",
            "313\n",
            "314\n",
            "315\n",
            "316\n",
            "317\n",
            "318\n",
            "319\n",
            "320\n",
            "321\n",
            "322\n",
            "323\n",
            "324\n",
            "325\n",
            "326\n",
            "327\n",
            "328\n",
            "329\n",
            "330\n",
            "331\n",
            "332\n",
            "333\n",
            "334\n",
            "335\n",
            "336\n",
            "337\n",
            "338\n",
            "339\n",
            "340\n",
            "341\n",
            "342\n",
            "343\n",
            "344\n",
            "345\n",
            "346\n",
            "347\n",
            "348\n",
            "349\n",
            "350\n",
            "351\n",
            "352\n",
            "353\n",
            "354\n",
            "355\n",
            "356\n",
            "357\n",
            "358\n",
            "359\n",
            "360\n",
            "361\n",
            "362\n",
            "363\n",
            "364\n",
            "365\n",
            "366\n",
            "367\n",
            "368\n",
            "369\n",
            "370\n",
            "371\n",
            "372\n",
            "373\n",
            "374\n",
            "375\n",
            "376\n",
            "377\n",
            "378\n",
            "379\n",
            "380\n",
            "381\n",
            "382\n",
            "383\n",
            "384\n",
            "385\n",
            "386\n",
            "387\n",
            "388\n",
            "389\n",
            "390\n",
            "391\n",
            "392\n",
            "393\n",
            "394\n",
            "395\n",
            "396\n",
            "397\n",
            "398\n",
            "399\n",
            "400\n",
            "401\n",
            "402\n",
            "403\n",
            "404\n",
            "405\n",
            "406\n",
            "407\n",
            "408\n",
            "409\n",
            "410\n",
            "411\n",
            "412\n",
            "413\n",
            "414\n",
            "415\n",
            "416\n",
            "417\n",
            "418\n",
            "419\n",
            "420\n",
            "421\n",
            "422\n",
            "423\n",
            "424\n",
            "425\n",
            "426\n",
            "427\n",
            "428\n",
            "429\n",
            "430\n",
            "431\n",
            "432\n",
            "433\n",
            "434\n",
            "435\n",
            "436\n",
            "437\n",
            "438\n",
            "439\n",
            "440\n",
            "441\n",
            "442\n",
            "443\n",
            "444\n",
            "445\n",
            "446\n",
            "447\n",
            "448\n",
            "449\n",
            "450\n",
            "451\n",
            "452\n",
            "453\n",
            "454\n",
            "455\n",
            "456\n",
            "457\n",
            "458\n",
            "459\n",
            "460\n",
            "461\n",
            "462\n",
            "463\n",
            "464\n",
            "465\n",
            "466\n",
            "467\n",
            "468\n",
            "469\n",
            "470\n",
            "471\n",
            "472\n",
            "473\n",
            "474\n",
            "475\n",
            "476\n",
            "477\n",
            "478\n",
            "479\n",
            "480\n",
            "481\n",
            "482\n",
            "483\n",
            "484\n",
            "485\n",
            "486\n",
            "487\n",
            "488\n",
            "489\n",
            "490\n",
            "491\n",
            "492\n",
            "493\n",
            "494\n",
            "495\n",
            "496\n",
            "497\n",
            "498\n",
            "499\n",
            "500\n",
            "501\n",
            "502\n",
            "503\n",
            "504\n",
            "505\n",
            "506\n",
            "507\n",
            "508\n",
            "509\n",
            "510\n",
            "511\n",
            "512\n",
            "513\n",
            "514\n",
            "515\n",
            "516\n",
            "517\n",
            "518\n",
            "519\n",
            "520\n",
            "521\n",
            "522\n",
            "523\n",
            "524\n",
            "525\n",
            "526\n",
            "527\n",
            "528\n",
            "529\n",
            "530\n",
            "531\n",
            "532\n",
            "533\n",
            "534\n",
            "535\n",
            "536\n",
            "537\n",
            "538\n",
            "539\n",
            "540\n",
            "541\n",
            "542\n",
            "543\n",
            "544\n",
            "545\n",
            "546\n",
            "547\n",
            "548\n",
            "549\n",
            "550\n",
            "551\n",
            "552\n",
            "553\n",
            "554\n",
            "555\n",
            "556\n",
            "557\n",
            "558\n",
            "559\n",
            "560\n",
            "561\n",
            "562\n",
            "563\n",
            "564\n",
            "565\n",
            "566\n",
            "567\n",
            "568\n",
            "569\n",
            "570\n",
            "571\n",
            "572\n",
            "573\n",
            "574\n",
            "575\n",
            "576\n",
            "577\n",
            "578\n",
            "579\n",
            "580\n",
            "581\n",
            "582\n",
            "583\n",
            "584\n",
            "585\n",
            "586\n",
            "587\n",
            "588\n",
            "589\n",
            "590\n",
            "591\n",
            "592\n",
            "593\n",
            "594\n",
            "595\n",
            "596\n",
            "597\n",
            "598\n",
            "599\n",
            "600\n",
            "601\n",
            "602\n",
            "603\n",
            "604\n",
            "605\n",
            "606\n",
            "607\n",
            "608\n",
            "609\n",
            "610\n",
            "611\n",
            "612\n",
            "613\n",
            "614\n",
            "615\n",
            "616\n",
            "617\n",
            "618\n",
            "619\n",
            "620\n",
            "621\n",
            "622\n",
            "623\n",
            "624\n",
            "625\n",
            "626\n",
            "627\n",
            "628\n",
            "629\n",
            "630\n",
            "631\n",
            "632\n",
            "633\n",
            "634\n",
            "635\n",
            "636\n",
            "637\n",
            "638\n",
            "639\n",
            "640\n",
            "641\n",
            "642\n",
            "643\n",
            "644\n",
            "645\n",
            "646\n",
            "647\n",
            "648\n",
            "649\n",
            "650\n",
            "651\n",
            "652\n",
            "653\n",
            "654\n",
            "655\n",
            "656\n",
            "657\n",
            "658\n",
            "659\n",
            "660\n",
            "661\n",
            "662\n",
            "663\n",
            "664\n",
            "665\n",
            "666\n",
            "667\n",
            "668\n",
            "669\n",
            "670\n",
            "671\n",
            "672\n",
            "673\n",
            "674\n",
            "675\n",
            "676\n",
            "677\n",
            "678\n",
            "679\n",
            "680\n",
            "681\n",
            "682\n",
            "683\n",
            "684\n",
            "685\n",
            "686\n",
            "687\n",
            "688\n",
            "689\n",
            "690\n",
            "691\n",
            "692\n",
            "693\n",
            "694\n",
            "695\n",
            "696\n",
            "697\n",
            "698\n",
            "699\n",
            "700\n",
            "701\n",
            "702\n",
            "703\n",
            "704\n",
            "705\n",
            "706\n",
            "707\n",
            "708\n",
            "709\n",
            "710\n",
            "711\n",
            "712\n",
            "713\n",
            "714\n",
            "715\n",
            "716\n",
            "717\n",
            "718\n",
            "719\n",
            "720\n",
            "721\n",
            "722\n",
            "723\n",
            "724\n",
            "725\n",
            "726\n",
            "727\n",
            "728\n",
            "729\n",
            "730\n",
            "731\n",
            "732\n",
            "733\n",
            "734\n",
            "735\n",
            "736\n",
            "737\n",
            "738\n",
            "739\n",
            "740\n",
            "741\n",
            "742\n",
            "743\n",
            "744\n",
            "745\n",
            "746\n",
            "747\n",
            "748\n",
            "749\n",
            "750\n",
            "751\n",
            "752\n",
            "753\n",
            "754\n",
            "755\n",
            "756\n",
            "757\n",
            "758\n",
            "759\n",
            "760\n",
            "761\n",
            "762\n",
            "763\n",
            "764\n",
            "765\n",
            "766\n",
            "767\n",
            "768\n",
            "769\n",
            "770\n",
            "771\n",
            "772\n",
            "773\n",
            "774\n",
            "775\n",
            "776\n",
            "777\n",
            "778\n",
            "779\n",
            "780\n",
            "781\n",
            "782\n",
            "783\n",
            "784\n",
            "785\n",
            "786\n",
            "787\n",
            "788\n",
            "789\n",
            "790\n",
            "791\n",
            "792\n",
            "793\n",
            "794\n",
            "795\n",
            "796\n",
            "797\n",
            "798\n",
            "799\n",
            "800\n",
            "801\n",
            "802\n",
            "803\n",
            "804\n",
            "805\n",
            "806\n",
            "807\n",
            "808\n",
            "809\n",
            "810\n",
            "811\n",
            "812\n",
            "813\n",
            "814\n",
            "815\n",
            "816\n",
            "817\n",
            "818\n",
            "819\n",
            "820\n",
            "821\n",
            "822\n",
            "823\n",
            "824\n",
            "825\n",
            "826\n",
            "827\n",
            "828\n",
            "829\n",
            "830\n",
            "831\n",
            "832\n",
            "833\n",
            "834\n",
            "835\n",
            "836\n",
            "837\n",
            "838\n",
            "839\n",
            "840\n",
            "841\n",
            "842\n",
            "843\n",
            "844\n",
            "845\n",
            "846\n",
            "847\n",
            "848\n",
            "849\n",
            "850\n",
            "851\n",
            "852\n",
            "853\n",
            "854\n",
            "855\n",
            "856\n",
            "857\n",
            "858\n",
            "859\n",
            "860\n",
            "861\n",
            "862\n",
            "863\n",
            "864\n",
            "865\n",
            "866\n",
            "867\n",
            "868\n",
            "869\n",
            "870\n",
            "871\n",
            "872\n",
            "873\n",
            "874\n",
            "875\n",
            "876\n",
            "877\n",
            "878\n",
            "879\n",
            "880\n",
            "881\n",
            "882\n",
            "883\n",
            "884\n",
            "885\n",
            "886\n",
            "887\n",
            "888\n",
            "889\n",
            "890\n",
            "891\n",
            "892\n",
            "893\n",
            "894\n",
            "895\n",
            "896\n",
            "897\n",
            "898\n",
            "899\n",
            "900\n",
            "901\n",
            "902\n",
            "903\n",
            "904\n",
            "905\n",
            "906\n",
            "907\n",
            "908\n",
            "909\n",
            "910\n",
            "911\n",
            "912\n",
            "913\n",
            "914\n",
            "915\n",
            "916\n",
            "917\n",
            "918\n",
            "919\n",
            "920\n",
            "921\n",
            "922\n",
            "923\n",
            "924\n",
            "925\n",
            "926\n",
            "927\n",
            "928\n",
            "929\n",
            "930\n",
            "931\n",
            "932\n",
            "933\n",
            "934\n",
            "935\n",
            "936\n",
            "937\n",
            "938\n",
            "939\n",
            "940\n",
            "941\n",
            "942\n",
            "943\n",
            "944\n",
            "945\n",
            "946\n",
            "947\n",
            "948\n",
            "949\n",
            "950\n",
            "951\n",
            "952\n",
            "953\n",
            "954\n",
            "955\n",
            "956\n",
            "957\n",
            "958\n",
            "959\n",
            "960\n",
            "961\n",
            "962\n",
            "963\n",
            "964\n",
            "965\n",
            "966\n",
            "967\n",
            "968\n",
            "969\n",
            "970\n",
            "971\n",
            "972\n",
            "973\n",
            "974\n",
            "975\n",
            "976\n",
            "977\n",
            "978\n",
            "979\n",
            "980\n",
            "981\n",
            "982\n",
            "983\n",
            "984\n",
            "985\n",
            "986\n",
            "987\n",
            "988\n",
            "989\n",
            "990\n",
            "991\n",
            "992\n",
            "993\n",
            "994\n",
            "995\n",
            "996\n",
            "997\n",
            "998\n",
            "999\n",
            "1000\n"
          ]
        }
      ]
    },
    {
      "cell_type": "code",
      "source": [
        "count = 0\n",
        "for n in range (2,1001):\n",
        "  isPrime = True\n",
        "\n",
        "  for i in range(2,n):\n",
        "    if (n%i == 0):\n",
        "      isprime = False\n",
        "      break\n",
        "\n",
        "  if isPrime:\n",
        "   count += 2\n",
        "\n",
        "print(count)"
      ],
      "metadata": {
        "colab": {
          "base_uri": "https://localhost:8080/"
        },
        "id": "Lmy1Vkv7jQ7E",
        "outputId": "bf3a91d5-2f53-4df5-f7de-3ff09506b038"
      },
      "execution_count": null,
      "outputs": [
        {
          "output_type": "stream",
          "name": "stdout",
          "text": [
            "1998\n"
          ]
        }
      ]
    },
    {
      "cell_type": "code",
      "source": [
        "for n in range (1,7):\n",
        "  for j in range(1,7):\n",
        "    print(i,j)"
      ],
      "metadata": {
        "colab": {
          "base_uri": "https://localhost:8080/"
        },
        "id": "8KOaB6CTjypS",
        "outputId": "fcb97eef-110e-4c57-dce2-992cd676ebab"
      },
      "execution_count": null,
      "outputs": [
        {
          "output_type": "stream",
          "name": "stdout",
          "text": [
            "2 1\n",
            "2 2\n",
            "2 3\n",
            "2 4\n",
            "2 5\n",
            "2 6\n",
            "2 1\n",
            "2 2\n",
            "2 3\n",
            "2 4\n",
            "2 5\n",
            "2 6\n",
            "2 1\n",
            "2 2\n",
            "2 3\n",
            "2 4\n",
            "2 5\n",
            "2 6\n",
            "2 1\n",
            "2 2\n",
            "2 3\n",
            "2 4\n",
            "2 5\n",
            "2 6\n",
            "2 1\n",
            "2 2\n",
            "2 3\n",
            "2 4\n",
            "2 5\n",
            "2 6\n",
            "2 1\n",
            "2 2\n",
            "2 3\n",
            "2 4\n",
            "2 5\n",
            "2 6\n"
          ]
        }
      ]
    },
    {
      "cell_type": "code",
      "source": [
        "n = 5\n",
        "for n in range (1,7):\n",
        "  for j in range(1,7):\n",
        "    if i+j == 5:\n",
        "      print(i,j)"
      ],
      "metadata": {
        "colab": {
          "base_uri": "https://localhost:8080/"
        },
        "id": "8dPv7x1Co1Km",
        "outputId": "eb309409-4752-4ba5-c09b-c85aaf85962a"
      },
      "execution_count": null,
      "outputs": [
        {
          "output_type": "stream",
          "name": "stdout",
          "text": [
            "2 3\n",
            "2 3\n",
            "2 3\n",
            "2 3\n",
            "2 3\n",
            "2 3\n"
          ]
        }
      ]
    },
    {
      "cell_type": "code",
      "source": [
        "n = 5\n",
        "for n in range (1,7):\n",
        "  for j in range(1,7):\n",
        "    if i+j == n:\n",
        "      print(i,j)\n"
      ],
      "metadata": {
        "colab": {
          "base_uri": "https://localhost:8080/"
        },
        "id": "uKN-GDAopTVg",
        "outputId": "dd1939ea-9ad8-46a6-dfcd-a1cbbeb59f5c"
      },
      "execution_count": null,
      "outputs": [
        {
          "output_type": "stream",
          "name": "stdout",
          "text": [
            "2 1\n",
            "2 2\n",
            "2 3\n",
            "2 4\n"
          ]
        }
      ]
    },
    {
      "cell_type": "code",
      "source": [
        "n = 5\n",
        "count = 0\n",
        "\n",
        "for n in range (1,7):\n",
        "  for j in range(1,7):\n",
        "    if i+j == n:\n",
        "      count += 1\n",
        "      print(i,j)\n",
        "print(n, str(round((count/36)*100,2))+'%')"
      ],
      "metadata": {
        "colab": {
          "base_uri": "https://localhost:8080/"
        },
        "id": "IQJ3JAA5qgaI",
        "outputId": "0d8255f1-93af-41e3-f3dd-28dbc6a5ab81"
      },
      "execution_count": null,
      "outputs": [
        {
          "output_type": "stream",
          "name": "stdout",
          "text": [
            "2 1\n",
            "2 2\n",
            "2 3\n",
            "2 4\n",
            "6 11.11%\n"
          ]
        }
      ]
    },
    {
      "cell_type": "code",
      "source": [
        "n = 5\n",
        "count = 0\n",
        "\n",
        "for n in range (1,7):\n",
        "  for j in range(1,7):\n",
        "    if i+j == n:\n",
        "      count += 1\n",
        "      print(i,j)\n",
        "print(n, str(round((count/36)*100,2))+'%')"
      ],
      "metadata": {
        "id": "89KCHorbsPWp"
      },
      "execution_count": null,
      "outputs": []
    },
    {
      "cell_type": "code",
      "source": [
        "name = 'Amanansn zackhaslkhfasdjnv34364633248049858Y(8())'\n",
        "for i in name:\n",
        "  print(i)\n"
      ],
      "metadata": {
        "colab": {
          "base_uri": "https://localhost:8080/"
        },
        "id": "oiWU0ur3u6Jl",
        "outputId": "9b93f760-19b1-4b35-b099-22489a0e46e0"
      },
      "execution_count": null,
      "outputs": [
        {
          "output_type": "stream",
          "name": "stdout",
          "text": [
            "A\n",
            "m\n",
            "a\n",
            "n\n",
            "a\n",
            "n\n",
            "s\n",
            "n\n",
            " \n",
            "z\n",
            "a\n",
            "c\n",
            "k\n",
            "h\n",
            "a\n",
            "s\n",
            "l\n",
            "k\n",
            "h\n",
            "f\n",
            "a\n",
            "s\n",
            "d\n",
            "j\n",
            "n\n",
            "v\n",
            "3\n",
            "4\n",
            "3\n",
            "6\n",
            "4\n",
            "6\n",
            "3\n",
            "3\n",
            "2\n",
            "4\n",
            "8\n",
            "0\n",
            "4\n",
            "9\n",
            "8\n",
            "5\n",
            "8\n",
            "Y\n",
            "(\n",
            "8\n",
            "(\n",
            ")\n",
            ")\n"
          ]
        }
      ]
    },
    {
      "cell_type": "code",
      "source": [
        "text = 'skdfglshkscv uhvszl knvkuw fi eoianzjxbvjcbv'\n",
        "v = 0\n",
        "c = 0\n",
        "\n",
        "for i in text:\n",
        "  if i in 'ajadsjahshUUHhi'"
      ],
      "metadata": {
        "id": "IOFzF_sGylfO"
      },
      "execution_count": null,
      "outputs": []
    }
  ]
}