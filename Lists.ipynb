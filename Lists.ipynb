{
  "nbformat": 4,
  "nbformat_minor": 0,
  "metadata": {
    "colab": {
      "provenance": [],
      "collapsed_sections": [
        "7NDw_pBShxj0",
        "9f825qtymHNd",
        "Aau3Dsp7nd82",
        "D_vTMy-FsSdz",
        "mHleAnXu0097"
      ],
      "name": "Python.ipynb",
      "gpuType": "T4"
    },
    "kernelspec": {
      "name": "python3",
      "display_name": "Python 3"
    },
    "language_info": {
      "name": "python"
    }
  },
  "cells": [
    {
      "cell_type": "code",
      "execution_count": null,
      "metadata": {
        "colab": {
          "base_uri": "https://localhost:8080/"
        },
        "id": "W3q7jdMBTMVL",
        "outputId": "2149acba-428f-477a-eca8-970a99e10d90"
      },
      "outputs": [
        {
          "output_type": "stream",
          "name": "stdout",
          "text": [
            "12\n"
          ]
        }
      ],
      "source": [
        "print(12)"
      ]
    },
    {
      "cell_type": "code",
      "source": [],
      "metadata": {
        "id": "MgoXa8gGGGSl"
      },
      "execution_count": null,
      "outputs": []
    },
    {
      "cell_type": "code",
      "source": [
        "age = 35\n",
        "print(age%5 == 0)"
      ],
      "metadata": {
        "colab": {
          "base_uri": "https://localhost:8080/"
        },
        "id": "JMvlR9EKgG5A",
        "outputId": "e6847dee-d6cf-4f27-88be-20802bbd25a2"
      },
      "execution_count": null,
      "outputs": [
        {
          "output_type": "stream",
          "name": "stdout",
          "text": [
            "True\n"
          ]
        }
      ]
    },
    {
      "cell_type": "markdown",
      "source": [],
      "metadata": {
        "id": "9BzlhRgjgeIn"
      }
    },
    {
      "cell_type": "code",
      "source": [
        "age = 35\n",
        "print(age%5,age%7 == 0)"
      ],
      "metadata": {
        "colab": {
          "base_uri": "https://localhost:8080/"
        },
        "id": "9NXa1PnTgdul",
        "outputId": "266ed1ee-7930-455e-e300-cf2d253af70e"
      },
      "execution_count": null,
      "outputs": [
        {
          "output_type": "stream",
          "name": "stdout",
          "text": [
            "0 True\n"
          ]
        }
      ]
    },
    {
      "cell_type": "code",
      "source": [
        "age = 35\n",
        "print()"
      ],
      "metadata": {
        "id": "MFdiSwrchICF"
      },
      "execution_count": null,
      "outputs": []
    },
    {
      "cell_type": "markdown",
      "source": [
        "#### 1. print"
      ],
      "metadata": {
        "id": "7NDw_pBShxj0"
      }
    },
    {
      "cell_type": "code",
      "source": [
        "print(12)\n",
        "print(12.5)\n",
        "print(55)\n",
        "print(\"Amanullah Chand\")\n",
        "print(True)\n",
        "print()\n",
        "print(12.5, 2, True, \"Amanullah Chand\")"
      ],
      "metadata": {
        "colab": {
          "base_uri": "https://localhost:8080/"
        },
        "id": "u_O8xBtQh5Rl",
        "outputId": "d0a57775-7865-4e22-cefa-1dfc28fa3823"
      },
      "execution_count": null,
      "outputs": [
        {
          "output_type": "stream",
          "name": "stdout",
          "text": [
            "12\n",
            "12.5\n",
            "55\n",
            "Amanullah Chand\n",
            "True\n",
            "\n",
            "12.5 2 True Amanullah Chand\n"
          ]
        }
      ]
    },
    {
      "cell_type": "markdown",
      "source": [
        "2. Type"
      ],
      "metadata": {
        "id": "mAbW6tP3kgvO"
      }
    },
    {
      "cell_type": "code",
      "source": [
        "print(type(12))\n",
        "print(type(12.5))\n",
        "print(type('12.5'))\n",
        "print(type('Aman'))\n",
        "print(type(True))\n",
        "print(type('True'))"
      ],
      "metadata": {
        "colab": {
          "base_uri": "https://localhost:8080/"
        },
        "id": "gEthAABakiZM",
        "outputId": "b6143ab9-9568-4492-9ac6-63debb829b7a"
      },
      "execution_count": null,
      "outputs": [
        {
          "output_type": "stream",
          "name": "stdout",
          "text": [
            "<class 'int'>\n",
            "<class 'float'>\n",
            "<class 'str'>\n",
            "<class 'str'>\n",
            "<class 'bool'>\n",
            "<class 'str'>\n"
          ]
        }
      ]
    },
    {
      "cell_type": "markdown",
      "source": [
        "3. Operators"
      ],
      "metadata": {
        "id": "Ej1QT_n5UvB9"
      }
    },
    {
      "cell_type": "markdown",
      "source": [
        "3.1) Arithmetic"
      ],
      "metadata": {
        "id": "uyfCMfXAUy8M"
      }
    },
    {
      "cell_type": "markdown",
      "source": [
        "3.1.1) Int - Int"
      ],
      "metadata": {
        "id": "cgCAx_MQU3Ho"
      }
    },
    {
      "cell_type": "code",
      "source": [
        "print(12+5)\n",
        "print(12-5)\n",
        "print(12*5)\n",
        "print(12/5)\n",
        "print(12//5)\n",
        "print(12%5)\n",
        "print(12**5)\n"
      ],
      "metadata": {
        "colab": {
          "base_uri": "https://localhost:8080/"
        },
        "id": "3X-7Ik2GU8Fl",
        "outputId": "fdbd03b4-12c6-4b73-8533-41e0303c5c76"
      },
      "execution_count": null,
      "outputs": [
        {
          "output_type": "stream",
          "name": "stdout",
          "text": [
            "17\n",
            "7\n",
            "60\n",
            "2.4\n",
            "2\n",
            "2\n",
            "248832\n"
          ]
        }
      ]
    },
    {
      "cell_type": "markdown",
      "source": [
        "3.1.2) Int - Float"
      ],
      "metadata": {
        "id": "ZfhN6ycaVEk0"
      }
    },
    {
      "cell_type": "code",
      "source": [
        "print(12+5.2)\n",
        "print(12-5.2)\n",
        "print(12*5.2)\n",
        "print(12/5.2)\n",
        "print(12//5.2)\n",
        "print(12%5.2)\n",
        "print(12**5.2)"
      ],
      "metadata": {
        "colab": {
          "base_uri": "https://localhost:8080/"
        },
        "id": "uyBEYoxaVJtp",
        "outputId": "be07b9e8-edf2-47d6-e655-461c550e13e7"
      },
      "execution_count": null,
      "outputs": [
        {
          "output_type": "stream",
          "name": "stdout",
          "text": [
            "17.2\n",
            "6.8\n",
            "62.400000000000006\n",
            "2.3076923076923075\n",
            "2.0\n",
            "1.5999999999999996\n",
            "409018.0552424305\n"
          ]
        }
      ]
    },
    {
      "cell_type": "markdown",
      "source": [
        "3.1.3) Int - String"
      ],
      "metadata": {
        "id": "UyB_CbmiV9MH"
      }
    },
    {
      "cell_type": "code",
      "source": [
        "\n",
        "print(12*'Amanullah')"
      ],
      "metadata": {
        "colab": {
          "base_uri": "https://localhost:8080/"
        },
        "id": "nm1UbLeuWCGr",
        "outputId": "ff05cc1d-0764-4d46-a51f-3721b539d129"
      },
      "execution_count": null,
      "outputs": [
        {
          "output_type": "stream",
          "name": "stdout",
          "text": [
            "AmanullahAmanullahAmanullahAmanullahAmanullahAmanullahAmanullahAmanullahAmanullahAmanullahAmanullahAmanullah\n"
          ]
        }
      ]
    },
    {
      "cell_type": "markdown",
      "source": [
        "3.1.4) Int - Boolean"
      ],
      "metadata": {
        "id": "x4dxOlZpWJkh"
      }
    },
    {
      "cell_type": "code",
      "source": [
        "print(12+True)\n",
        "print(12-False)\n",
        "print(12*True)\n",
        "print(12/True)\n",
        "print(12//True)\n",
        "print(12%True)\n",
        "print(12**True)"
      ],
      "metadata": {
        "colab": {
          "base_uri": "https://localhost:8080/"
        },
        "id": "fG3YRBP4WKta",
        "outputId": "868118fb-e0d7-442b-eb0f-4ea47f3da521"
      },
      "execution_count": null,
      "outputs": [
        {
          "output_type": "stream",
          "name": "stdout",
          "text": [
            "13\n",
            "12\n",
            "12\n",
            "12.0\n",
            "12\n",
            "0\n",
            "12\n"
          ]
        }
      ]
    },
    {
      "cell_type": "code",
      "source": [
        "print(False*'Ashish')"
      ],
      "metadata": {
        "colab": {
          "base_uri": "https://localhost:8080/"
        },
        "id": "gcB0nRg3WRqO",
        "outputId": "0044b49b-8b5d-4585-b05d-2b269f091783"
      },
      "execution_count": null,
      "outputs": [
        {
          "output_type": "stream",
          "name": "stdout",
          "text": [
            "\n"
          ]
        }
      ]
    },
    {
      "cell_type": "markdown",
      "source": [
        "3.2) Comparison"
      ],
      "metadata": {
        "id": "8GpwK1MiWbQP"
      }
    },
    {
      "cell_type": "code",
      "source": [
        "print(10>5)\n",
        "print(10<5)\n",
        "# print(a=5)\n",
        "print(10==5)\n",
        "print(10!=5)\n",
        "print(5>=5)\n",
        "print(5>5)\n",
        "print(10<=5)\n"
      ],
      "metadata": {
        "colab": {
          "base_uri": "https://localhost:8080/"
        },
        "id": "JpoabdDHWfqi",
        "outputId": "72d19fbf-8ce6-460b-f02b-b9948869a66b"
      },
      "execution_count": null,
      "outputs": [
        {
          "output_type": "stream",
          "name": "stdout",
          "text": [
            "True\n",
            "False\n",
            "False\n",
            "True\n",
            "True\n",
            "False\n",
            "False\n"
          ]
        }
      ]
    },
    {
      "cell_type": "markdown",
      "source": [
        "3.3) Logical"
      ],
      "metadata": {
        "id": "aqhS_nl6WkmI"
      }
    },
    {
      "cell_type": "code",
      "source": [
        "n = 70\n",
        "\n",
        "print((n%7 == 0) and (n%5 == 0))\n",
        "print((n%7 == 0) or (n%5 == 0))\n",
        "\n",
        "print((n%7 == 0) and (n%5 == 0) and not (n%9 == 0))\n",
        "print((n%7 == 0) and (n%5 == 0) and not (n%9 == 0) and (n%2 == 0))"
      ],
      "metadata": {
        "colab": {
          "base_uri": "https://localhost:8080/"
        },
        "id": "PM1loMLRWWao",
        "outputId": "88717230-6b3e-4ed6-9fca-54e676f5a8de"
      },
      "execution_count": null,
      "outputs": [
        {
          "output_type": "stream",
          "name": "stdout",
          "text": [
            "True\n",
            "True\n",
            "True\n",
            "True\n"
          ]
        }
      ]
    },
    {
      "cell_type": "markdown",
      "source": [
        "4.1) Typecasting"
      ],
      "metadata": {
        "id": "WCrtIitpWzsh"
      }
    },
    {
      "cell_type": "code",
      "source": [
        "print(int(12.99999))\n",
        "print(int('4623'))\n",
        "print(int(True))\n",
        "print(int(False))"
      ],
      "metadata": {
        "colab": {
          "base_uri": "https://localhost:8080/"
        },
        "id": "RsAMFoYpW078",
        "outputId": "f559f5d6-bf65-4c0e-fe7d-155e8a1057df"
      },
      "execution_count": null,
      "outputs": [
        {
          "output_type": "stream",
          "name": "stdout",
          "text": [
            "12\n",
            "4623\n",
            "1\n",
            "0\n"
          ]
        }
      ]
    },
    {
      "cell_type": "markdown",
      "source": [
        "4.2) Float"
      ],
      "metadata": {
        "id": "v-rn-xmgW6UO"
      }
    },
    {
      "cell_type": "code",
      "source": [
        "print(float(12))\n",
        "print(float('462332'))\n",
        "print(float(True))\n",
        "print(float(False))"
      ],
      "metadata": {
        "colab": {
          "base_uri": "https://localhost:8080/"
        },
        "id": "3qsLK7oXW7gP",
        "outputId": "b0de96dd-8937-4549-ac03-d8ecdb9c18a5"
      },
      "execution_count": null,
      "outputs": [
        {
          "output_type": "stream",
          "name": "stdout",
          "text": [
            "12.0\n",
            "462332.0\n",
            "1.0\n",
            "0.0\n"
          ]
        }
      ]
    },
    {
      "cell_type": "markdown",
      "source": [
        "4.3) Boolean"
      ],
      "metadata": {
        "id": "WrHnBWvIXAD6"
      }
    },
    {
      "cell_type": "code",
      "source": [
        "print(bool(0))\n",
        "print(bool(0.0000))\n",
        "print(bool(' '))\n",
        "print(bool(12))\n",
        "print(bool('Aman'))\n",
        "print(bool(-12))\n",
        "print(bool(''))\n",
        "print(bool(0))"
      ],
      "metadata": {
        "colab": {
          "base_uri": "https://localhost:8080/"
        },
        "id": "nOCgfJ1VXDFY",
        "outputId": "fed49e74-3865-4d3a-ebdb-cfc2e0beb576"
      },
      "execution_count": null,
      "outputs": [
        {
          "output_type": "stream",
          "name": "stdout",
          "text": [
            "False\n",
            "False\n",
            "True\n",
            "True\n",
            "True\n",
            "True\n",
            "False\n",
            "False\n"
          ]
        }
      ]
    },
    {
      "cell_type": "markdown",
      "source": [
        "a = 1\n",
        "b = 2\n",
        "c = 3\n",
        "\n",
        "print\n",
        "(a,b,c)"
      ],
      "metadata": {
        "id": "8xiQafWxbvT2"
      }
    },
    {
      "cell_type": "code",
      "source": [
        "print('a,b,c')"
      ],
      "metadata": {
        "id": "IqP_tqbRbu1I"
      },
      "execution_count": null,
      "outputs": []
    },
    {
      "cell_type": "markdown",
      "source": [
        "# 1. Number is Even or Odd"
      ],
      "metadata": {
        "id": "h5O3eR-ug0Z7"
      }
    },
    {
      "cell_type": "code",
      "source": [
        "n = int(input())\n",
        "if (n%2 == 0):\n",
        "  print('Divisible')\n",
        "else:\n",
        "  print('Not Divisible')"
      ],
      "metadata": {
        "id": "Qbx9PNzrhQHd"
      },
      "execution_count": null,
      "outputs": []
    },
    {
      "cell_type": "code",
      "source": [
        "# 2. Number is divisible by 5&7 but not 9 and must be off between (0,100)\n",
        "n = int(input())\n",
        " if (n%)\n"
      ],
      "metadata": {
        "id": "C3zTT9EXguAd"
      },
      "execution_count": null,
      "outputs": []
    },
    {
      "cell_type": "markdown",
      "source": [
        "# 2. Number is divisible by 5&7 but not and must be off  between(0,100)\n"
      ],
      "metadata": {
        "id": "qJAKhDVkj8SF"
      }
    },
    {
      "cell_type": "markdown",
      "source": [
        "5 - 5 not 7 not 9\n",
        "7 - 7 not 5 not 9\n",
        "9 - 9 not 5 not 7\n",
        "(5,7) - not 9\n",
        "(5,9) - not 7\n",
        "(9,7) - not 5"
      ],
      "metadata": {
        "id": "wIueMF2LqW2t"
      }
    },
    {
      "cell_type": "code",
      "source": [
        "n = 35\n",
        "\n",
        "if n <= 100 and n>= 0:\n",
        "  if n%5 == 0 and n%7 == 0 or n%9 == 0:\n",
        "    print ('by 5 not 7 not 9')\n",
        "  elif n%7 == 0:\n",
        "    print ('by 7 not 5 not 9')\n",
        "  elif n%9 == 0:\n",
        "    print ('by 9 not 7 not 9')\n",
        "\n",
        "else:\n",
        "  print('Not in range')\n"
      ],
      "metadata": {
        "id": "Vedmle06haT1"
      },
      "execution_count": null,
      "outputs": []
    },
    {
      "cell_type": "markdown",
      "source": [
        "# Find the sum of first 1000 natural numbers."
      ],
      "metadata": {
        "id": "f_dUxjnB0kXN"
      }
    },
    {
      "cell_type": "code",
      "source": [
        "n = 1000\n",
        "for i in range(n):\n",
        "  n = n+i\n",
        "print(n)"
      ],
      "metadata": {
        "colab": {
          "base_uri": "https://localhost:8080/"
        },
        "id": "uBtXsLbs20E-",
        "outputId": "83b4db4a-6238-4f71-c9e7-4c24f3aecca4"
      },
      "execution_count": null,
      "outputs": [
        {
          "output_type": "stream",
          "name": "stdout",
          "text": [
            "500500\n"
          ]
        }
      ]
    },
    {
      "cell_type": "code",
      "source": [
        "n = 1000000000\n",
        "\n",
        "s = n*((n+1)/2)\n",
        "\n",
        "print(s)"
      ],
      "metadata": {
        "colab": {
          "base_uri": "https://localhost:8080/"
        },
        "id": "u9Hs4A5A4aTy",
        "outputId": "4faa471e-ce0a-4f5a-93d8-9682c9da96d7"
      },
      "execution_count": null,
      "outputs": [
        {
          "output_type": "stream",
          "name": "stdout",
          "text": [
            "5.000000005e+17\n"
          ]
        }
      ]
    },
    {
      "cell_type": "code",
      "source": [
        "n = 0\n",
        "for i in range(1,1001):\n",
        "  n = n+i\n",
        "print(n)"
      ],
      "metadata": {
        "colab": {
          "base_uri": "https://localhost:8080/"
        },
        "id": "pX6KXg190jtB",
        "outputId": "2166c396-fecb-43fa-8a3e-18ab60037365"
      },
      "execution_count": null,
      "outputs": [
        {
          "output_type": "stream",
          "name": "stdout",
          "text": [
            "500500\n"
          ]
        }
      ]
    },
    {
      "cell_type": "code",
      "source": [],
      "metadata": {
        "id": "dFf7_-eX2yjb"
      },
      "execution_count": null,
      "outputs": []
    },
    {
      "cell_type": "markdown",
      "source": [
        "### 2. type"
      ],
      "metadata": {
        "id": "9f825qtymHNd"
      }
    },
    {
      "cell_type": "code",
      "source": [
        "print(type(12))\n",
        "print(type(12.5))\n",
        "print(type('Aman'))\n",
        "print(type(True))\n"
      ],
      "metadata": {
        "id": "cWVgfhDFmBdf"
      },
      "execution_count": null,
      "outputs": []
    },
    {
      "cell_type": "markdown",
      "source": [
        "### 3. Operators"
      ],
      "metadata": {
        "id": "Aau3Dsp7nd82"
      }
    },
    {
      "cell_type": "markdown",
      "source": [
        "#### 3.1) Arithmetic"
      ],
      "metadata": {
        "id": "YshmOlOAove9"
      }
    },
    {
      "cell_type": "markdown",
      "source": [
        "####3.1.2) Int - Float"
      ],
      "metadata": {
        "id": "D_vTMy-FsSdz"
      }
    },
    {
      "cell_type": "code",
      "source": [],
      "metadata": {
        "id": "0eJQm2nKsc-B"
      },
      "execution_count": null,
      "outputs": []
    },
    {
      "cell_type": "markdown",
      "source": [],
      "metadata": {
        "id": "lwLihg4ssSaa"
      }
    },
    {
      "cell_type": "code",
      "source": [],
      "metadata": {
        "id": "LH3I0JAjoChY"
      },
      "execution_count": null,
      "outputs": []
    },
    {
      "cell_type": "code",
      "source": [],
      "metadata": {
        "id": "LQo2iWLSocHS"
      },
      "execution_count": null,
      "outputs": []
    },
    {
      "cell_type": "code",
      "source": [],
      "metadata": {
        "id": "Tjh6KQbhocD6"
      },
      "execution_count": null,
      "outputs": []
    },
    {
      "cell_type": "code",
      "source": [],
      "metadata": {
        "id": "8x4vQ0w2ocBa"
      },
      "execution_count": null,
      "outputs": []
    },
    {
      "cell_type": "markdown",
      "source": [
        "### 4. typecasting"
      ],
      "metadata": {
        "id": "NwoXutXGpQVr"
      }
    },
    {
      "cell_type": "markdown",
      "source": [
        "### 4.1) Int"
      ],
      "metadata": {
        "id": "mHleAnXu0097"
      }
    },
    {
      "cell_type": "code",
      "source": [
        "print(12+5)\n",
        "print(12-5)\n",
        "print(12*5)\n",
        "print(12/5)\n",
        "print(12//5)\n",
        "print(12%5)\n",
        "print(12**12)"
      ],
      "metadata": {
        "id": "g8Ma0Fm6ob-B"
      },
      "execution_count": null,
      "outputs": []
    },
    {
      "cell_type": "markdown",
      "source": [],
      "metadata": {
        "id": "KVbofkI4sOgj"
      }
    },
    {
      "cell_type": "code",
      "source": [
        "print ('\\n\\tAMANULLAH')\n",
        "print ('CHAND')"
      ],
      "metadata": {
        "id": "Aib2Gowiob7g"
      },
      "execution_count": null,
      "outputs": []
    },
    {
      "cell_type": "code",
      "source": [
        "print(11, 2.5, True, 'Amanullah')"
      ],
      "metadata": {
        "id": "hlOs7pLSAPWb"
      },
      "execution_count": null,
      "outputs": []
    },
    {
      "cell_type": "markdown",
      "source": [
        "### 5. Conditionals"
      ],
      "metadata": {
        "id": "he6dZRnYon2_"
      }
    },
    {
      "cell_type": "code",
      "source": [
        "n = 35\n",
        "if (n%5 == 0) and (n%7 == 0):\n",
        "  print('Divisible')\n"
      ],
      "metadata": {
        "id": "cLf4fLLApsy4",
        "colab": {
          "base_uri": "https://localhost:8080/"
        },
        "outputId": "58be4c3e-c8b2-4bae-ad10-ba1ca6a9603d"
      },
      "execution_count": null,
      "outputs": [
        {
          "output_type": "stream",
          "name": "stdout",
          "text": [
            "Divisible\n"
          ]
        }
      ]
    },
    {
      "cell_type": "markdown",
      "source": [
        "#Find a number which is divisible by 5 & 7 between 1-100"
      ],
      "metadata": {
        "id": "WXnPL01O_WvI"
      }
    },
    {
      "cell_type": "code",
      "source": [
        "for n in range(1,101):\n",
        "\n",
        "  if n%5 == 0 and n%7 == 0:\n",
        "    print(n)"
      ],
      "metadata": {
        "colab": {
          "base_uri": "https://localhost:8080/"
        },
        "id": "-71UFESj_iQ3",
        "outputId": "9bb71c42-b8a6-4221-87f5-14921ec91197"
      },
      "execution_count": null,
      "outputs": [
        {
          "output_type": "stream",
          "name": "stdout",
          "text": [
            "35\n",
            "70\n"
          ]
        }
      ]
    },
    {
      "cell_type": "code",
      "source": [],
      "metadata": {
        "id": "OyciPpixFAjU"
      },
      "execution_count": null,
      "outputs": []
    },
    {
      "cell_type": "markdown",
      "source": [
        "## Palindrom - A number which is same in count/read from both(left and right) side. eg - 12321, asdsa, abcba, nitin etc"
      ],
      "metadata": {
        "id": "6M62KZ_FFBia"
      }
    },
    {
      "cell_type": "code",
      "source": [
        "n = 12321\n",
        "n = str(n)\n",
        "rev = n[::-1]\n",
        "\n",
        "if (n == rev):\n",
        "  print('Palindrom')"
      ],
      "metadata": {
        "colab": {
          "base_uri": "https://localhost:8080/"
        },
        "id": "_eL7tiPUFZVt",
        "outputId": "10386344-2f8d-444f-faaf-3b0ad8269db2"
      },
      "execution_count": null,
      "outputs": [
        {
          "output_type": "stream",
          "name": "stdout",
          "text": [
            "Palindrom\n"
          ]
        }
      ]
    },
    {
      "cell_type": "code",
      "source": [
        "name = 'Aman'\n",
        "\n",
        "print(name[-1])"
      ],
      "metadata": {
        "colab": {
          "base_uri": "https://localhost:8080/"
        },
        "id": "kKlxTyyYJfd9",
        "outputId": "49fce562-9ec6-4798-f8d9-d6f695c1fa5f"
      },
      "execution_count": null,
      "outputs": [
        {
          "output_type": "stream",
          "name": "stdout",
          "text": [
            "n\n"
          ]
        }
      ]
    },
    {
      "cell_type": "code",
      "source": [
        "name = 'Aman'\n",
        "\n",
        "print(name[-2])"
      ],
      "metadata": {
        "colab": {
          "base_uri": "https://localhost:8080/"
        },
        "id": "tBKf2CIrJ36c",
        "outputId": "344470c4-fbf2-42a4-94d9-c487f2a25483"
      },
      "execution_count": null,
      "outputs": [
        {
          "output_type": "stream",
          "name": "stdout",
          "text": [
            "a\n"
          ]
        }
      ]
    },
    {
      "cell_type": "code",
      "source": [
        "name = 'Aman'\n",
        "\n",
        "print(name[-3])"
      ],
      "metadata": {
        "colab": {
          "base_uri": "https://localhost:8080/"
        },
        "id": "WYgdNCHQJ6Mj",
        "outputId": "9f7811e0-d0fc-4486-9924-5f252efe7d03"
      },
      "execution_count": null,
      "outputs": [
        {
          "output_type": "stream",
          "name": "stdout",
          "text": [
            "m\n"
          ]
        }
      ]
    },
    {
      "cell_type": "code",
      "source": [
        "name = 'Amasjdbcuiasdh'\n",
        "print(name[len(name)-5])"
      ],
      "metadata": {
        "colab": {
          "base_uri": "https://localhost:8080/"
        },
        "id": "QsK48HYnKcco",
        "outputId": "ac77be92-bbaf-41b4-ef6e-8ddc1e4f6047"
      },
      "execution_count": null,
      "outputs": [
        {
          "output_type": "stream",
          "name": "stdout",
          "text": [
            "i\n"
          ]
        }
      ]
    },
    {
      "cell_type": "code",
      "source": [
        "name = 'Amasjdbcuiasdh'\n",
        "print(name[len(name)-8])"
      ],
      "metadata": {
        "colab": {
          "base_uri": "https://localhost:8080/"
        },
        "id": "8gavZUYwKn1y",
        "outputId": "35972e06-48fe-4378-97ff-0b08db69d2f3"
      },
      "execution_count": null,
      "outputs": [
        {
          "output_type": "stream",
          "name": "stdout",
          "text": [
            "b\n"
          ]
        }
      ]
    },
    {
      "cell_type": "code",
      "source": [
        "name = 'Amanullah'\n",
        "print(name[1:-1])"
      ],
      "metadata": {
        "colab": {
          "base_uri": "https://localhost:8080/"
        },
        "id": "3TgFdcjgMRSo",
        "outputId": "3ab39afe-99d2-484b-ddf1-97a8ff803b52"
      },
      "execution_count": null,
      "outputs": [
        {
          "output_type": "stream",
          "name": "stdout",
          "text": [
            "manulla\n"
          ]
        }
      ]
    },
    {
      "cell_type": "code",
      "source": [
        "name = 'Amanullah'\n",
        "print(name[::-2])"
      ],
      "metadata": {
        "colab": {
          "base_uri": "https://localhost:8080/"
        },
        "id": "npCXT7b8Nlj6",
        "outputId": "82818d72-2a10-483b-c1e1-e5918006da5f"
      },
      "execution_count": null,
      "outputs": [
        {
          "output_type": "stream",
          "name": "stdout",
          "text": [
            "hluaA\n"
          ]
        }
      ]
    },
    {
      "cell_type": "code",
      "source": [
        "name = 'Amanullah kjaskjbs kajbskjbcs ajbduiagsc sn zxkuh sdjbxvj'\n",
        "print(name[::-2])"
      ],
      "metadata": {
        "colab": {
          "base_uri": "https://localhost:8080/"
        },
        "id": "SucEfapNN4EH",
        "outputId": "f466d734-8317-4a04-f799-bf185123c342"
      },
      "execution_count": null,
      "outputs": [
        {
          "output_type": "stream",
          "name": "stdout",
          "text": [
            "jxjshkzn saubasbkba bkakhluaA\n"
          ]
        }
      ]
    },
    {
      "cell_type": "code",
      "source": [
        "n = 45\n",
        "if (n%5 == 0) and (n%7 == 0):\n",
        "  print('Divisible')\n",
        "\n",
        "if (n%5 != 0) and (n%7 != 0):\n",
        "  print('Not Divisible')"
      ],
      "metadata": {
        "id": "voN4252Nrt4L"
      },
      "execution_count": null,
      "outputs": []
    },
    {
      "cell_type": "code",
      "source": [
        "n = 32\n",
        "\n",
        "if (n%5 == 0) and (n%7 == 0):\n",
        "  print('Divisible')\n",
        "\n",
        "else:\n",
        "  print('Not Divisible')"
      ],
      "metadata": {
        "id": "QqWrjYfRzrnI"
      },
      "execution_count": null,
      "outputs": []
    },
    {
      "cell_type": "code",
      "source": [
        "if True:\n",
        " print ('Divisible')"
      ],
      "metadata": {
        "id": "JrYVvL4TsUVz"
      },
      "execution_count": null,
      "outputs": []
    },
    {
      "cell_type": "code",
      "source": [
        "n = 10\n",
        "if True:\n",
        " print ('Divisible')"
      ],
      "metadata": {
        "id": "pCbLHK6S2my6"
      },
      "execution_count": null,
      "outputs": []
    },
    {
      "cell_type": "code",
      "source": [
        "n = 12\n",
        "if True:\n",
        " print ('Divisible')"
      ],
      "metadata": {
        "id": "Zk5GmH7B2sMQ"
      },
      "execution_count": null,
      "outputs": []
    },
    {
      "cell_type": "code",
      "source": [],
      "metadata": {
        "id": "aDe5xtzFsQDY"
      },
      "execution_count": null,
      "outputs": []
    },
    {
      "cell_type": "markdown",
      "source": [
        "a = 3 b = 2, c = 1. type them in one"
      ],
      "metadata": {
        "id": "0DmMCootoALK"
      }
    },
    {
      "cell_type": "code",
      "source": [
        "a = 3\n",
        "b = 2\n",
        "c = 1\n",
        "print(str(a) + str(b) + str(c))"
      ],
      "metadata": {
        "id": "Ld-tutR7kFl0"
      },
      "execution_count": null,
      "outputs": []
    },
    {
      "cell_type": "code",
      "source": [
        "a = 3\n",
        "b = 2\n",
        "c = 1\n",
        "print(a, end = '')\n",
        "print(b, end = '')\n",
        "print(c)"
      ],
      "metadata": {
        "id": "qWyK6YXDnrCb"
      },
      "execution_count": null,
      "outputs": []
    },
    {
      "cell_type": "markdown",
      "source": [],
      "metadata": {
        "id": "ceHJMvgPj1hf"
      }
    },
    {
      "cell_type": "markdown",
      "source": [
        "5 - 5 not 7 not 9 7 - 7 not 5 not 9 9 - 9 not 5 not 7 (5,7) - not 9 (5,9) - not 7 (9,7) - not 5"
      ],
      "metadata": {
        "id": "ydMsqM2t3RYz"
      }
    },
    {
      "cell_type": "code",
      "source": [
        "n = 35\n",
        "\n",
        "if n <= 100 and n>= 0:\n",
        "  if n%5 == 0 and n%7 == 0 or n%9 == 0:\n",
        "    print ('by 5 not 7 not 9')\n",
        "  elif n%7 == 0:\n",
        "    print ('by 7 not 5 not 9')\n",
        "  elif n%9 == 0:\n",
        "    print ('by 9 not 7 not 9')\n",
        "\n",
        "else:\n",
        "  print('Not in range')"
      ],
      "metadata": {
        "id": "Vta2mcJwob4Z"
      },
      "execution_count": null,
      "outputs": []
    },
    {
      "cell_type": "markdown",
      "source": [
        "1. Number is Even or Odd"
      ],
      "metadata": {
        "id": "aZpRBK184JfH"
      }
    },
    {
      "cell_type": "code",
      "source": [
        "n = 13\n",
        "\n",
        "if n%2 == 0:\n",
        " print ('Even')\n",
        "else:\n",
        "  print ('Odd')\n",
        "\n"
      ],
      "metadata": {
        "id": "PoIcyq-H4KvY",
        "colab": {
          "base_uri": "https://localhost:8080/"
        },
        "outputId": "4f8deae2-81d0-4dbb-e7fc-b4265058e4a9"
      },
      "execution_count": null,
      "outputs": [
        {
          "output_type": "stream",
          "name": "stdout",
          "text": [
            "Odd\n"
          ]
        }
      ]
    },
    {
      "cell_type": "code",
      "source": [
        "n = int(input ('Enter a Number:'))\n",
        "\n",
        "if n%2 == 0:\n",
        " print ('Even')\n",
        "else:\n",
        "  print ('Odd')\n"
      ],
      "metadata": {
        "id": "p5gZL38a5inI"
      },
      "execution_count": null,
      "outputs": []
    },
    {
      "cell_type": "code",
      "source": [
        "## 2. Number is divisible by 5 & 7 but not 9 and must be off between (0,100)\n",
        "n = int(input ('Enter a number:'))\n",
        "if (n>0) and (n<=100) and (n%5==0) and (n%7==0) and (n%9!= 0):\n",
        "  print ('Divisible')\n",
        "\n",
        "else:\n",
        "  print ('Not Divisible')"
      ],
      "metadata": {
        "id": "wX6S91kgob1w"
      },
      "execution_count": null,
      "outputs": []
    },
    {
      "cell_type": "code",
      "source": [
        "## 2. Number is divisible by 5 or 7 but not 9 and must be off between (0,100)\n",
        "n = int(input ('Enter a number:'))\n",
        "if (n>0) and (n<=100) and ((n%5==0) or (n%7==0)) and (n%9!= 0):\n",
        "  print ('Divisible')\n",
        "\n",
        "else:\n",
        "  print ('Not Divisible')"
      ],
      "metadata": {
        "id": "lCHfPiaoFk4I"
      },
      "execution_count": null,
      "outputs": []
    },
    {
      "cell_type": "code",
      "source": [
        "n = 15\n",
        "if (n%5 == 0):\n",
        "  print('by 5')\n",
        "if (n%7 == 0):\n",
        "  print('by 7')"
      ],
      "metadata": {
        "id": "_FAHFfzeobnk"
      },
      "execution_count": null,
      "outputs": []
    },
    {
      "cell_type": "code",
      "source": [
        "n = 35\n",
        "\n",
        "if (n%5 == 0):\n",
        "  print('by 5')\n",
        "elif (n%7 == 0):\n",
        "  print('by 7')\n",
        "elif ('by 9')\n",
        "  print ('by 9')\n"
      ],
      "metadata": {
        "id": "m-Rc1Q7SHctJ"
      },
      "execution_count": null,
      "outputs": []
    },
    {
      "cell_type": "code",
      "source": [
        "n = 35\n",
        "if (n%5 == 0):\n",
        "  print('by 5')\n",
        "if (n%7 == 0):\n",
        "  print('by 7')\n",
        "if (n%9 == 0):\n",
        "  print('by 9')"
      ],
      "metadata": {
        "id": "3gTexdq1IEfL"
      },
      "execution_count": null,
      "outputs": []
    },
    {
      "cell_type": "code",
      "source": [
        "n = 3512\n",
        "\n",
        "if (n%5 == 0):\n",
        "  print('by 5')\n",
        "elif (n%7 == 0):\n",
        "  print('by 7')\n",
        "elif (n%9 == 0):\n",
        "  print ('by 9')\n",
        "else:\n",
        "  print('Sorry')"
      ],
      "metadata": {
        "id": "H2Dq69LxMPb_",
        "colab": {
          "base_uri": "https://localhost:8080/"
        },
        "outputId": "e36a211d-515e-48bf-8132-76de89cbaa96"
      },
      "execution_count": null,
      "outputs": [
        {
          "output_type": "stream",
          "name": "stdout",
          "text": [
            "Sorry\n"
          ]
        }
      ]
    },
    {
      "cell_type": "code",
      "source": [
        "if (n>=0) and (n<=100) and ((n%5 == 0) or (n%7 == 0)) and not (n%9 == 0):\n",
        "  print('Divisible')"
      ],
      "metadata": {
        "id": "9jp65_cuOFnF"
      },
      "execution_count": null,
      "outputs": []
    },
    {
      "cell_type": "code",
      "source": [
        "n = 13\n",
        "if n<= 100 and n>= 0:\n",
        "  if n%5 == 0:\n",
        "    print('by 5')\n",
        "  elif n%7 ==0:\n",
        "    print('by 7')\n",
        "  elif n%9 == 0:\n",
        "    print('by 9')\n",
        "  else:\n",
        "    print('Not 5,7,9')\n",
        "else:\n",
        "  print('Not in Range')"
      ],
      "metadata": {
        "id": "huTu5mIDPpOn",
        "colab": {
          "base_uri": "https://localhost:8080/"
        },
        "outputId": "e409e10a-6b2d-476d-dab1-0e328f2acb84"
      },
      "execution_count": null,
      "outputs": [
        {
          "output_type": "stream",
          "name": "stdout",
          "text": [
            "Not 5,7,9\n"
          ]
        }
      ]
    },
    {
      "cell_type": "code",
      "source": [],
      "metadata": {
        "id": "zkfhZlY-3DtU"
      },
      "execution_count": null,
      "outputs": []
    },
    {
      "cell_type": "markdown",
      "source": [
        "### 6. Loops"
      ],
      "metadata": {
        "id": "ZHf07HPwXPYY"
      }
    },
    {
      "cell_type": "code",
      "source": [
        "n = 13\n",
        "for i in range(1,11):\n",
        "  print(n,'*',i,'=',n*i)\n"
      ],
      "metadata": {
        "colab": {
          "base_uri": "https://localhost:8080/"
        },
        "id": "IrGEpK4dl2w9",
        "outputId": "76eb0f81-65fc-43a9-eab4-9b2d05ada4ab"
      },
      "execution_count": null,
      "outputs": [
        {
          "output_type": "stream",
          "name": "stdout",
          "text": [
            "13 * 1 = 13\n",
            "13 * 2 = 26\n",
            "13 * 3 = 39\n",
            "13 * 4 = 52\n",
            "13 * 5 = 65\n",
            "13 * 6 = 78\n",
            "13 * 7 = 91\n",
            "13 * 8 = 104\n",
            "13 * 9 = 117\n",
            "13 * 10 = 130\n"
          ]
        }
      ]
    },
    {
      "cell_type": "code",
      "source": [
        "for i in range(5,51,5):\n",
        "  print(i)"
      ],
      "metadata": {
        "colab": {
          "base_uri": "https://localhost:8080/"
        },
        "id": "KJZi_uFZ88Dy",
        "outputId": "5107a23b-eb10-46fe-8216-38205aec92e3"
      },
      "execution_count": null,
      "outputs": [
        {
          "output_type": "stream",
          "name": "stdout",
          "text": [
            "5\n",
            "10\n",
            "15\n",
            "20\n",
            "25\n",
            "30\n",
            "35\n",
            "40\n",
            "45\n",
            "50\n"
          ]
        }
      ]
    },
    {
      "cell_type": "code",
      "source": [
        "n= 19\n",
        "for i in range(n,n*10 + 1,n):\n",
        "  print(i)"
      ],
      "metadata": {
        "colab": {
          "base_uri": "https://localhost:8080/"
        },
        "id": "NHG-JutE-kke",
        "outputId": "87409071-2b93-4e22-e6c1-8619d75ec6e0"
      },
      "execution_count": null,
      "outputs": [
        {
          "output_type": "stream",
          "name": "stdout",
          "text": [
            "19\n",
            "38\n",
            "57\n",
            "76\n",
            "95\n",
            "114\n",
            "133\n",
            "152\n",
            "171\n",
            "190\n"
          ]
        }
      ]
    },
    {
      "cell_type": "code",
      "source": [
        "n = 19\n",
        "for i in range(1,11, 19):\n",
        "  print(i,'*',i, '=', n*i)"
      ],
      "metadata": {
        "colab": {
          "base_uri": "https://localhost:8080/"
        },
        "id": "olM9TUhbXQDF",
        "outputId": "b6ce1e64-7ebe-4bb3-ad1c-06db59b9bd9c"
      },
      "execution_count": null,
      "outputs": [
        {
          "output_type": "stream",
          "name": "stdout",
          "text": [
            "1 * 1 = 19\n",
            "2 * 2 = 38\n",
            "3 * 3 = 57\n",
            "4 * 4 = 76\n",
            "5 * 5 = 95\n",
            "6 * 6 = 114\n",
            "7 * 7 = 133\n",
            "8 * 8 = 152\n",
            "9 * 9 = 171\n",
            "10 * 10 = 190\n"
          ]
        }
      ]
    },
    {
      "cell_type": "code",
      "source": [
        "n = 19\n",
        "for i in range(n*10,n-1,-n):\n",
        "  print(n)"
      ],
      "metadata": {
        "id": "Z9xgnAhFc-QQ",
        "colab": {
          "base_uri": "https://localhost:8080/"
        },
        "outputId": "ae361e71-36b4-4125-9172-30978d75261d"
      },
      "execution_count": null,
      "outputs": [
        {
          "output_type": "stream",
          "name": "stdout",
          "text": [
            "19\n",
            "19\n",
            "19\n",
            "19\n",
            "19\n",
            "19\n",
            "19\n",
            "19\n",
            "19\n",
            "19\n"
          ]
        }
      ]
    },
    {
      "cell_type": "code",
      "source": [
        "n = 100\n",
        "for i in range(1,101):\n",
        "  print(n*(n+1)/5)"
      ],
      "metadata": {
        "colab": {
          "base_uri": "https://localhost:8080/"
        },
        "id": "LCBJZMq1irsy",
        "outputId": "e4e17168-858d-4dd4-dd93-a352df72e7b0"
      },
      "execution_count": null,
      "outputs": [
        {
          "output_type": "stream",
          "name": "stdout",
          "text": [
            "2020.0\n",
            "2020.0\n",
            "2020.0\n",
            "2020.0\n",
            "2020.0\n",
            "2020.0\n",
            "2020.0\n",
            "2020.0\n",
            "2020.0\n",
            "2020.0\n",
            "2020.0\n",
            "2020.0\n",
            "2020.0\n",
            "2020.0\n",
            "2020.0\n",
            "2020.0\n",
            "2020.0\n",
            "2020.0\n",
            "2020.0\n",
            "2020.0\n",
            "2020.0\n",
            "2020.0\n",
            "2020.0\n",
            "2020.0\n",
            "2020.0\n",
            "2020.0\n",
            "2020.0\n",
            "2020.0\n",
            "2020.0\n",
            "2020.0\n",
            "2020.0\n",
            "2020.0\n",
            "2020.0\n",
            "2020.0\n",
            "2020.0\n",
            "2020.0\n",
            "2020.0\n",
            "2020.0\n",
            "2020.0\n",
            "2020.0\n",
            "2020.0\n",
            "2020.0\n",
            "2020.0\n",
            "2020.0\n",
            "2020.0\n",
            "2020.0\n",
            "2020.0\n",
            "2020.0\n",
            "2020.0\n",
            "2020.0\n",
            "2020.0\n",
            "2020.0\n",
            "2020.0\n",
            "2020.0\n",
            "2020.0\n",
            "2020.0\n",
            "2020.0\n",
            "2020.0\n",
            "2020.0\n",
            "2020.0\n",
            "2020.0\n",
            "2020.0\n",
            "2020.0\n",
            "2020.0\n",
            "2020.0\n",
            "2020.0\n",
            "2020.0\n",
            "2020.0\n",
            "2020.0\n",
            "2020.0\n",
            "2020.0\n",
            "2020.0\n",
            "2020.0\n",
            "2020.0\n",
            "2020.0\n",
            "2020.0\n",
            "2020.0\n",
            "2020.0\n",
            "2020.0\n",
            "2020.0\n",
            "2020.0\n",
            "2020.0\n",
            "2020.0\n",
            "2020.0\n",
            "2020.0\n",
            "2020.0\n",
            "2020.0\n",
            "2020.0\n",
            "2020.0\n",
            "2020.0\n",
            "2020.0\n",
            "2020.0\n",
            "2020.0\n",
            "2020.0\n",
            "2020.0\n",
            "2020.0\n",
            "2020.0\n",
            "2020.0\n",
            "2020.0\n",
            "2020.0\n"
          ]
        }
      ]
    },
    {
      "cell_type": "code",
      "source": [
        "n = 1000\n",
        "for i in range(n):\n",
        "  n = n + i\n",
        "print(n)\n"
      ],
      "metadata": {
        "colab": {
          "base_uri": "https://localhost:8080/"
        },
        "id": "Qm4gcvvdfBQe",
        "outputId": "31d7094f-8d71-42a7-ffc1-5a5eafa0dd5c"
      },
      "execution_count": null,
      "outputs": [
        {
          "output_type": "stream",
          "name": "stdout",
          "text": [
            "500500\n"
          ]
        }
      ]
    },
    {
      "cell_type": "markdown",
      "source": [],
      "metadata": {
        "id": "7vUY4wagaeRE"
      }
    },
    {
      "cell_type": "code",
      "source": [
        "n = 13416516459\n",
        "\n",
        "isPrime = True\n",
        "\n",
        "for i in range(2,n):\n",
        "  if (n%i==0):\n",
        "    print(i)\n",
        "    isPrime = False\n",
        "    break\n",
        "\n",
        "if isPrime == False:\n",
        "    print('Prime')\n",
        "else:\n",
        "  print('nap')"
      ],
      "metadata": {
        "id": "dMocSWVxaew0",
        "colab": {
          "base_uri": "https://localhost:8080/"
        },
        "outputId": "50450498-021a-4a82-f26f-b6b77cf5d422"
      },
      "execution_count": null,
      "outputs": [
        {
          "output_type": "stream",
          "name": "stdout",
          "text": [
            "3\n",
            "Prime\n"
          ]
        }
      ]
    },
    {
      "cell_type": "code",
      "source": [
        "for n in range(2,1001):\n",
        "  isPrime = True\n",
        "\n",
        "  for i in range(2,n):\n",
        "    if (n%i == 0):\n",
        "      isPrime = False\n",
        "      break\n",
        "\n",
        "if isPrime:\n",
        "  print(n)\n"
      ],
      "metadata": {
        "id": "AvDemrpHCSkR"
      },
      "execution_count": null,
      "outputs": []
    },
    {
      "cell_type": "code",
      "source": [
        "count = 0\n",
        "\n",
        "for n in range(2,1001):\n",
        "\n",
        "  isPrime = True\n",
        "\n",
        "  for i in range(2,n):\n",
        "    if (n%i == 0):\n",
        "      isPrime = False\n",
        "      break\n",
        "\n",
        "    if isPrime:\n",
        "      count += 1\n",
        "  print(count)"
      ],
      "metadata": {
        "colab": {
          "base_uri": "https://localhost:8080/"
        },
        "id": "YuXEtjgtFsOv",
        "outputId": "73015168-9643-4c6c-b9b6-0e382be7faf6"
      },
      "execution_count": null,
      "outputs": [
        {
          "output_type": "stream",
          "name": "stdout",
          "text": [
            "0\n",
            "1\n",
            "1\n",
            "4\n",
            "4\n",
            "9\n",
            "9\n",
            "10\n",
            "10\n",
            "19\n",
            "19\n",
            "30\n",
            "30\n",
            "31\n",
            "31\n",
            "46\n",
            "46\n",
            "63\n",
            "63\n",
            "64\n",
            "64\n",
            "85\n",
            "85\n",
            "88\n",
            "88\n",
            "89\n",
            "89\n",
            "116\n",
            "116\n",
            "145\n",
            "145\n",
            "146\n",
            "146\n",
            "149\n",
            "149\n",
            "184\n",
            "184\n",
            "185\n",
            "185\n",
            "224\n",
            "224\n",
            "265\n",
            "265\n",
            "266\n",
            "266\n",
            "311\n",
            "311\n",
            "316\n",
            "316\n",
            "317\n",
            "317\n",
            "368\n",
            "368\n",
            "371\n",
            "371\n",
            "372\n",
            "372\n",
            "429\n",
            "429\n",
            "488\n",
            "488\n",
            "489\n",
            "489\n",
            "492\n",
            "492\n",
            "557\n",
            "557\n",
            "558\n",
            "558\n",
            "627\n",
            "627\n",
            "698\n",
            "698\n",
            "699\n",
            "699\n",
            "704\n",
            "704\n",
            "781\n",
            "781\n",
            "782\n",
            "782\n",
            "863\n",
            "863\n",
            "866\n",
            "866\n",
            "867\n",
            "867\n",
            "954\n",
            "954\n",
            "959\n",
            "959\n",
            "960\n",
            "960\n",
            "963\n",
            "963\n",
            "1058\n",
            "1058\n",
            "1059\n",
            "1059\n",
            "1158\n",
            "1158\n",
            "1259\n",
            "1259\n",
            "1260\n",
            "1260\n",
            "1365\n",
            "1365\n",
            "1472\n",
            "1472\n",
            "1473\n",
            "1473\n",
            "1584\n",
            "1584\n",
            "1587\n",
            "1587\n",
            "1588\n",
            "1588\n",
            "1593\n",
            "1593\n",
            "1602\n",
            "1602\n",
            "1603\n",
            "1603\n",
            "1606\n",
            "1606\n",
            "1731\n",
            "1731\n",
            "1732\n",
            "1732\n",
            "1861\n",
            "1861\n",
            "1866\n",
            "1866\n",
            "1867\n",
            "1867\n",
            "2002\n",
            "2002\n",
            "2139\n",
            "2139\n",
            "2140\n",
            "2140\n",
            "2149\n",
            "2149\n",
            "2152\n",
            "2152\n",
            "2153\n",
            "2153\n",
            "2300\n",
            "2300\n",
            "2449\n",
            "2449\n",
            "2450\n",
            "2450\n",
            "2453\n",
            "2453\n",
            "2608\n",
            "2608\n",
            "2609\n",
            "2609\n",
            "2614\n",
            "2614\n",
            "2775\n",
            "2775\n",
            "2776\n",
            "2776\n",
            "2941\n",
            "2941\n",
            "2952\n",
            "2952\n",
            "2953\n",
            "2953\n",
            "3124\n",
            "3124\n",
            "3127\n",
            "3127\n",
            "3128\n",
            "3128\n",
            "3305\n",
            "3305\n",
            "3484\n",
            "3484\n",
            "3485\n",
            "3485\n",
            "3488\n",
            "3488\n",
            "3497\n",
            "3497\n",
            "3498\n",
            "3498\n",
            "3687\n",
            "3687\n",
            "3878\n",
            "3878\n",
            "3879\n",
            "3879\n",
            "4074\n",
            "4074\n",
            "4271\n",
            "4271\n",
            "4272\n",
            "4272\n",
            "4277\n",
            "4277\n",
            "4280\n",
            "4280\n",
            "4281\n",
            "4281\n",
            "4290\n",
            "4290\n",
            "4499\n",
            "4499\n",
            "4500\n",
            "4500\n",
            "4503\n",
            "4503\n",
            "4508\n",
            "4508\n",
            "4509\n",
            "4509\n",
            "4520\n",
            "4520\n",
            "4741\n",
            "4741\n",
            "4742\n",
            "4742\n",
            "4967\n",
            "4967\n",
            "5194\n",
            "5194\n",
            "5195\n",
            "5195\n",
            "5426\n",
            "5426\n",
            "5429\n",
            "5429\n",
            "5430\n",
            "5430\n",
            "5667\n",
            "5667\n",
            "5906\n",
            "5906\n",
            "5907\n",
            "5907\n",
            "5910\n",
            "5910\n",
            "5921\n",
            "5921\n",
            "5922\n",
            "5922\n",
            "6171\n",
            "6171\n",
            "6180\n",
            "6180\n",
            "6181\n",
            "6181\n",
            "6436\n",
            "6436\n",
            "6441\n",
            "6441\n",
            "6442\n",
            "6442\n",
            "6703\n",
            "6703\n",
            "6706\n",
            "6706\n",
            "6707\n",
            "6707\n",
            "6974\n",
            "6974\n",
            "7243\n",
            "7243\n",
            "7244\n",
            "7244\n",
            "7247\n",
            "7247\n",
            "7522\n",
            "7522\n",
            "7523\n",
            "7523\n",
            "7802\n",
            "7802\n",
            "8083\n",
            "8083\n",
            "8084\n",
            "8084\n",
            "8089\n",
            "8089\n",
            "8104\n",
            "8104\n",
            "8105\n",
            "8105\n",
            "8396\n",
            "8396\n",
            "8399\n",
            "8399\n",
            "8400\n",
            "8400\n",
            "8411\n",
            "8411\n",
            "8416\n",
            "8416\n",
            "8417\n",
            "8417\n",
            "8420\n",
            "8420\n",
            "8725\n",
            "8725\n",
            "8726\n",
            "8726\n",
            "9035\n",
            "9035\n",
            "9346\n",
            "9346\n",
            "9347\n",
            "9347\n",
            "9662\n",
            "9662\n",
            "9671\n",
            "9671\n",
            "9672\n",
            "9672\n",
            "9687\n",
            "9687\n",
            "9690\n",
            "9690\n",
            "9691\n",
            "9691\n",
            "9696\n",
            "9696\n",
            "10025\n",
            "10025\n",
            "10026\n",
            "10026\n",
            "10029\n",
            "10029\n",
            "10364\n",
            "10364\n",
            "10365\n",
            "10365\n",
            "10374\n",
            "10374\n",
            "10379\n",
            "10379\n",
            "10380\n",
            "10380\n",
            "10725\n",
            "10725\n",
            "11072\n",
            "11072\n",
            "11073\n",
            "11073\n",
            "11424\n",
            "11424\n",
            "11427\n",
            "11427\n",
            "11428\n",
            "11428\n",
            "11785\n",
            "11785\n",
            "11802\n",
            "11802\n",
            "11803\n",
            "11803\n",
            "11806\n",
            "11806\n",
            "12171\n",
            "12171\n",
            "12172\n",
            "12172\n",
            "12177\n",
            "12177\n",
            "12548\n",
            "12548\n",
            "12549\n",
            "12549\n",
            "12560\n",
            "12560\n",
            "12937\n",
            "12937\n",
            "12938\n",
            "12938\n",
            "13319\n",
            "13319\n",
            "13322\n",
            "13322\n",
            "13323\n",
            "13323\n",
            "13710\n",
            "13710\n",
            "13725\n",
            "13725\n",
            "13726\n",
            "13726\n",
            "13729\n",
            "13729\n",
            "14124\n",
            "14124\n",
            "14125\n",
            "14125\n",
            "14524\n",
            "14524\n",
            "14535\n",
            "14535\n",
            "14536\n",
            "14536\n",
            "14545\n",
            "14545\n",
            "14952\n",
            "14952\n",
            "14953\n",
            "14953\n",
            "14958\n",
            "14958\n",
            "14961\n",
            "14961\n",
            "14962\n",
            "14962\n",
            "15379\n",
            "15379\n",
            "15798\n",
            "15798\n",
            "15799\n",
            "15799\n",
            "15802\n",
            "15802\n",
            "15807\n",
            "15807\n",
            "15808\n",
            "15808\n",
            "16237\n",
            "16237\n",
            "16668\n",
            "16668\n",
            "16669\n",
            "16669\n",
            "16686\n",
            "16686\n",
            "17123\n",
            "17123\n",
            "17124\n",
            "17124\n",
            "17565\n",
            "17565\n",
            "17568\n",
            "17568\n",
            "17569\n",
            "17569\n",
            "18016\n",
            "18016\n",
            "18025\n",
            "18025\n",
            "18026\n",
            "18026\n",
            "18029\n",
            "18029\n",
            "18484\n",
            "18484\n",
            "18485\n",
            "18485\n",
            "18944\n",
            "18944\n",
            "19405\n",
            "19405\n",
            "19406\n",
            "19406\n",
            "19871\n",
            "19871\n",
            "19876\n",
            "19876\n",
            "19877\n",
            "19877\n",
            "19886\n",
            "19886\n",
            "19889\n",
            "19889\n",
            "19890\n",
            "19890\n",
            "20367\n",
            "20367\n",
            "20378\n",
            "20378\n",
            "20379\n",
            "20379\n",
            "20382\n",
            "20382\n",
            "20867\n",
            "20867\n",
            "20868\n",
            "20868\n",
            "21357\n",
            "21357\n",
            "21372\n",
            "21372\n",
            "21373\n",
            "21373\n",
            "21378\n",
            "21378\n",
            "21875\n",
            "21875\n",
            "21876\n",
            "21876\n",
            "22377\n",
            "22377\n",
            "22380\n",
            "22380\n",
            "22381\n",
            "22381\n",
            "22888\n",
            "22888\n",
            "22893\n",
            "22893\n",
            "22894\n",
            "22894\n",
            "22897\n",
            "22897\n",
            "22906\n",
            "22906\n",
            "22907\n",
            "22907\n",
            "23426\n",
            "23426\n",
            "23947\n",
            "23947\n",
            "23948\n",
            "23948\n",
            "23963\n",
            "23963\n",
            "23984\n",
            "23984\n",
            "23985\n",
            "23985\n",
            "23996\n",
            "23996\n",
            "23999\n",
            "23999\n",
            "24000\n",
            "24000\n",
            "24005\n",
            "24005\n",
            "24544\n",
            "24544\n",
            "24545\n",
            "24545\n",
            "24548\n",
            "24548\n",
            "25093\n",
            "25093\n",
            "25094\n",
            "25094\n",
            "25111\n",
            "25111\n",
            "25116\n",
            "25116\n",
            "25117\n",
            "25117\n",
            "25672\n",
            "25672\n",
            "25683\n",
            "25683\n",
            "25684\n",
            "25684\n",
            "26245\n",
            "26245\n",
            "26248\n",
            "26248\n",
            "26249\n",
            "26249\n",
            "26816\n",
            "26816\n",
            "27385\n",
            "27385\n",
            "27386\n",
            "27386\n",
            "27389\n",
            "27389\n",
            "27964\n",
            "27964\n",
            "27965\n",
            "27965\n",
            "27970\n",
            "27970\n",
            "27979\n",
            "27979\n",
            "27980\n",
            "27980\n",
            "28565\n",
            "28565\n",
            "28582\n",
            "28582\n",
            "28583\n",
            "28583\n",
            "29174\n",
            "29174\n",
            "29177\n",
            "29177\n",
            "29178\n",
            "29178\n",
            "29775\n",
            "29775\n",
            "30374\n",
            "30374\n",
            "30375\n",
            "30375\n",
            "30378\n",
            "30378\n",
            "30983\n",
            "30983\n",
            "30984\n",
            "30984\n",
            "30995\n",
            "30995\n",
            "31606\n",
            "31606\n",
            "31607\n",
            "31607\n",
            "32222\n",
            "32222\n",
            "32839\n",
            "32839\n",
            "32840\n",
            "32840\n",
            "32845\n",
            "32845\n",
            "32848\n",
            "32848\n",
            "32849\n",
            "32849\n",
            "32864\n",
            "32864\n",
            "33493\n",
            "33493\n",
            "33494\n",
            "33494\n",
            "33497\n",
            "33497\n",
            "33502\n",
            "33502\n",
            "33503\n",
            "33503\n",
            "34142\n",
            "34142\n",
            "34783\n",
            "34783\n",
            "34784\n",
            "34784\n",
            "35429\n",
            "35429\n",
            "35438\n",
            "35438\n",
            "35439\n",
            "35439\n",
            "36090\n",
            "36090\n",
            "36093\n",
            "36093\n",
            "36094\n",
            "36094\n",
            "36751\n",
            "36751\n",
            "37410\n",
            "37410\n",
            "37411\n",
            "37411\n",
            "37414\n",
            "37414\n",
            "37435\n",
            "37435\n",
            "37436\n",
            "37436\n",
            "37445\n",
            "37445\n",
            "38116\n",
            "38116\n",
            "38117\n",
            "38117\n",
            "38792\n",
            "38792\n",
            "38797\n",
            "38797\n",
            "38798\n",
            "38798\n",
            "39479\n",
            "39479\n",
            "39482\n",
            "39482\n",
            "39483\n",
            "39483\n",
            "39494\n",
            "39494\n",
            "40183\n",
            "40183\n",
            "40184\n",
            "40184\n",
            "40187\n",
            "40187\n",
            "40202\n",
            "40202\n",
            "40203\n",
            "40203\n",
            "40902\n",
            "40902\n",
            "40919\n",
            "40919\n",
            "40920\n",
            "40920\n",
            "40925\n",
            "40925\n",
            "41632\n",
            "41632\n",
            "41633\n",
            "41633\n",
            "41654\n",
            "41654\n",
            "41657\n",
            "41657\n",
            "41658\n",
            "41658\n",
            "42375\n",
            "42375\n",
            "42380\n",
            "42380\n",
            "42381\n",
            "42381\n",
            "42384\n",
            "42384\n",
            "43109\n",
            "43109\n",
            "43110\n",
            "43110\n",
            "43125\n",
            "43125\n",
            "43856\n",
            "43856\n",
            "43857\n",
            "43857\n",
            "43866\n",
            "43866\n",
            "44603\n",
            "44603\n",
            "44604\n",
            "44604\n",
            "45345\n",
            "45345\n",
            "45348\n",
            "45348\n",
            "45349\n",
            "45349\n",
            "45354\n",
            "45354\n",
            "46103\n",
            "46103\n",
            "46104\n",
            "46104\n",
            "46107\n",
            "46107\n",
            "46862\n",
            "46862\n",
            "46863\n",
            "46863\n",
            "47622\n",
            "47622\n",
            "47627\n",
            "47627\n",
            "47628\n",
            "47628\n",
            "47639\n",
            "47639\n",
            "48406\n",
            "48406\n",
            "48407\n",
            "48407\n",
            "49178\n",
            "49178\n",
            "49181\n",
            "49181\n",
            "49182\n",
            "49182\n",
            "49199\n",
            "49199\n",
            "49208\n",
            "49208\n",
            "49209\n",
            "49209\n",
            "49212\n",
            "49212\n",
            "49997\n",
            "49997\n",
            "49998\n",
            "49998\n",
            "50003\n",
            "50003\n",
            "50014\n",
            "50014\n",
            "50015\n",
            "50015\n",
            "50810\n",
            "50810\n",
            "50825\n",
            "50825\n",
            "50826\n",
            "50826\n",
            "50835\n",
            "50835\n",
            "50838\n",
            "50838\n",
            "50839\n",
            "50839\n",
            "51646\n",
            "51646\n",
            "52455\n",
            "52455\n",
            "52456\n",
            "52456\n",
            "52459\n",
            "52459\n",
            "52476\n",
            "52476\n",
            "52477\n",
            "52477\n",
            "53296\n",
            "53296\n",
            "54117\n",
            "54117\n",
            "54118\n",
            "54118\n",
            "54943\n",
            "54943\n",
            "55770\n",
            "55770\n",
            "55771\n",
            "55771\n",
            "55776\n",
            "55776\n",
            "55779\n",
            "55779\n",
            "55780\n",
            "55780\n",
            "56617\n",
            "56617\n",
            "56644\n",
            "56644\n",
            "56645\n",
            "56645\n",
            "56648\n",
            "56648\n",
            "56653\n",
            "56653\n",
            "56654\n",
            "56654\n",
            "56675\n",
            "56675\n",
            "57526\n",
            "57526\n",
            "57527\n",
            "57527\n",
            "58382\n",
            "58382\n",
            "59239\n",
            "59239\n",
            "59240\n",
            "59240\n",
            "60101\n",
            "60101\n",
            "60104\n",
            "60104\n",
            "60105\n",
            "60105\n",
            "60114\n",
            "60114\n",
            "60125\n",
            "60125\n",
            "60126\n",
            "60126\n",
            "60129\n",
            "60129\n",
            "61004\n",
            "61004\n",
            "61005\n",
            "61005\n",
            "61884\n",
            "61884\n",
            "62765\n",
            "62765\n",
            "62766\n",
            "62766\n",
            "63651\n",
            "63651\n",
            "63656\n",
            "63656\n",
            "63657\n",
            "63657\n",
            "63674\n",
            "63674\n",
            "63677\n",
            "63677\n",
            "63678\n",
            "63678\n",
            "63705\n",
            "63705\n",
            "63720\n",
            "63720\n",
            "63721\n",
            "63721\n",
            "63724\n",
            "63724\n",
            "64629\n",
            "64629\n",
            "64630\n",
            "64630\n",
            "65539\n",
            "65539\n",
            "65548\n",
            "65548\n",
            "65549\n",
            "65549\n",
            "65554\n",
            "65554\n",
            "66471\n",
            "66471\n",
            "66472\n",
            "66472\n",
            "66483\n",
            "66483\n",
            "66486\n",
            "66486\n",
            "66487\n",
            "66487\n",
            "67414\n",
            "67414\n",
            "67419\n",
            "67419\n",
            "67420\n",
            "67420\n",
            "67423\n",
            "67423\n",
            "68358\n",
            "68358\n",
            "68359\n",
            "68359\n",
            "69298\n",
            "69298\n",
            "69319\n",
            "69319\n",
            "69320\n",
            "69320\n",
            "70265\n",
            "70265\n",
            "70276\n",
            "70276\n",
            "70277\n",
            "70277\n",
            "71228\n",
            "71228\n",
            "71231\n",
            "71231\n",
            "71232\n",
            "71232\n",
            "71237\n",
            "71237\n",
            "71266\n",
            "71266\n",
            "71267\n",
            "71267\n",
            "71270\n",
            "71270\n",
            "72235\n",
            "72235\n",
            "72236\n",
            "72236\n",
            "73205\n",
            "73205\n",
            "73210\n",
            "73210\n",
            "73211\n",
            "73211\n",
            "74186\n",
            "74186\n",
            "74195\n",
            "74195\n",
            "74196\n",
            "74196\n",
            "75177\n",
            "75177\n",
            "75180\n",
            "75180\n",
            "75181\n",
            "75181\n",
            "75202\n",
            "75202\n",
            "76191\n",
            "76191\n",
            "76192\n",
            "76192\n",
            "76195\n",
            "76195\n",
            "77190\n",
            "77190\n",
            "77191\n",
            "77191\n"
          ]
        }
      ]
    },
    {
      "cell_type": "code",
      "source": [
        "n = 3\n",
        "IsPrime = True\n",
        "\n",
        "for i in range(n):"
      ],
      "metadata": {
        "colab": {
          "base_uri": "https://localhost:8080/",
          "height": 110
        },
        "id": "QP6lOhKuB7_A",
        "outputId": "37eb8311-98ea-4e99-83ca-b79511f5d97e"
      },
      "execution_count": null,
      "outputs": [
        {
          "output_type": "error",
          "ename": "SyntaxError",
          "evalue": "expected ':' (<ipython-input-21-0421da7b6eca>, line 4)",
          "traceback": [
            "\u001b[0;36m  File \u001b[0;32m\"<ipython-input-21-0421da7b6eca>\"\u001b[0;36m, line \u001b[0;32m4\u001b[0m\n\u001b[0;31m    for i in range(n)\u001b[0m\n\u001b[0m                     ^\u001b[0m\n\u001b[0;31mSyntaxError\u001b[0m\u001b[0;31m:\u001b[0m expected ':'\n"
          ]
        }
      ]
    },
    {
      "cell_type": "code",
      "source": [
        "for i in range(2,n):\n",
        "  if (n%i == 0):\n",
        "    print(i)\n",
        "    isprime = False\n",
        "    break\n",
        "if isPrime:\n",
        "  print('Prime')\n",
        "else:\n",
        "  print('nap')"
      ],
      "metadata": {
        "colab": {
          "base_uri": "https://localhost:8080/"
        },
        "id": "m-8Oj4BfdohQ",
        "outputId": "d810955b-f208-477c-c660-cd4fe382dede"
      },
      "execution_count": null,
      "outputs": [
        {
          "output_type": "stream",
          "name": "stdout",
          "text": [
            "2\n",
            "Prime\n"
          ]
        }
      ]
    },
    {
      "cell_type": "code",
      "source": [
        "n = 3\n",
        "isPrime = True\n",
        "for i in range(2,n):\n",
        "  if (n%i == 0):\n",
        "    print(i)\n",
        "    isprime = False\n",
        "    break\n",
        "\n",
        "if isPrime:\n",
        "  print('Prime')\n",
        "else:\n",
        "  print('nap')"
      ],
      "metadata": {
        "colab": {
          "base_uri": "https://localhost:8080/"
        },
        "id": "UqSHo2-sezBM",
        "outputId": "0cfc817b-5b30-44f4-b2b7-5fec34187a2f"
      },
      "execution_count": null,
      "outputs": [
        {
          "output_type": "stream",
          "name": "stdout",
          "text": [
            "Prime\n"
          ]
        }
      ]
    },
    {
      "cell_type": "code",
      "source": [
        "for n in range (2,1001):\n",
        "  isPrime = True\n",
        "\n",
        "  for i in range(2,n):\n",
        "    if (n%i == 0):\n",
        "      isprime = False\n",
        "      break\n",
        "\n",
        "  if isPrime:\n",
        "    print(n)"
      ],
      "metadata": {
        "colab": {
          "base_uri": "https://localhost:8080/"
        },
        "id": "zzMhBNjYgqFb",
        "outputId": "4355475a-d266-44fb-98b8-1c90eacce26c"
      },
      "execution_count": null,
      "outputs": [
        {
          "output_type": "stream",
          "name": "stdout",
          "text": [
            "2\n",
            "3\n",
            "4\n",
            "5\n",
            "6\n",
            "7\n",
            "8\n",
            "9\n",
            "10\n",
            "11\n",
            "12\n",
            "13\n",
            "14\n",
            "15\n",
            "16\n",
            "17\n",
            "18\n",
            "19\n",
            "20\n",
            "21\n",
            "22\n",
            "23\n",
            "24\n",
            "25\n",
            "26\n",
            "27\n",
            "28\n",
            "29\n",
            "30\n",
            "31\n",
            "32\n",
            "33\n",
            "34\n",
            "35\n",
            "36\n",
            "37\n",
            "38\n",
            "39\n",
            "40\n",
            "41\n",
            "42\n",
            "43\n",
            "44\n",
            "45\n",
            "46\n",
            "47\n",
            "48\n",
            "49\n",
            "50\n",
            "51\n",
            "52\n",
            "53\n",
            "54\n",
            "55\n",
            "56\n",
            "57\n",
            "58\n",
            "59\n",
            "60\n",
            "61\n",
            "62\n",
            "63\n",
            "64\n",
            "65\n",
            "66\n",
            "67\n",
            "68\n",
            "69\n",
            "70\n",
            "71\n",
            "72\n",
            "73\n",
            "74\n",
            "75\n",
            "76\n",
            "77\n",
            "78\n",
            "79\n",
            "80\n",
            "81\n",
            "82\n",
            "83\n",
            "84\n",
            "85\n",
            "86\n",
            "87\n",
            "88\n",
            "89\n",
            "90\n",
            "91\n",
            "92\n",
            "93\n",
            "94\n",
            "95\n",
            "96\n",
            "97\n",
            "98\n",
            "99\n",
            "100\n",
            "101\n",
            "102\n",
            "103\n",
            "104\n",
            "105\n",
            "106\n",
            "107\n",
            "108\n",
            "109\n",
            "110\n",
            "111\n",
            "112\n",
            "113\n",
            "114\n",
            "115\n",
            "116\n",
            "117\n",
            "118\n",
            "119\n",
            "120\n",
            "121\n",
            "122\n",
            "123\n",
            "124\n",
            "125\n",
            "126\n",
            "127\n",
            "128\n",
            "129\n",
            "130\n",
            "131\n",
            "132\n",
            "133\n",
            "134\n",
            "135\n",
            "136\n",
            "137\n",
            "138\n",
            "139\n",
            "140\n",
            "141\n",
            "142\n",
            "143\n",
            "144\n",
            "145\n",
            "146\n",
            "147\n",
            "148\n",
            "149\n",
            "150\n",
            "151\n",
            "152\n",
            "153\n",
            "154\n",
            "155\n",
            "156\n",
            "157\n",
            "158\n",
            "159\n",
            "160\n",
            "161\n",
            "162\n",
            "163\n",
            "164\n",
            "165\n",
            "166\n",
            "167\n",
            "168\n",
            "169\n",
            "170\n",
            "171\n",
            "172\n",
            "173\n",
            "174\n",
            "175\n",
            "176\n",
            "177\n",
            "178\n",
            "179\n",
            "180\n",
            "181\n",
            "182\n",
            "183\n",
            "184\n",
            "185\n",
            "186\n",
            "187\n",
            "188\n",
            "189\n",
            "190\n",
            "191\n",
            "192\n",
            "193\n",
            "194\n",
            "195\n",
            "196\n",
            "197\n",
            "198\n",
            "199\n",
            "200\n",
            "201\n",
            "202\n",
            "203\n",
            "204\n",
            "205\n",
            "206\n",
            "207\n",
            "208\n",
            "209\n",
            "210\n",
            "211\n",
            "212\n",
            "213\n",
            "214\n",
            "215\n",
            "216\n",
            "217\n",
            "218\n",
            "219\n",
            "220\n",
            "221\n",
            "222\n",
            "223\n",
            "224\n",
            "225\n",
            "226\n",
            "227\n",
            "228\n",
            "229\n",
            "230\n",
            "231\n",
            "232\n",
            "233\n",
            "234\n",
            "235\n",
            "236\n",
            "237\n",
            "238\n",
            "239\n",
            "240\n",
            "241\n",
            "242\n",
            "243\n",
            "244\n",
            "245\n",
            "246\n",
            "247\n",
            "248\n",
            "249\n",
            "250\n",
            "251\n",
            "252\n",
            "253\n",
            "254\n",
            "255\n",
            "256\n",
            "257\n",
            "258\n",
            "259\n",
            "260\n",
            "261\n",
            "262\n",
            "263\n",
            "264\n",
            "265\n",
            "266\n",
            "267\n",
            "268\n",
            "269\n",
            "270\n",
            "271\n",
            "272\n",
            "273\n",
            "274\n",
            "275\n",
            "276\n",
            "277\n",
            "278\n",
            "279\n",
            "280\n",
            "281\n",
            "282\n",
            "283\n",
            "284\n",
            "285\n",
            "286\n",
            "287\n",
            "288\n",
            "289\n",
            "290\n",
            "291\n",
            "292\n",
            "293\n",
            "294\n",
            "295\n",
            "296\n",
            "297\n",
            "298\n",
            "299\n",
            "300\n",
            "301\n",
            "302\n",
            "303\n",
            "304\n",
            "305\n",
            "306\n",
            "307\n",
            "308\n",
            "309\n",
            "310\n",
            "311\n",
            "312\n",
            "313\n",
            "314\n",
            "315\n",
            "316\n",
            "317\n",
            "318\n",
            "319\n",
            "320\n",
            "321\n",
            "322\n",
            "323\n",
            "324\n",
            "325\n",
            "326\n",
            "327\n",
            "328\n",
            "329\n",
            "330\n",
            "331\n",
            "332\n",
            "333\n",
            "334\n",
            "335\n",
            "336\n",
            "337\n",
            "338\n",
            "339\n",
            "340\n",
            "341\n",
            "342\n",
            "343\n",
            "344\n",
            "345\n",
            "346\n",
            "347\n",
            "348\n",
            "349\n",
            "350\n",
            "351\n",
            "352\n",
            "353\n",
            "354\n",
            "355\n",
            "356\n",
            "357\n",
            "358\n",
            "359\n",
            "360\n",
            "361\n",
            "362\n",
            "363\n",
            "364\n",
            "365\n",
            "366\n",
            "367\n",
            "368\n",
            "369\n",
            "370\n",
            "371\n",
            "372\n",
            "373\n",
            "374\n",
            "375\n",
            "376\n",
            "377\n",
            "378\n",
            "379\n",
            "380\n",
            "381\n",
            "382\n",
            "383\n",
            "384\n",
            "385\n",
            "386\n",
            "387\n",
            "388\n",
            "389\n",
            "390\n",
            "391\n",
            "392\n",
            "393\n",
            "394\n",
            "395\n",
            "396\n",
            "397\n",
            "398\n",
            "399\n",
            "400\n",
            "401\n",
            "402\n",
            "403\n",
            "404\n",
            "405\n",
            "406\n",
            "407\n",
            "408\n",
            "409\n",
            "410\n",
            "411\n",
            "412\n",
            "413\n",
            "414\n",
            "415\n",
            "416\n",
            "417\n",
            "418\n",
            "419\n",
            "420\n",
            "421\n",
            "422\n",
            "423\n",
            "424\n",
            "425\n",
            "426\n",
            "427\n",
            "428\n",
            "429\n",
            "430\n",
            "431\n",
            "432\n",
            "433\n",
            "434\n",
            "435\n",
            "436\n",
            "437\n",
            "438\n",
            "439\n",
            "440\n",
            "441\n",
            "442\n",
            "443\n",
            "444\n",
            "445\n",
            "446\n",
            "447\n",
            "448\n",
            "449\n",
            "450\n",
            "451\n",
            "452\n",
            "453\n",
            "454\n",
            "455\n",
            "456\n",
            "457\n",
            "458\n",
            "459\n",
            "460\n",
            "461\n",
            "462\n",
            "463\n",
            "464\n",
            "465\n",
            "466\n",
            "467\n",
            "468\n",
            "469\n",
            "470\n",
            "471\n",
            "472\n",
            "473\n",
            "474\n",
            "475\n",
            "476\n",
            "477\n",
            "478\n",
            "479\n",
            "480\n",
            "481\n",
            "482\n",
            "483\n",
            "484\n",
            "485\n",
            "486\n",
            "487\n",
            "488\n",
            "489\n",
            "490\n",
            "491\n",
            "492\n",
            "493\n",
            "494\n",
            "495\n",
            "496\n",
            "497\n",
            "498\n",
            "499\n",
            "500\n",
            "501\n",
            "502\n",
            "503\n",
            "504\n",
            "505\n",
            "506\n",
            "507\n",
            "508\n",
            "509\n",
            "510\n",
            "511\n",
            "512\n",
            "513\n",
            "514\n",
            "515\n",
            "516\n",
            "517\n",
            "518\n",
            "519\n",
            "520\n",
            "521\n",
            "522\n",
            "523\n",
            "524\n",
            "525\n",
            "526\n",
            "527\n",
            "528\n",
            "529\n",
            "530\n",
            "531\n",
            "532\n",
            "533\n",
            "534\n",
            "535\n",
            "536\n",
            "537\n",
            "538\n",
            "539\n",
            "540\n",
            "541\n",
            "542\n",
            "543\n",
            "544\n",
            "545\n",
            "546\n",
            "547\n",
            "548\n",
            "549\n",
            "550\n",
            "551\n",
            "552\n",
            "553\n",
            "554\n",
            "555\n",
            "556\n",
            "557\n",
            "558\n",
            "559\n",
            "560\n",
            "561\n",
            "562\n",
            "563\n",
            "564\n",
            "565\n",
            "566\n",
            "567\n",
            "568\n",
            "569\n",
            "570\n",
            "571\n",
            "572\n",
            "573\n",
            "574\n",
            "575\n",
            "576\n",
            "577\n",
            "578\n",
            "579\n",
            "580\n",
            "581\n",
            "582\n",
            "583\n",
            "584\n",
            "585\n",
            "586\n",
            "587\n",
            "588\n",
            "589\n",
            "590\n",
            "591\n",
            "592\n",
            "593\n",
            "594\n",
            "595\n",
            "596\n",
            "597\n",
            "598\n",
            "599\n",
            "600\n",
            "601\n",
            "602\n",
            "603\n",
            "604\n",
            "605\n",
            "606\n",
            "607\n",
            "608\n",
            "609\n",
            "610\n",
            "611\n",
            "612\n",
            "613\n",
            "614\n",
            "615\n",
            "616\n",
            "617\n",
            "618\n",
            "619\n",
            "620\n",
            "621\n",
            "622\n",
            "623\n",
            "624\n",
            "625\n",
            "626\n",
            "627\n",
            "628\n",
            "629\n",
            "630\n",
            "631\n",
            "632\n",
            "633\n",
            "634\n",
            "635\n",
            "636\n",
            "637\n",
            "638\n",
            "639\n",
            "640\n",
            "641\n",
            "642\n",
            "643\n",
            "644\n",
            "645\n",
            "646\n",
            "647\n",
            "648\n",
            "649\n",
            "650\n",
            "651\n",
            "652\n",
            "653\n",
            "654\n",
            "655\n",
            "656\n",
            "657\n",
            "658\n",
            "659\n",
            "660\n",
            "661\n",
            "662\n",
            "663\n",
            "664\n",
            "665\n",
            "666\n",
            "667\n",
            "668\n",
            "669\n",
            "670\n",
            "671\n",
            "672\n",
            "673\n",
            "674\n",
            "675\n",
            "676\n",
            "677\n",
            "678\n",
            "679\n",
            "680\n",
            "681\n",
            "682\n",
            "683\n",
            "684\n",
            "685\n",
            "686\n",
            "687\n",
            "688\n",
            "689\n",
            "690\n",
            "691\n",
            "692\n",
            "693\n",
            "694\n",
            "695\n",
            "696\n",
            "697\n",
            "698\n",
            "699\n",
            "700\n",
            "701\n",
            "702\n",
            "703\n",
            "704\n",
            "705\n",
            "706\n",
            "707\n",
            "708\n",
            "709\n",
            "710\n",
            "711\n",
            "712\n",
            "713\n",
            "714\n",
            "715\n",
            "716\n",
            "717\n",
            "718\n",
            "719\n",
            "720\n",
            "721\n",
            "722\n",
            "723\n",
            "724\n",
            "725\n",
            "726\n",
            "727\n",
            "728\n",
            "729\n",
            "730\n",
            "731\n",
            "732\n",
            "733\n",
            "734\n",
            "735\n",
            "736\n",
            "737\n",
            "738\n",
            "739\n",
            "740\n",
            "741\n",
            "742\n",
            "743\n",
            "744\n",
            "745\n",
            "746\n",
            "747\n",
            "748\n",
            "749\n",
            "750\n",
            "751\n",
            "752\n",
            "753\n",
            "754\n",
            "755\n",
            "756\n",
            "757\n",
            "758\n",
            "759\n",
            "760\n",
            "761\n",
            "762\n",
            "763\n",
            "764\n",
            "765\n",
            "766\n",
            "767\n",
            "768\n",
            "769\n",
            "770\n",
            "771\n",
            "772\n",
            "773\n",
            "774\n",
            "775\n",
            "776\n",
            "777\n",
            "778\n",
            "779\n",
            "780\n",
            "781\n",
            "782\n",
            "783\n",
            "784\n",
            "785\n",
            "786\n",
            "787\n",
            "788\n",
            "789\n",
            "790\n",
            "791\n",
            "792\n",
            "793\n",
            "794\n",
            "795\n",
            "796\n",
            "797\n",
            "798\n",
            "799\n",
            "800\n",
            "801\n",
            "802\n",
            "803\n",
            "804\n",
            "805\n",
            "806\n",
            "807\n",
            "808\n",
            "809\n",
            "810\n",
            "811\n",
            "812\n",
            "813\n",
            "814\n",
            "815\n",
            "816\n",
            "817\n",
            "818\n",
            "819\n",
            "820\n",
            "821\n",
            "822\n",
            "823\n",
            "824\n",
            "825\n",
            "826\n",
            "827\n",
            "828\n",
            "829\n",
            "830\n",
            "831\n",
            "832\n",
            "833\n",
            "834\n",
            "835\n",
            "836\n",
            "837\n",
            "838\n",
            "839\n",
            "840\n",
            "841\n",
            "842\n",
            "843\n",
            "844\n",
            "845\n",
            "846\n",
            "847\n",
            "848\n",
            "849\n",
            "850\n",
            "851\n",
            "852\n",
            "853\n",
            "854\n",
            "855\n",
            "856\n",
            "857\n",
            "858\n",
            "859\n",
            "860\n",
            "861\n",
            "862\n",
            "863\n",
            "864\n",
            "865\n",
            "866\n",
            "867\n",
            "868\n",
            "869\n",
            "870\n",
            "871\n",
            "872\n",
            "873\n",
            "874\n",
            "875\n",
            "876\n",
            "877\n",
            "878\n",
            "879\n",
            "880\n",
            "881\n",
            "882\n",
            "883\n",
            "884\n",
            "885\n",
            "886\n",
            "887\n",
            "888\n",
            "889\n",
            "890\n",
            "891\n",
            "892\n",
            "893\n",
            "894\n",
            "895\n",
            "896\n",
            "897\n",
            "898\n",
            "899\n",
            "900\n",
            "901\n",
            "902\n",
            "903\n",
            "904\n",
            "905\n",
            "906\n",
            "907\n",
            "908\n",
            "909\n",
            "910\n",
            "911\n",
            "912\n",
            "913\n",
            "914\n",
            "915\n",
            "916\n",
            "917\n",
            "918\n",
            "919\n",
            "920\n",
            "921\n",
            "922\n",
            "923\n",
            "924\n",
            "925\n",
            "926\n",
            "927\n",
            "928\n",
            "929\n",
            "930\n",
            "931\n",
            "932\n",
            "933\n",
            "934\n",
            "935\n",
            "936\n",
            "937\n",
            "938\n",
            "939\n",
            "940\n",
            "941\n",
            "942\n",
            "943\n",
            "944\n",
            "945\n",
            "946\n",
            "947\n",
            "948\n",
            "949\n",
            "950\n",
            "951\n",
            "952\n",
            "953\n",
            "954\n",
            "955\n",
            "956\n",
            "957\n",
            "958\n",
            "959\n",
            "960\n",
            "961\n",
            "962\n",
            "963\n",
            "964\n",
            "965\n",
            "966\n",
            "967\n",
            "968\n",
            "969\n",
            "970\n",
            "971\n",
            "972\n",
            "973\n",
            "974\n",
            "975\n",
            "976\n",
            "977\n",
            "978\n",
            "979\n",
            "980\n",
            "981\n",
            "982\n",
            "983\n",
            "984\n",
            "985\n",
            "986\n",
            "987\n",
            "988\n",
            "989\n",
            "990\n",
            "991\n",
            "992\n",
            "993\n",
            "994\n",
            "995\n",
            "996\n",
            "997\n",
            "998\n",
            "999\n",
            "1000\n"
          ]
        }
      ]
    },
    {
      "cell_type": "code",
      "source": [
        "for n in range (2,1001):\n",
        "  isPrime = True\n",
        "\n",
        "  for i in range(2,n):\n",
        "    if (n%i == 0):\n",
        "      isprime = False\n",
        "      break\n",
        "\n",
        "  if isPrime:\n",
        "   print(n)"
      ],
      "metadata": {
        "colab": {
          "base_uri": "https://localhost:8080/"
        },
        "id": "sheS1LVTiacG",
        "outputId": "acace31b-e522-4722-d542-05aeb0e44a4a"
      },
      "execution_count": null,
      "outputs": [
        {
          "output_type": "stream",
          "name": "stdout",
          "text": [
            "2\n",
            "3\n",
            "4\n",
            "5\n",
            "6\n",
            "7\n",
            "8\n",
            "9\n",
            "10\n",
            "11\n",
            "12\n",
            "13\n",
            "14\n",
            "15\n",
            "16\n",
            "17\n",
            "18\n",
            "19\n",
            "20\n",
            "21\n",
            "22\n",
            "23\n",
            "24\n",
            "25\n",
            "26\n",
            "27\n",
            "28\n",
            "29\n",
            "30\n",
            "31\n",
            "32\n",
            "33\n",
            "34\n",
            "35\n",
            "36\n",
            "37\n",
            "38\n",
            "39\n",
            "40\n",
            "41\n",
            "42\n",
            "43\n",
            "44\n",
            "45\n",
            "46\n",
            "47\n",
            "48\n",
            "49\n",
            "50\n",
            "51\n",
            "52\n",
            "53\n",
            "54\n",
            "55\n",
            "56\n",
            "57\n",
            "58\n",
            "59\n",
            "60\n",
            "61\n",
            "62\n",
            "63\n",
            "64\n",
            "65\n",
            "66\n",
            "67\n",
            "68\n",
            "69\n",
            "70\n",
            "71\n",
            "72\n",
            "73\n",
            "74\n",
            "75\n",
            "76\n",
            "77\n",
            "78\n",
            "79\n",
            "80\n",
            "81\n",
            "82\n",
            "83\n",
            "84\n",
            "85\n",
            "86\n",
            "87\n",
            "88\n",
            "89\n",
            "90\n",
            "91\n",
            "92\n",
            "93\n",
            "94\n",
            "95\n",
            "96\n",
            "97\n",
            "98\n",
            "99\n",
            "100\n",
            "101\n",
            "102\n",
            "103\n",
            "104\n",
            "105\n",
            "106\n",
            "107\n",
            "108\n",
            "109\n",
            "110\n",
            "111\n",
            "112\n",
            "113\n",
            "114\n",
            "115\n",
            "116\n",
            "117\n",
            "118\n",
            "119\n",
            "120\n",
            "121\n",
            "122\n",
            "123\n",
            "124\n",
            "125\n",
            "126\n",
            "127\n",
            "128\n",
            "129\n",
            "130\n",
            "131\n",
            "132\n",
            "133\n",
            "134\n",
            "135\n",
            "136\n",
            "137\n",
            "138\n",
            "139\n",
            "140\n",
            "141\n",
            "142\n",
            "143\n",
            "144\n",
            "145\n",
            "146\n",
            "147\n",
            "148\n",
            "149\n",
            "150\n",
            "151\n",
            "152\n",
            "153\n",
            "154\n",
            "155\n",
            "156\n",
            "157\n",
            "158\n",
            "159\n",
            "160\n",
            "161\n",
            "162\n",
            "163\n",
            "164\n",
            "165\n",
            "166\n",
            "167\n",
            "168\n",
            "169\n",
            "170\n",
            "171\n",
            "172\n",
            "173\n",
            "174\n",
            "175\n",
            "176\n",
            "177\n",
            "178\n",
            "179\n",
            "180\n",
            "181\n",
            "182\n",
            "183\n",
            "184\n",
            "185\n",
            "186\n",
            "187\n",
            "188\n",
            "189\n",
            "190\n",
            "191\n",
            "192\n",
            "193\n",
            "194\n",
            "195\n",
            "196\n",
            "197\n",
            "198\n",
            "199\n",
            "200\n",
            "201\n",
            "202\n",
            "203\n",
            "204\n",
            "205\n",
            "206\n",
            "207\n",
            "208\n",
            "209\n",
            "210\n",
            "211\n",
            "212\n",
            "213\n",
            "214\n",
            "215\n",
            "216\n",
            "217\n",
            "218\n",
            "219\n",
            "220\n",
            "221\n",
            "222\n",
            "223\n",
            "224\n",
            "225\n",
            "226\n",
            "227\n",
            "228\n",
            "229\n",
            "230\n",
            "231\n",
            "232\n",
            "233\n",
            "234\n",
            "235\n",
            "236\n",
            "237\n",
            "238\n",
            "239\n",
            "240\n",
            "241\n",
            "242\n",
            "243\n",
            "244\n",
            "245\n",
            "246\n",
            "247\n",
            "248\n",
            "249\n",
            "250\n",
            "251\n",
            "252\n",
            "253\n",
            "254\n",
            "255\n",
            "256\n",
            "257\n",
            "258\n",
            "259\n",
            "260\n",
            "261\n",
            "262\n",
            "263\n",
            "264\n",
            "265\n",
            "266\n",
            "267\n",
            "268\n",
            "269\n",
            "270\n",
            "271\n",
            "272\n",
            "273\n",
            "274\n",
            "275\n",
            "276\n",
            "277\n",
            "278\n",
            "279\n",
            "280\n",
            "281\n",
            "282\n",
            "283\n",
            "284\n",
            "285\n",
            "286\n",
            "287\n",
            "288\n",
            "289\n",
            "290\n",
            "291\n",
            "292\n",
            "293\n",
            "294\n",
            "295\n",
            "296\n",
            "297\n",
            "298\n",
            "299\n",
            "300\n",
            "301\n",
            "302\n",
            "303\n",
            "304\n",
            "305\n",
            "306\n",
            "307\n",
            "308\n",
            "309\n",
            "310\n",
            "311\n",
            "312\n",
            "313\n",
            "314\n",
            "315\n",
            "316\n",
            "317\n",
            "318\n",
            "319\n",
            "320\n",
            "321\n",
            "322\n",
            "323\n",
            "324\n",
            "325\n",
            "326\n",
            "327\n",
            "328\n",
            "329\n",
            "330\n",
            "331\n",
            "332\n",
            "333\n",
            "334\n",
            "335\n",
            "336\n",
            "337\n",
            "338\n",
            "339\n",
            "340\n",
            "341\n",
            "342\n",
            "343\n",
            "344\n",
            "345\n",
            "346\n",
            "347\n",
            "348\n",
            "349\n",
            "350\n",
            "351\n",
            "352\n",
            "353\n",
            "354\n",
            "355\n",
            "356\n",
            "357\n",
            "358\n",
            "359\n",
            "360\n",
            "361\n",
            "362\n",
            "363\n",
            "364\n",
            "365\n",
            "366\n",
            "367\n",
            "368\n",
            "369\n",
            "370\n",
            "371\n",
            "372\n",
            "373\n",
            "374\n",
            "375\n",
            "376\n",
            "377\n",
            "378\n",
            "379\n",
            "380\n",
            "381\n",
            "382\n",
            "383\n",
            "384\n",
            "385\n",
            "386\n",
            "387\n",
            "388\n",
            "389\n",
            "390\n",
            "391\n",
            "392\n",
            "393\n",
            "394\n",
            "395\n",
            "396\n",
            "397\n",
            "398\n",
            "399\n",
            "400\n",
            "401\n",
            "402\n",
            "403\n",
            "404\n",
            "405\n",
            "406\n",
            "407\n",
            "408\n",
            "409\n",
            "410\n",
            "411\n",
            "412\n",
            "413\n",
            "414\n",
            "415\n",
            "416\n",
            "417\n",
            "418\n",
            "419\n",
            "420\n",
            "421\n",
            "422\n",
            "423\n",
            "424\n",
            "425\n",
            "426\n",
            "427\n",
            "428\n",
            "429\n",
            "430\n",
            "431\n",
            "432\n",
            "433\n",
            "434\n",
            "435\n",
            "436\n",
            "437\n",
            "438\n",
            "439\n",
            "440\n",
            "441\n",
            "442\n",
            "443\n",
            "444\n",
            "445\n",
            "446\n",
            "447\n",
            "448\n",
            "449\n",
            "450\n",
            "451\n",
            "452\n",
            "453\n",
            "454\n",
            "455\n",
            "456\n",
            "457\n",
            "458\n",
            "459\n",
            "460\n",
            "461\n",
            "462\n",
            "463\n",
            "464\n",
            "465\n",
            "466\n",
            "467\n",
            "468\n",
            "469\n",
            "470\n",
            "471\n",
            "472\n",
            "473\n",
            "474\n",
            "475\n",
            "476\n",
            "477\n",
            "478\n",
            "479\n",
            "480\n",
            "481\n",
            "482\n",
            "483\n",
            "484\n",
            "485\n",
            "486\n",
            "487\n",
            "488\n",
            "489\n",
            "490\n",
            "491\n",
            "492\n",
            "493\n",
            "494\n",
            "495\n",
            "496\n",
            "497\n",
            "498\n",
            "499\n",
            "500\n",
            "501\n",
            "502\n",
            "503\n",
            "504\n",
            "505\n",
            "506\n",
            "507\n",
            "508\n",
            "509\n",
            "510\n",
            "511\n",
            "512\n",
            "513\n",
            "514\n",
            "515\n",
            "516\n",
            "517\n",
            "518\n",
            "519\n",
            "520\n",
            "521\n",
            "522\n",
            "523\n",
            "524\n",
            "525\n",
            "526\n",
            "527\n",
            "528\n",
            "529\n",
            "530\n",
            "531\n",
            "532\n",
            "533\n",
            "534\n",
            "535\n",
            "536\n",
            "537\n",
            "538\n",
            "539\n",
            "540\n",
            "541\n",
            "542\n",
            "543\n",
            "544\n",
            "545\n",
            "546\n",
            "547\n",
            "548\n",
            "549\n",
            "550\n",
            "551\n",
            "552\n",
            "553\n",
            "554\n",
            "555\n",
            "556\n",
            "557\n",
            "558\n",
            "559\n",
            "560\n",
            "561\n",
            "562\n",
            "563\n",
            "564\n",
            "565\n",
            "566\n",
            "567\n",
            "568\n",
            "569\n",
            "570\n",
            "571\n",
            "572\n",
            "573\n",
            "574\n",
            "575\n",
            "576\n",
            "577\n",
            "578\n",
            "579\n",
            "580\n",
            "581\n",
            "582\n",
            "583\n",
            "584\n",
            "585\n",
            "586\n",
            "587\n",
            "588\n",
            "589\n",
            "590\n",
            "591\n",
            "592\n",
            "593\n",
            "594\n",
            "595\n",
            "596\n",
            "597\n",
            "598\n",
            "599\n",
            "600\n",
            "601\n",
            "602\n",
            "603\n",
            "604\n",
            "605\n",
            "606\n",
            "607\n",
            "608\n",
            "609\n",
            "610\n",
            "611\n",
            "612\n",
            "613\n",
            "614\n",
            "615\n",
            "616\n",
            "617\n",
            "618\n",
            "619\n",
            "620\n",
            "621\n",
            "622\n",
            "623\n",
            "624\n",
            "625\n",
            "626\n",
            "627\n",
            "628\n",
            "629\n",
            "630\n",
            "631\n",
            "632\n",
            "633\n",
            "634\n",
            "635\n",
            "636\n",
            "637\n",
            "638\n",
            "639\n",
            "640\n",
            "641\n",
            "642\n",
            "643\n",
            "644\n",
            "645\n",
            "646\n",
            "647\n",
            "648\n",
            "649\n",
            "650\n",
            "651\n",
            "652\n",
            "653\n",
            "654\n",
            "655\n",
            "656\n",
            "657\n",
            "658\n",
            "659\n",
            "660\n",
            "661\n",
            "662\n",
            "663\n",
            "664\n",
            "665\n",
            "666\n",
            "667\n",
            "668\n",
            "669\n",
            "670\n",
            "671\n",
            "672\n",
            "673\n",
            "674\n",
            "675\n",
            "676\n",
            "677\n",
            "678\n",
            "679\n",
            "680\n",
            "681\n",
            "682\n",
            "683\n",
            "684\n",
            "685\n",
            "686\n",
            "687\n",
            "688\n",
            "689\n",
            "690\n",
            "691\n",
            "692\n",
            "693\n",
            "694\n",
            "695\n",
            "696\n",
            "697\n",
            "698\n",
            "699\n",
            "700\n",
            "701\n",
            "702\n",
            "703\n",
            "704\n",
            "705\n",
            "706\n",
            "707\n",
            "708\n",
            "709\n",
            "710\n",
            "711\n",
            "712\n",
            "713\n",
            "714\n",
            "715\n",
            "716\n",
            "717\n",
            "718\n",
            "719\n",
            "720\n",
            "721\n",
            "722\n",
            "723\n",
            "724\n",
            "725\n",
            "726\n",
            "727\n",
            "728\n",
            "729\n",
            "730\n",
            "731\n",
            "732\n",
            "733\n",
            "734\n",
            "735\n",
            "736\n",
            "737\n",
            "738\n",
            "739\n",
            "740\n",
            "741\n",
            "742\n",
            "743\n",
            "744\n",
            "745\n",
            "746\n",
            "747\n",
            "748\n",
            "749\n",
            "750\n",
            "751\n",
            "752\n",
            "753\n",
            "754\n",
            "755\n",
            "756\n",
            "757\n",
            "758\n",
            "759\n",
            "760\n",
            "761\n",
            "762\n",
            "763\n",
            "764\n",
            "765\n",
            "766\n",
            "767\n",
            "768\n",
            "769\n",
            "770\n",
            "771\n",
            "772\n",
            "773\n",
            "774\n",
            "775\n",
            "776\n",
            "777\n",
            "778\n",
            "779\n",
            "780\n",
            "781\n",
            "782\n",
            "783\n",
            "784\n",
            "785\n",
            "786\n",
            "787\n",
            "788\n",
            "789\n",
            "790\n",
            "791\n",
            "792\n",
            "793\n",
            "794\n",
            "795\n",
            "796\n",
            "797\n",
            "798\n",
            "799\n",
            "800\n",
            "801\n",
            "802\n",
            "803\n",
            "804\n",
            "805\n",
            "806\n",
            "807\n",
            "808\n",
            "809\n",
            "810\n",
            "811\n",
            "812\n",
            "813\n",
            "814\n",
            "815\n",
            "816\n",
            "817\n",
            "818\n",
            "819\n",
            "820\n",
            "821\n",
            "822\n",
            "823\n",
            "824\n",
            "825\n",
            "826\n",
            "827\n",
            "828\n",
            "829\n",
            "830\n",
            "831\n",
            "832\n",
            "833\n",
            "834\n",
            "835\n",
            "836\n",
            "837\n",
            "838\n",
            "839\n",
            "840\n",
            "841\n",
            "842\n",
            "843\n",
            "844\n",
            "845\n",
            "846\n",
            "847\n",
            "848\n",
            "849\n",
            "850\n",
            "851\n",
            "852\n",
            "853\n",
            "854\n",
            "855\n",
            "856\n",
            "857\n",
            "858\n",
            "859\n",
            "860\n",
            "861\n",
            "862\n",
            "863\n",
            "864\n",
            "865\n",
            "866\n",
            "867\n",
            "868\n",
            "869\n",
            "870\n",
            "871\n",
            "872\n",
            "873\n",
            "874\n",
            "875\n",
            "876\n",
            "877\n",
            "878\n",
            "879\n",
            "880\n",
            "881\n",
            "882\n",
            "883\n",
            "884\n",
            "885\n",
            "886\n",
            "887\n",
            "888\n",
            "889\n",
            "890\n",
            "891\n",
            "892\n",
            "893\n",
            "894\n",
            "895\n",
            "896\n",
            "897\n",
            "898\n",
            "899\n",
            "900\n",
            "901\n",
            "902\n",
            "903\n",
            "904\n",
            "905\n",
            "906\n",
            "907\n",
            "908\n",
            "909\n",
            "910\n",
            "911\n",
            "912\n",
            "913\n",
            "914\n",
            "915\n",
            "916\n",
            "917\n",
            "918\n",
            "919\n",
            "920\n",
            "921\n",
            "922\n",
            "923\n",
            "924\n",
            "925\n",
            "926\n",
            "927\n",
            "928\n",
            "929\n",
            "930\n",
            "931\n",
            "932\n",
            "933\n",
            "934\n",
            "935\n",
            "936\n",
            "937\n",
            "938\n",
            "939\n",
            "940\n",
            "941\n",
            "942\n",
            "943\n",
            "944\n",
            "945\n",
            "946\n",
            "947\n",
            "948\n",
            "949\n",
            "950\n",
            "951\n",
            "952\n",
            "953\n",
            "954\n",
            "955\n",
            "956\n",
            "957\n",
            "958\n",
            "959\n",
            "960\n",
            "961\n",
            "962\n",
            "963\n",
            "964\n",
            "965\n",
            "966\n",
            "967\n",
            "968\n",
            "969\n",
            "970\n",
            "971\n",
            "972\n",
            "973\n",
            "974\n",
            "975\n",
            "976\n",
            "977\n",
            "978\n",
            "979\n",
            "980\n",
            "981\n",
            "982\n",
            "983\n",
            "984\n",
            "985\n",
            "986\n",
            "987\n",
            "988\n",
            "989\n",
            "990\n",
            "991\n",
            "992\n",
            "993\n",
            "994\n",
            "995\n",
            "996\n",
            "997\n",
            "998\n",
            "999\n",
            "1000\n"
          ]
        }
      ]
    },
    {
      "cell_type": "code",
      "source": [
        "count = 0\n",
        "for n in range (2,1001):\n",
        "  isPrime = True\n",
        "\n",
        "  for i in range(2,n):\n",
        "    if (n%i == 0):\n",
        "      isprime = False\n",
        "      break\n",
        "\n",
        "  if isPrime:\n",
        "   count += 2\n",
        "\n",
        "print(count)"
      ],
      "metadata": {
        "colab": {
          "base_uri": "https://localhost:8080/"
        },
        "id": "Lmy1Vkv7jQ7E",
        "outputId": "bf3a91d5-2f53-4df5-f7de-3ff09506b038"
      },
      "execution_count": null,
      "outputs": [
        {
          "output_type": "stream",
          "name": "stdout",
          "text": [
            "1998\n"
          ]
        }
      ]
    },
    {
      "cell_type": "code",
      "source": [
        "for i in range(1,7):\n",
        "  for j in range(1,7):\n",
        "    print(i,j)"
      ],
      "metadata": {
        "colab": {
          "base_uri": "https://localhost:8080/"
        },
        "id": "8KOaB6CTjypS",
        "outputId": "6a592cdf-1fa5-40f7-94aa-69780b257a49"
      },
      "execution_count": null,
      "outputs": [
        {
          "output_type": "stream",
          "name": "stdout",
          "text": [
            "1 1\n",
            "1 2\n",
            "1 3\n",
            "1 4\n",
            "1 5\n",
            "1 6\n",
            "2 1\n",
            "2 2\n",
            "2 3\n",
            "2 4\n",
            "2 5\n",
            "2 6\n",
            "3 1\n",
            "3 2\n",
            "3 3\n",
            "3 4\n",
            "3 5\n",
            "3 6\n",
            "4 1\n",
            "4 2\n",
            "4 3\n",
            "4 4\n",
            "4 5\n",
            "4 6\n",
            "5 1\n",
            "5 2\n",
            "5 3\n",
            "5 4\n",
            "5 5\n",
            "5 6\n",
            "6 1\n",
            "6 2\n",
            "6 3\n",
            "6 4\n",
            "6 5\n",
            "6 6\n"
          ]
        }
      ]
    },
    {
      "cell_type": "code",
      "source": [
        "n = 5\n",
        "for n in range (1,7):\n",
        "  for j in range(1,7):\n",
        "    if i+j == 5:\n",
        "      print(i,j)"
      ],
      "metadata": {
        "colab": {
          "base_uri": "https://localhost:8080/"
        },
        "id": "8dPv7x1Co1Km",
        "outputId": "eb309409-4752-4ba5-c09b-c85aaf85962a"
      },
      "execution_count": null,
      "outputs": [
        {
          "output_type": "stream",
          "name": "stdout",
          "text": [
            "2 3\n",
            "2 3\n",
            "2 3\n",
            "2 3\n",
            "2 3\n",
            "2 3\n"
          ]
        }
      ]
    },
    {
      "cell_type": "code",
      "source": [
        "n = 5\n",
        "for n in range (1,7):\n",
        "  for j in range(1,7):\n",
        "    if i+j == n:\n",
        "      print(i,j)\n"
      ],
      "metadata": {
        "colab": {
          "base_uri": "https://localhost:8080/"
        },
        "id": "uKN-GDAopTVg",
        "outputId": "dd1939ea-9ad8-46a6-dfcd-a1cbbeb59f5c"
      },
      "execution_count": null,
      "outputs": [
        {
          "output_type": "stream",
          "name": "stdout",
          "text": [
            "2 1\n",
            "2 2\n",
            "2 3\n",
            "2 4\n"
          ]
        }
      ]
    },
    {
      "cell_type": "code",
      "source": [
        "n = 5\n",
        "count = 0\n",
        "\n",
        "for n in range (1,7):\n",
        "  for j in range(1,7):\n",
        "    if i+j == n:\n",
        "      count += 1\n",
        "      print(i,j)\n",
        "print(n, str(round((count/36)*100,2))+'%')"
      ],
      "metadata": {
        "colab": {
          "base_uri": "https://localhost:8080/"
        },
        "id": "IQJ3JAA5qgaI",
        "outputId": "0d8255f1-93af-41e3-f3dd-28dbc6a5ab81"
      },
      "execution_count": null,
      "outputs": [
        {
          "output_type": "stream",
          "name": "stdout",
          "text": [
            "2 1\n",
            "2 2\n",
            "2 3\n",
            "2 4\n",
            "6 11.11%\n"
          ]
        }
      ]
    },
    {
      "cell_type": "code",
      "source": [
        "n = 5\n",
        "count = 0\n",
        "\n",
        "for n in range (1,7):\n",
        "  for j in range(1,7):\n",
        "    if i+j == n:\n",
        "      count += 1\n",
        "      print(i,j)\n",
        "print(n, str(round((count/36)*100,2))+'%')"
      ],
      "metadata": {
        "id": "89KCHorbsPWp"
      },
      "execution_count": null,
      "outputs": []
    },
    {
      "cell_type": "code",
      "source": [
        "name = 'Amanansn zackhaslkhfasdjnv34364633248049858Y(8())'\n",
        "for i in name:\n",
        "  print(i)\n"
      ],
      "metadata": {
        "colab": {
          "base_uri": "https://localhost:8080/"
        },
        "id": "oiWU0ur3u6Jl",
        "outputId": "9b93f760-19b1-4b35-b099-22489a0e46e0"
      },
      "execution_count": null,
      "outputs": [
        {
          "output_type": "stream",
          "name": "stdout",
          "text": [
            "A\n",
            "m\n",
            "a\n",
            "n\n",
            "a\n",
            "n\n",
            "s\n",
            "n\n",
            " \n",
            "z\n",
            "a\n",
            "c\n",
            "k\n",
            "h\n",
            "a\n",
            "s\n",
            "l\n",
            "k\n",
            "h\n",
            "f\n",
            "a\n",
            "s\n",
            "d\n",
            "j\n",
            "n\n",
            "v\n",
            "3\n",
            "4\n",
            "3\n",
            "6\n",
            "4\n",
            "6\n",
            "3\n",
            "3\n",
            "2\n",
            "4\n",
            "8\n",
            "0\n",
            "4\n",
            "9\n",
            "8\n",
            "5\n",
            "8\n",
            "Y\n",
            "(\n",
            "8\n",
            "(\n",
            ")\n",
            ")\n"
          ]
        }
      ]
    },
    {
      "cell_type": "code",
      "source": [
        "text = 'skdfglshkscv uhvszl knvkuw fi eoianzjxbvjcbv'\n",
        "v = 0\n",
        "c = 0\n",
        "\n",
        "for i in text:\n",
        "  if i in 'ajadsjahshUUHhi'"
      ],
      "metadata": {
        "id": "IOFzF_sGylfO"
      },
      "execution_count": null,
      "outputs": []
    },
    {
      "cell_type": "code",
      "source": [
        "n= 0\n",
        "for i in range (1,11):\n",
        "  print(i)"
      ],
      "metadata": {
        "colab": {
          "base_uri": "https://localhost:8080/"
        },
        "id": "db5l7jxytU3B",
        "outputId": "d0f779a2-c0c6-4ef0-a8c4-e1ecee5ea721"
      },
      "execution_count": null,
      "outputs": [
        {
          "output_type": "stream",
          "name": "stdout",
          "text": [
            "1\n",
            "2\n",
            "3\n",
            "4\n",
            "5\n",
            "6\n",
            "7\n",
            "8\n",
            "9\n",
            "10\n"
          ]
        }
      ]
    },
    {
      "cell_type": "code",
      "source": [
        "n = 0\n",
        "for i in range (1,11):\n",
        "\n",
        "  # print(n,i)\n",
        "  n = n + i\n",
        "\n",
        "print(n)"
      ],
      "metadata": {
        "colab": {
          "base_uri": "https://localhost:8080/"
        },
        "id": "Ex5FX3AwxcgD",
        "outputId": "5a8ce9e5-4d24-49ce-a3c0-6a0227b55505"
      },
      "execution_count": null,
      "outputs": [
        {
          "output_type": "stream",
          "name": "stdout",
          "text": [
            "55\n"
          ]
        }
      ]
    },
    {
      "cell_type": "code",
      "source": [
        "for i in range(1,7):\n",
        "  for j in range(1,7):\n",
        "    print(i,j)\n",
        "  print('-')"
      ],
      "metadata": {
        "colab": {
          "base_uri": "https://localhost:8080/"
        },
        "id": "0tT89mh5WAZL",
        "outputId": "066a4126-74cf-43f6-f581-fd547a3a5c61"
      },
      "execution_count": null,
      "outputs": [
        {
          "output_type": "stream",
          "name": "stdout",
          "text": [
            "1 1\n",
            "1 2\n",
            "1 3\n",
            "1 4\n",
            "1 5\n",
            "1 6\n",
            "-\n",
            "2 1\n",
            "2 2\n",
            "2 3\n",
            "2 4\n",
            "2 5\n",
            "2 6\n",
            "-\n",
            "3 1\n",
            "3 2\n",
            "3 3\n",
            "3 4\n",
            "3 5\n",
            "3 6\n",
            "-\n",
            "4 1\n",
            "4 2\n",
            "4 3\n",
            "4 4\n",
            "4 5\n",
            "4 6\n",
            "-\n",
            "5 1\n",
            "5 2\n",
            "5 3\n",
            "5 4\n",
            "5 5\n",
            "5 6\n",
            "-\n",
            "6 1\n",
            "6 2\n",
            "6 3\n",
            "6 4\n",
            "6 5\n",
            "6 6\n",
            "-\n"
          ]
        }
      ]
    },
    {
      "cell_type": "code",
      "source": [
        "for i in range(1,7):\n",
        "  for j in range(1,7):\n",
        "    if i + j == 5:\n",
        "      print(i,j)\n"
      ],
      "metadata": {
        "colab": {
          "base_uri": "https://localhost:8080/"
        },
        "id": "cmL0SA4tYMBD",
        "outputId": "2fbdef3a-598b-4507-a7dd-78613a13f076"
      },
      "execution_count": null,
      "outputs": [
        {
          "output_type": "stream",
          "name": "stdout",
          "text": [
            "1 4\n",
            "2 3\n",
            "3 2\n",
            "4 1\n"
          ]
        }
      ]
    },
    {
      "cell_type": "code",
      "source": [
        "n = 2\n",
        "\n",
        "for n in range(2,13):\n",
        "  count = 0\n",
        "\n",
        "for i in range(1,7):\n",
        "  for j in range(1,7):\n",
        "    if i + j == n:\n",
        "      count += 1\n",
        "\n",
        "print(n,\":\", str(round((count/36)*100,2)) + '%')"
      ],
      "metadata": {
        "colab": {
          "base_uri": "https://localhost:8080/"
        },
        "id": "hBcvUU5qcHc8",
        "outputId": "d3b75fa7-0bf5-44a5-a2fe-d4638b01443d"
      },
      "execution_count": null,
      "outputs": [
        {
          "output_type": "stream",
          "name": "stdout",
          "text": [
            "12 : 2.78%\n"
          ]
        }
      ]
    },
    {
      "cell_type": "markdown",
      "source": [
        "## Indexing"
      ],
      "metadata": {
        "id": "USxbjRTJk5F9"
      }
    },
    {
      "cell_type": "code",
      "source": [
        "'Amanullah Chand'[8]"
      ],
      "metadata": {
        "colab": {
          "base_uri": "https://localhost:8080/",
          "height": 36
        },
        "id": "-Wse9U6vk7ib",
        "outputId": "a5de2dcf-f974-4130-9161-950b4369fcf4"
      },
      "execution_count": null,
      "outputs": [
        {
          "output_type": "execute_result",
          "data": {
            "text/plain": [
              "'h'"
            ],
            "application/vnd.google.colaboratory.intrinsic+json": {
              "type": "string"
            }
          },
          "metadata": {},
          "execution_count": 54
        }
      ]
    },
    {
      "cell_type": "code",
      "source": [
        "for i in 'Amanullah Chand':\n",
        "  print(i)"
      ],
      "metadata": {
        "colab": {
          "base_uri": "https://localhost:8080/"
        },
        "id": "CGMu4MRZmctv",
        "outputId": "13d4b66b-1f7e-41d7-90bd-eb09d71756eb"
      },
      "execution_count": null,
      "outputs": [
        {
          "output_type": "stream",
          "name": "stdout",
          "text": [
            "A\n",
            "m\n",
            "a\n",
            "n\n",
            "u\n",
            "l\n",
            "l\n",
            "a\n",
            "h\n",
            " \n",
            "C\n",
            "h\n",
            "a\n",
            "n\n",
            "d\n"
          ]
        }
      ]
    },
    {
      "cell_type": "code",
      "source": [
        "name = 'Amanullah Chand'\n",
        "for i in range(len(name)):\n",
        "  print(name[i])"
      ],
      "metadata": {
        "colab": {
          "base_uri": "https://localhost:8080/"
        },
        "id": "-LG1tnOImsOH",
        "outputId": "94226505-223b-40d1-9dea-eafbd35d63d2"
      },
      "execution_count": null,
      "outputs": [
        {
          "output_type": "stream",
          "name": "stdout",
          "text": [
            "A\n",
            "m\n",
            "a\n",
            "n\n",
            "u\n",
            "l\n",
            "l\n",
            "a\n",
            "h\n",
            " \n",
            "C\n",
            "h\n",
            "a\n",
            "n\n",
            "d\n"
          ]
        }
      ]
    },
    {
      "cell_type": "code",
      "source": [
        "name = 'Amanullah Chand'\n",
        "for i in range(len(name)):\n",
        "  print(i, name[i])"
      ],
      "metadata": {
        "colab": {
          "base_uri": "https://localhost:8080/"
        },
        "id": "UD_y0MUYnHc7",
        "outputId": "31ecc051-a74c-4504-991f-d20c0f4ed153"
      },
      "execution_count": null,
      "outputs": [
        {
          "output_type": "stream",
          "name": "stdout",
          "text": [
            "0 A\n",
            "1 m\n",
            "2 a\n",
            "3 n\n",
            "4 u\n",
            "5 l\n",
            "6 l\n",
            "7 a\n",
            "8 h\n",
            "9  \n",
            "10 C\n",
            "11 h\n",
            "12 a\n",
            "13 n\n",
            "14 d\n"
          ]
        }
      ]
    },
    {
      "cell_type": "code",
      "source": [
        "name = 'Amanullah Chand'\n",
        "for i in range(len(name)):\n",
        "  print(i,name[i])"
      ],
      "metadata": {
        "colab": {
          "base_uri": "https://localhost:8080/"
        },
        "id": "9laqT1UPnzFZ",
        "outputId": "0dfecc73-ffc7-4298-e9be-297b665b6cf8"
      },
      "execution_count": null,
      "outputs": [
        {
          "output_type": "stream",
          "name": "stdout",
          "text": [
            "0 A\n",
            "1 m\n",
            "2 a\n",
            "3 n\n",
            "4 u\n",
            "5 l\n",
            "6 l\n",
            "7 a\n",
            "8 h\n",
            "9  \n",
            "10 C\n",
            "11 h\n",
            "12 a\n",
            "13 n\n",
            "14 d\n"
          ]
        }
      ]
    },
    {
      "cell_type": "code",
      "source": [
        "name = 'Amanullah  kaSJckjas Chand kjasCJ5649ancjkas alnzxnc '\n",
        "for i in range(len(name)):\n",
        "  print(i,name[i])"
      ],
      "metadata": {
        "colab": {
          "base_uri": "https://localhost:8080/"
        },
        "id": "V5oaj51doHU9",
        "outputId": "5cea3dcc-6ef1-4413-e4fc-09314db3a455"
      },
      "execution_count": null,
      "outputs": [
        {
          "output_type": "stream",
          "name": "stdout",
          "text": [
            "0 A\n",
            "1 m\n",
            "2 a\n",
            "3 n\n",
            "4 u\n",
            "5 l\n",
            "6 l\n",
            "7 a\n",
            "8 h\n",
            "9  \n",
            "10  \n",
            "11 k\n",
            "12 a\n",
            "13 S\n",
            "14 J\n",
            "15 c\n",
            "16 k\n",
            "17 j\n",
            "18 a\n",
            "19 s\n",
            "20  \n",
            "21 C\n",
            "22 h\n",
            "23 a\n",
            "24 n\n",
            "25 d\n",
            "26  \n",
            "27 k\n",
            "28 j\n",
            "29 a\n",
            "30 s\n",
            "31 C\n",
            "32 J\n",
            "33 5\n",
            "34 6\n",
            "35 4\n",
            "36 9\n",
            "37 a\n",
            "38 n\n",
            "39 c\n",
            "40 j\n",
            "41 k\n",
            "42 a\n",
            "43 s\n",
            "44  \n",
            "45 a\n",
            "46 l\n",
            "47 n\n",
            "48 z\n",
            "49 x\n",
            "50 n\n",
            "51 c\n",
            "52  \n"
          ]
        }
      ]
    },
    {
      "cell_type": "markdown",
      "source": [
        "## Text Cleaning"
      ],
      "metadata": {
        "id": "OvAiqZJtoR12"
      }
    },
    {
      "cell_type": "code",
      "source": [
        "# [97-122]\n",
        "# [65-90], 32\n",
        "\n",
        "name = 'Amanullah  kaSJckjas Chand kjasCJ5649ancjkas alnzxnc'\n",
        "\n",
        "for i in name:\n",
        "  if (ord(i) >= 97 and ord(i) <= 122 or ord(i) >= 65 and ord(i) <= 90) or ord(i) == 32:\n",
        "    print(i)"
      ],
      "metadata": {
        "id": "eHiw_fkAoUfl",
        "colab": {
          "base_uri": "https://localhost:8080/"
        },
        "outputId": "1aa74f85-9b3f-4a84-9ac3-3ad42a97e70b"
      },
      "execution_count": null,
      "outputs": [
        {
          "output_type": "stream",
          "name": "stdout",
          "text": [
            "A\n",
            "m\n",
            "a\n",
            "n\n",
            "u\n",
            "l\n",
            "l\n",
            "a\n",
            "h\n",
            " \n",
            " \n",
            "k\n",
            "a\n",
            "S\n",
            "J\n",
            "c\n",
            "k\n",
            "j\n",
            "a\n",
            "s\n",
            " \n",
            "C\n",
            "h\n",
            "a\n",
            "n\n",
            "d\n",
            " \n",
            "k\n",
            "j\n",
            "a\n",
            "s\n",
            "C\n",
            "J\n",
            "a\n",
            "n\n",
            "c\n",
            "j\n",
            "k\n",
            "a\n",
            "s\n",
            " \n",
            "a\n",
            "l\n",
            "n\n",
            "z\n",
            "x\n",
            "n\n",
            "c\n"
          ]
        }
      ]
    },
    {
      "cell_type": "code",
      "source": [
        "text = 'aeiou'\n",
        "v = 0\n",
        "c = 0\n",
        "\n",
        "for i in text:\n",
        "  if i in '@#$%^&*()(*&^%$%^&*(*&%$#))':\n",
        "    continue\n",
        "    else:\n",
        "      c += 1\n",
        "\n",
        "print(v,c)\n"
      ],
      "metadata": {
        "colab": {
          "base_uri": "https://localhost:8080/",
          "height": 110
        },
        "id": "SjO7Ta3iC8JV",
        "outputId": "4d3a1e2f-9684-4477-e871-9690ecf721bd"
      },
      "execution_count": null,
      "outputs": [
        {
          "output_type": "error",
          "ename": "SyntaxError",
          "evalue": "invalid syntax (<ipython-input-11-c21e3ff73fcd>, line 8)",
          "traceback": [
            "\u001b[0;36m  File \u001b[0;32m\"<ipython-input-11-c21e3ff73fcd>\"\u001b[0;36m, line \u001b[0;32m8\u001b[0m\n\u001b[0;31m    else:\u001b[0m\n\u001b[0m    ^\u001b[0m\n\u001b[0;31mSyntaxError\u001b[0m\u001b[0;31m:\u001b[0m invalid syntax\n"
          ]
        }
      ]
    },
    {
      "cell_type": "markdown",
      "source": [
        "## 7. Data Structures"
      ],
      "metadata": {
        "id": "WtR3-ILwGDy2"
      }
    },
    {
      "cell_type": "markdown",
      "source": [
        "### 7.1 List"
      ],
      "metadata": {
        "id": "dEbAu6a3agl6"
      }
    },
    {
      "cell_type": "code",
      "source": [
        "roll_no_1 = [12,56,86,23,45,46]\n",
        "roll_no_1"
      ],
      "metadata": {
        "id": "-DwEjSeqGKyj",
        "colab": {
          "base_uri": "https://localhost:8080/"
        },
        "outputId": "6f33d5d9-9cd2-4933-d8a9-7a95271a4d30"
      },
      "execution_count": 2,
      "outputs": [
        {
          "output_type": "execute_result",
          "data": {
            "text/plain": [
              "[12, 56, 86, 23, 45, 46]"
            ]
          },
          "metadata": {},
          "execution_count": 2
        }
      ]
    },
    {
      "cell_type": "code",
      "source": [
        "roll_no_2 = [12,56,86,23,45,46,'Amanullah''Chand',True]\n",
        "roll_no_2"
      ],
      "metadata": {
        "id": "EuSKhYjPRgJT",
        "colab": {
          "base_uri": "https://localhost:8080/"
        },
        "outputId": "b3023a98-be90-44d3-ab89-785aa8eea9e6"
      },
      "execution_count": 1,
      "outputs": [
        {
          "output_type": "execute_result",
          "data": {
            "text/plain": [
              "[12, 56, 86, 23, 45, 46, 'AmanullahChand', True]"
            ]
          },
          "metadata": {},
          "execution_count": 1
        }
      ]
    },
    {
      "cell_type": "code",
      "source": [],
      "metadata": {
        "id": "xVprqB45Nd3B"
      },
      "execution_count": null,
      "outputs": []
    },
    {
      "cell_type": "markdown",
      "source": [
        "# 7.1.1) Write a program to create a list with values [between 1-100 and divisible by 3,5,7]"
      ],
      "metadata": {
        "id": "9VsZWbEva4fi"
      }
    },
    {
      "cell_type": "code",
      "source": [
        "lst = []\n",
        "avg = 0\n",
        "for i in range(1,101):\n",
        "  if i%3 == 0 or i%5 == 0 or i%7 == 0:\n",
        "    lst.append(i)\n",
        "\n",
        "print(sum(lst))\n",
        "print(len(lst))\n",
        "print(round(sum(lst)/len(lst),2))"
      ],
      "metadata": {
        "colab": {
          "base_uri": "https://localhost:8080/"
        },
        "id": "mrIrpgTOaVUW",
        "outputId": "ffe36f8b-b042-4260-f26e-71c89cad4d8a"
      },
      "execution_count": null,
      "outputs": [
        {
          "output_type": "stream",
          "name": "stdout",
          "text": [
            "2838\n",
            "55\n",
            "51.6\n"
          ]
        }
      ]
    },
    {
      "cell_type": "markdown",
      "source": [
        "#### 7.1.2) Access values from a list"
      ],
      "metadata": {
        "id": "E-vb9kSdAubN"
      }
    },
    {
      "cell_type": "code",
      "source": [
        "lst = [15,95,68,6,59,29,23,48,95,62,15,76,32,46,56]\n",
        "\n",
        "lst"
      ],
      "metadata": {
        "colab": {
          "base_uri": "https://localhost:8080/"
        },
        "id": "3rQ93Dz_guBT",
        "outputId": "76c88fc2-57d6-4e4b-d6eb-8f4d8c9088b0"
      },
      "execution_count": 4,
      "outputs": [
        {
          "output_type": "execute_result",
          "data": {
            "text/plain": [
              "[15, 95, 68, 6, 59, 29, 23, 48, 95, 62, 15, 76, 32, 46, 56]"
            ]
          },
          "metadata": {},
          "execution_count": 4
        }
      ]
    },
    {
      "cell_type": "code",
      "source": [
        "lst = [15,95,68,6,59,29,23,48,95,62,15,76,32,46,56]\n",
        "\n",
        "lst[0:5]"
      ],
      "metadata": {
        "colab": {
          "base_uri": "https://localhost:8080/"
        },
        "id": "g8SOa3Rp968G",
        "outputId": "f3620bf2-d100-4eb0-cb54-3a00241bc22a"
      },
      "execution_count": 8,
      "outputs": [
        {
          "output_type": "execute_result",
          "data": {
            "text/plain": [
              "[15, 95, 68, 6, 59]"
            ]
          },
          "metadata": {},
          "execution_count": 8
        }
      ]
    },
    {
      "cell_type": "code",
      "source": [
        "lst = [15,95,68,6,59,29,23,48,95,62,15,76,32,46,56]\n",
        "\n",
        "sum(lst[0:10])"
      ],
      "metadata": {
        "colab": {
          "base_uri": "https://localhost:8080/"
        },
        "id": "bxhSmOlD96mO",
        "outputId": "a1de9e4f-6a3b-4c88-a4fb-d9adc6c37b43"
      },
      "execution_count": 6,
      "outputs": [
        {
          "output_type": "execute_result",
          "data": {
            "text/plain": [
              "500"
            ]
          },
          "metadata": {},
          "execution_count": 6
        }
      ]
    },
    {
      "cell_type": "code",
      "source": [
        "lst = [15,95,68,6,59,29,23,48,95,62,15,76,32,46,56]\n",
        "\n",
        "lst[0:8]"
      ],
      "metadata": {
        "colab": {
          "base_uri": "https://localhost:8080/"
        },
        "id": "CqFV25iC96UR",
        "outputId": "e9f539fd-d71c-435f-801e-f4cfc2a0e9f4"
      },
      "execution_count": 7,
      "outputs": [
        {
          "output_type": "execute_result",
          "data": {
            "text/plain": [
              "[15, 95, 68, 6, 59, 29, 23, 48]"
            ]
          },
          "metadata": {},
          "execution_count": 7
        }
      ]
    },
    {
      "cell_type": "code",
      "source": [
        "name = 'Amanllah'\n"
      ],
      "metadata": {
        "id": "fwW139Pd-raE"
      },
      "execution_count": null,
      "outputs": []
    },
    {
      "cell_type": "markdown",
      "source": [
        "# 7.1.3) Check if a name is there is a list of not"
      ],
      "metadata": {
        "id": "30oduQFse43x"
      }
    },
    {
      "cell_type": "code",
      "source": [
        "user_name = 'Amanullah'\n",
        "names = [\"Aarav\", \"Anika\", \"Arjun\", \"Amanullah\", \"Diya\", \"Ishaan\", \"Kiara\", \"Kabir\", \"Myra\",\n",
        "    \"Rohan\", \"Siya\", \"Vivaan\", \"Zara\", \"Aditya\", \"Aisha\", \"Dev\", \"Inaaya\"]\n",
        "'Amanullah' in names"
      ],
      "metadata": {
        "id": "kYVwtnr_fP_q",
        "colab": {
          "base_uri": "https://localhost:8080/"
        },
        "outputId": "ca112717-ea95-4106-b9a9-3b6077d325fb"
      },
      "execution_count": 10,
      "outputs": [
        {
          "output_type": "execute_result",
          "data": {
            "text/plain": [
              "True"
            ]
          },
          "metadata": {},
          "execution_count": 10
        }
      ]
    },
    {
      "cell_type": "markdown",
      "source": [
        "#### To print names with roll_no"
      ],
      "metadata": {
        "id": "9iJNZ4WfDKqT"
      }
    },
    {
      "cell_type": "code",
      "source": [
        "names = user_name = 'Amanullah'\n",
        "names = [\"Aarav\", \"Anika\", \"Arjun\", \"Amanullah\", \"Diya\", \"Ishaan\", \"Kiara\", \"Kabir\", \"Myra\",\n",
        "    \"Rohan\", \"Siya\", \"Vivaan\", \"Zara\", \"Aditya\", \"Aisha\", \"Dev\", \"Inaaya\"]\n",
        "\n",
        "for i in range(len(names)):\n",
        "  if names[i] == user_name:\n",
        "    roll_no = i+1\n",
        "    print(roll_no,names[i])\n",
        "\n",
        "\n",
        "\n",
        "\n",
        "\n",
        "\n"
      ],
      "metadata": {
        "colab": {
          "base_uri": "https://localhost:8080/"
        },
        "id": "QGfK2pcWfdGl",
        "outputId": "6dd20193-778e-4c89-bf66-1b7986dd6f55"
      },
      "execution_count": 12,
      "outputs": [
        {
          "output_type": "stream",
          "name": "stdout",
          "text": [
            "4 Amanullah\n"
          ]
        }
      ]
    },
    {
      "cell_type": "code",
      "source": [
        "user_name = user_name = 'Amanullah'\n",
        "names = [\"Aarav\", \"Anika\", \"Arjun\", \"Amanullah\", \"Diya\", \"Ishaan\", \"Kiara\", \"Kabir\", \"Myra\",\n",
        "    \"Rohan\", \"Siya\", \"Vivaan\", \"Zara\", \"Aditya\", \"Aisha\", \"Dev\", \"Inaaya\"]\n",
        "\n",
        "for i in range(len(names)):\n",
        "  if names[i].lower() == user_name.lower():\n",
        "    roll_no = i+1\n",
        "    print(roll_no,names[i])\n",
        "    ifPresent = True\n",
        "\n",
        "if not ifPresent:\n",
        "  print('Not Available')"
      ],
      "metadata": {
        "colab": {
          "base_uri": "https://localhost:8080/"
        },
        "id": "ct3KXa7dHUTb",
        "outputId": "e967f624-b5a5-4cec-9943-346751994543"
      },
      "execution_count": 3,
      "outputs": [
        {
          "output_type": "stream",
          "name": "stdout",
          "text": [
            "4 Amanullah\n"
          ]
        }
      ]
    },
    {
      "cell_type": "code",
      "source": [
        "user_name = user_name = 'Amanullah'\n",
        "\n",
        "names = [\"Aarav\", \"Anika\", \"Arjun\", \"Amanullah\", \"Diya\", \"Ishaan\", \"Kiara\", \"Kabir\", \"Myra\",\n",
        "    \"Rohan\", \"Siya\", \"Vivaan\", \"Zara\", \"Aditya\", \"Aisha\", \"Dev\", \"Inaaya\"]\n",
        "\n",
        "ifPresent = False\n",
        "\n",
        "for i in range(len(names)):\n",
        "  if names[i] == user_name:\n",
        "    roll_no = i+1\n",
        "    print(roll_no,names[i])\n",
        "    ifPresent = True\n",
        "\n",
        "if not ifPresent:\n",
        "  print('Not Available')"
      ],
      "metadata": {
        "colab": {
          "base_uri": "https://localhost:8080/"
        },
        "id": "eBcozME3JE1j",
        "outputId": "9178a419-d432-4c9c-8553-7beb7353e1be"
      },
      "execution_count": 1,
      "outputs": [
        {
          "output_type": "stream",
          "name": "stdout",
          "text": [
            "4 Amanullah\n"
          ]
        }
      ]
    },
    {
      "cell_type": "code",
      "source": [
        "lst = [1,6,1,9,59,6,4,6,6,5,595,55]\n",
        "lst"
      ],
      "metadata": {
        "colab": {
          "base_uri": "https://localhost:8080/"
        },
        "id": "FYCeG_ldL2NJ",
        "outputId": "f87e27c3-fdd8-4c7e-f883-89501caaa6b0"
      },
      "execution_count": 9,
      "outputs": [
        {
          "output_type": "execute_result",
          "data": {
            "text/plain": [
              "[1, 6, 1, 9, 59, 6, 4, 6, 6, 5, 595, 55]"
            ]
          },
          "metadata": {},
          "execution_count": 9
        }
      ]
    },
    {
      "cell_type": "code",
      "source": [
        "len(lst)"
      ],
      "metadata": {
        "colab": {
          "base_uri": "https://localhost:8080/"
        },
        "id": "KvBehBBJMhmc",
        "outputId": "5e56687c-1d8f-43a8-c2a5-fb6950d7971a"
      },
      "execution_count": 10,
      "outputs": [
        {
          "output_type": "execute_result",
          "data": {
            "text/plain": [
              "12"
            ]
          },
          "metadata": {},
          "execution_count": 10
        }
      ]
    },
    {
      "cell_type": "code",
      "source": [
        "## Find the sum of all elements of a list row wise\n",
        "\n",
        "lst = [[1,2,3],\n",
        "       [4,5,6],\n",
        "       [7,8,9] ]\n",
        "\n",
        "for i in lst:\n",
        "  for j in i:\n",
        "    print(j)\n",
        "  print('-'*10)\n"
      ],
      "metadata": {
        "colab": {
          "base_uri": "https://localhost:8080/"
        },
        "id": "FyrF-MR9mF__",
        "outputId": "279ca33d-9e54-4062-9b6f-6217fcf01a05"
      },
      "execution_count": null,
      "outputs": [
        {
          "output_type": "stream",
          "name": "stdout",
          "text": [
            "1\n",
            "2\n",
            "3\n",
            "----------\n",
            "4\n",
            "5\n",
            "6\n",
            "----------\n",
            "7\n",
            "8\n",
            "9\n",
            "----------\n"
          ]
        }
      ]
    },
    {
      "cell_type": "markdown",
      "source": [
        "## Find the sum of all elements of a list row wise"
      ],
      "metadata": {
        "id": "YXxRH-Teme0t"
      }
    },
    {
      "cell_type": "code",
      "source": [
        "lst = [[1,2,3],\n",
        "       [4,5,6],\n",
        "       [7,8,9] ]\n",
        "\n",
        "for i in lst:\n",
        "  print(sum(i))"
      ],
      "metadata": {
        "colab": {
          "base_uri": "https://localhost:8080/"
        },
        "id": "KVOP_hu-mfz-",
        "outputId": "d4d2ff4a-5a90-4c73-fe0d-f341ba68def6"
      },
      "execution_count": 10,
      "outputs": [
        {
          "output_type": "stream",
          "name": "stdout",
          "text": [
            "6\n",
            "15\n",
            "24\n"
          ]
        }
      ]
    },
    {
      "cell_type": "markdown",
      "source": [
        "## To sum all the lists seperately"
      ],
      "metadata": {
        "id": "oVFNnHgloKSU"
      }
    },
    {
      "cell_type": "code",
      "source": [
        "lst = [[1,2,3],\n",
        "       [4,5,6],\n",
        "       [7,8,9] ]\n",
        "\n",
        "s = 0\n",
        "\n",
        "for i in lst:\n",
        "  s = 0\n",
        "  for j in i:\n",
        "    print(j)\n",
        "    s+= j\n",
        "  print('_'*10)\n",
        "\n",
        "print(s)"
      ],
      "metadata": {
        "colab": {
          "base_uri": "https://localhost:8080/"
        },
        "id": "KmRtyL85oOHo",
        "outputId": "876f336d-ea5a-4ac8-b8be-a17f938eaa96"
      },
      "execution_count": 13,
      "outputs": [
        {
          "output_type": "stream",
          "name": "stdout",
          "text": [
            "1\n",
            "2\n",
            "3\n",
            "__________\n",
            "4\n",
            "5\n",
            "6\n",
            "__________\n",
            "7\n",
            "8\n",
            "9\n",
            "__________\n",
            "24\n"
          ]
        }
      ]
    },
    {
      "cell_type": "code",
      "source": [
        "lst = [[1,2,3],\n",
        "       [4,5,6],\n",
        "       [7,8,9] ]\n",
        "\n",
        "lst [2][2]"
      ],
      "metadata": {
        "id": "XsnM0fw6oBWb",
        "colab": {
          "base_uri": "https://localhost:8080/"
        },
        "outputId": "54d1c937-7bdd-49f7-bfce-dba71cada23e"
      },
      "execution_count": 2,
      "outputs": [
        {
          "output_type": "execute_result",
          "data": {
            "text/plain": [
              "9"
            ]
          },
          "metadata": {},
          "execution_count": 2
        }
      ]
    },
    {
      "cell_type": "code",
      "source": [
        "lst = [[1,2,3],\n",
        "       [4,5,6],\n",
        "       [7,8,9] ]\n",
        "\n",
        "for i in lst:\n",
        "  print(i)"
      ],
      "metadata": {
        "colab": {
          "base_uri": "https://localhost:8080/"
        },
        "id": "31Utc6bNi-NM",
        "outputId": "b7d20162-3f1f-4e87-bb33-5776520b6d11"
      },
      "execution_count": 3,
      "outputs": [
        {
          "output_type": "stream",
          "name": "stdout",
          "text": [
            "[1, 2, 3]\n",
            "[4, 5, 6]\n",
            "[7, 8, 9]\n"
          ]
        }
      ]
    },
    {
      "cell_type": "code",
      "source": [
        "lst = [[1,2,3],\n",
        "       [4,5,6],\n",
        "       [7,8,9] ]\n",
        "\n",
        "for i in lst:\n",
        "  for j in i:\n",
        "    print(j)"
      ],
      "metadata": {
        "colab": {
          "base_uri": "https://localhost:8080/"
        },
        "id": "Q8nmJGjOlFj3",
        "outputId": "6f988e5b-4eba-4628-ba17-d4cf4dcbb92a"
      },
      "execution_count": 7,
      "outputs": [
        {
          "output_type": "stream",
          "name": "stdout",
          "text": [
            "1\n",
            "2\n",
            "3\n",
            "4\n",
            "5\n",
            "6\n",
            "7\n",
            "8\n",
            "9\n"
          ]
        }
      ]
    },
    {
      "cell_type": "code",
      "source": [
        "lst = [[1,2,3],\n",
        "       [4,5,6],\n",
        "       [7,8,9] ]\n",
        "\n",
        "for i in lst:\n",
        "  for j in i:\n",
        "    print(j)\n",
        "  print('-'*10)"
      ],
      "metadata": {
        "colab": {
          "base_uri": "https://localhost:8080/"
        },
        "id": "k4q93Vtvl2HE",
        "outputId": "c7d77137-f525-4514-ad36-55a966903d0f"
      },
      "execution_count": 9,
      "outputs": [
        {
          "output_type": "stream",
          "name": "stdout",
          "text": [
            "1\n",
            "2\n",
            "3\n",
            "----------\n",
            "4\n",
            "5\n",
            "6\n",
            "----------\n",
            "7\n",
            "8\n",
            "9\n",
            "----------\n"
          ]
        }
      ]
    },
    {
      "cell_type": "code",
      "source": [
        "lst = [[1,2,3],\n",
        "       [4,5,6],\n",
        "       [7,8,9] ]\n",
        "\n",
        "for i in lst:\n",
        "  for j in i:\n",
        "    print(i,j)"
      ],
      "metadata": {
        "colab": {
          "base_uri": "https://localhost:8080/"
        },
        "id": "hcGUKBb7lGB2",
        "outputId": "71e0db9f-b8ad-4bab-e34c-01bd80103952"
      },
      "execution_count": 8,
      "outputs": [
        {
          "output_type": "stream",
          "name": "stdout",
          "text": [
            "[1, 2, 3] 1\n",
            "[1, 2, 3] 2\n",
            "[1, 2, 3] 3\n",
            "[4, 5, 6] 4\n",
            "[4, 5, 6] 5\n",
            "[4, 5, 6] 6\n",
            "[7, 8, 9] 7\n",
            "[7, 8, 9] 8\n",
            "[7, 8, 9] 9\n"
          ]
        }
      ]
    }
  ]
}