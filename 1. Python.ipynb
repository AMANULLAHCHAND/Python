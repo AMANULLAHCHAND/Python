{
  "nbformat": 4,
  "nbformat_minor": 0,
  "metadata": {
    "colab": {
      "provenance": []
    },
    "kernelspec": {
      "name": "python3",
      "display_name": "Python 3"
    },
    "language_info": {
      "name": "python"
    }
  },
  "cells": [
    {
      "cell_type": "code",
      "execution_count": null,
      "metadata": {
        "colab": {
          "base_uri": "https://localhost:8080/"
        },
        "id": "W3q7jdMBTMVL",
        "outputId": "2149acba-428f-477a-eca8-970a99e10d90"
      },
      "outputs": [
        {
          "output_type": "stream",
          "name": "stdout",
          "text": [
            "12\n"
          ]
        }
      ],
      "source": [
        "print(12)"
      ]
    },
    {
      "cell_type": "code",
      "source": [
        "age = 35\n",
        "print(age%5 == 0)"
      ],
      "metadata": {
        "colab": {
          "base_uri": "https://localhost:8080/"
        },
        "id": "JMvlR9EKgG5A",
        "outputId": "e6847dee-d6cf-4f27-88be-20802bbd25a2"
      },
      "execution_count": null,
      "outputs": [
        {
          "output_type": "stream",
          "name": "stdout",
          "text": [
            "True\n"
          ]
        }
      ]
    },
    {
      "cell_type": "markdown",
      "source": [],
      "metadata": {
        "id": "9BzlhRgjgeIn"
      }
    },
    {
      "cell_type": "code",
      "source": [
        "age = 35\n",
        "print(age%5,age%7 == 0)"
      ],
      "metadata": {
        "colab": {
          "base_uri": "https://localhost:8080/"
        },
        "id": "9NXa1PnTgdul",
        "outputId": "266ed1ee-7930-455e-e300-cf2d253af70e"
      },
      "execution_count": null,
      "outputs": [
        {
          "output_type": "stream",
          "name": "stdout",
          "text": [
            "0 True\n"
          ]
        }
      ]
    },
    {
      "cell_type": "code",
      "source": [
        "age = 35\n",
        "print()"
      ],
      "metadata": {
        "id": "MFdiSwrchICF"
      },
      "execution_count": null,
      "outputs": []
    },
    {
      "cell_type": "markdown",
      "source": [
        "1. print"
      ],
      "metadata": {
        "id": "7NDw_pBShxj0"
      }
    },
    {
      "cell_type": "code",
      "source": [
        "print(12)\n",
        "print(12.5)\n",
        "print(55)\n",
        "print(\"Amanullah Chand\")\n",
        "print(True)\n",
        "print()\n",
        "print(12.5, 2, True, \"Amanullah Chand\")"
      ],
      "metadata": {
        "colab": {
          "base_uri": "https://localhost:8080/"
        },
        "id": "u_O8xBtQh5Rl",
        "outputId": "d0a57775-7865-4e22-cefa-1dfc28fa3823"
      },
      "execution_count": null,
      "outputs": [
        {
          "output_type": "stream",
          "name": "stdout",
          "text": [
            "12\n",
            "12.5\n",
            "55\n",
            "Amanullah Chand\n",
            "True\n",
            "\n",
            "12.5 2 True Amanullah Chand\n"
          ]
        }
      ]
    },
    {
      "cell_type": "markdown",
      "source": [
        "2. Type"
      ],
      "metadata": {
        "id": "mAbW6tP3kgvO"
      }
    },
    {
      "cell_type": "code",
      "source": [
        "print(type(12))\n",
        "print(type(12.5))\n",
        "print(type('12.5'))\n",
        "print(type('Aman'))\n",
        "print(type(True))\n",
        "print(type('True'))"
      ],
      "metadata": {
        "colab": {
          "base_uri": "https://localhost:8080/"
        },
        "id": "gEthAABakiZM",
        "outputId": "b6143ab9-9568-4492-9ac6-63debb829b7a"
      },
      "execution_count": null,
      "outputs": [
        {
          "output_type": "stream",
          "name": "stdout",
          "text": [
            "<class 'int'>\n",
            "<class 'float'>\n",
            "<class 'str'>\n",
            "<class 'str'>\n",
            "<class 'bool'>\n",
            "<class 'str'>\n"
          ]
        }
      ]
    },
    {
      "cell_type": "markdown",
      "source": [
        "3. Operators"
      ],
      "metadata": {
        "id": "Ej1QT_n5UvB9"
      }
    },
    {
      "cell_type": "markdown",
      "source": [
        "3.1) Arithmetic"
      ],
      "metadata": {
        "id": "uyfCMfXAUy8M"
      }
    },
    {
      "cell_type": "markdown",
      "source": [
        "3.1.1) Int - Int"
      ],
      "metadata": {
        "id": "cgCAx_MQU3Ho"
      }
    },
    {
      "cell_type": "code",
      "source": [
        "print(12+5)\n",
        "print(12-5)\n",
        "print(12*5)\n",
        "print(12/5)\n",
        "print(12//5)\n",
        "print(12%5)\n",
        "print(12**5)\n"
      ],
      "metadata": {
        "colab": {
          "base_uri": "https://localhost:8080/"
        },
        "id": "3X-7Ik2GU8Fl",
        "outputId": "fdbd03b4-12c6-4b73-8533-41e0303c5c76"
      },
      "execution_count": null,
      "outputs": [
        {
          "output_type": "stream",
          "name": "stdout",
          "text": [
            "17\n",
            "7\n",
            "60\n",
            "2.4\n",
            "2\n",
            "2\n",
            "248832\n"
          ]
        }
      ]
    },
    {
      "cell_type": "markdown",
      "source": [
        "3.1.2) Int - Float"
      ],
      "metadata": {
        "id": "ZfhN6ycaVEk0"
      }
    },
    {
      "cell_type": "code",
      "source": [
        "print(12+5.2)\n",
        "print(12-5.2)\n",
        "print(12*5.2)\n",
        "print(12/5.2)\n",
        "print(12//5.2)\n",
        "print(12%5.2)\n",
        "print(12**5.2)"
      ],
      "metadata": {
        "colab": {
          "base_uri": "https://localhost:8080/"
        },
        "id": "uyBEYoxaVJtp",
        "outputId": "be07b9e8-edf2-47d6-e655-461c550e13e7"
      },
      "execution_count": null,
      "outputs": [
        {
          "output_type": "stream",
          "name": "stdout",
          "text": [
            "17.2\n",
            "6.8\n",
            "62.400000000000006\n",
            "2.3076923076923075\n",
            "2.0\n",
            "1.5999999999999996\n",
            "409018.0552424305\n"
          ]
        }
      ]
    },
    {
      "cell_type": "markdown",
      "source": [
        "3.1.3) Int - String"
      ],
      "metadata": {
        "id": "UyB_CbmiV9MH"
      }
    },
    {
      "cell_type": "code",
      "source": [
        "\n",
        "print(12*'Amanullah')"
      ],
      "metadata": {
        "colab": {
          "base_uri": "https://localhost:8080/"
        },
        "id": "nm1UbLeuWCGr",
        "outputId": "ff05cc1d-0764-4d46-a51f-3721b539d129"
      },
      "execution_count": null,
      "outputs": [
        {
          "output_type": "stream",
          "name": "stdout",
          "text": [
            "AmanullahAmanullahAmanullahAmanullahAmanullahAmanullahAmanullahAmanullahAmanullahAmanullahAmanullahAmanullah\n"
          ]
        }
      ]
    },
    {
      "cell_type": "markdown",
      "source": [
        "3.1.4) Int - Boolean"
      ],
      "metadata": {
        "id": "x4dxOlZpWJkh"
      }
    },
    {
      "cell_type": "code",
      "source": [
        "print(12+True)\n",
        "print(12-False)\n",
        "print(12*True)\n",
        "print(12/True)\n",
        "print(12//True)\n",
        "print(12%True)\n",
        "print(12**True)"
      ],
      "metadata": {
        "colab": {
          "base_uri": "https://localhost:8080/"
        },
        "id": "fG3YRBP4WKta",
        "outputId": "868118fb-e0d7-442b-eb0f-4ea47f3da521"
      },
      "execution_count": null,
      "outputs": [
        {
          "output_type": "stream",
          "name": "stdout",
          "text": [
            "13\n",
            "12\n",
            "12\n",
            "12.0\n",
            "12\n",
            "0\n",
            "12\n"
          ]
        }
      ]
    },
    {
      "cell_type": "code",
      "source": [
        "print(False*'Ashish')"
      ],
      "metadata": {
        "colab": {
          "base_uri": "https://localhost:8080/"
        },
        "id": "gcB0nRg3WRqO",
        "outputId": "0044b49b-8b5d-4585-b05d-2b269f091783"
      },
      "execution_count": null,
      "outputs": [
        {
          "output_type": "stream",
          "name": "stdout",
          "text": [
            "\n"
          ]
        }
      ]
    },
    {
      "cell_type": "markdown",
      "source": [
        "3.2) Comparison"
      ],
      "metadata": {
        "id": "8GpwK1MiWbQP"
      }
    },
    {
      "cell_type": "code",
      "source": [
        "print(10>5)\n",
        "print(10<5)\n",
        "# print(a=5)\n",
        "print(10==5)\n",
        "print(10!=5)\n",
        "print(5>=5)\n",
        "print(5>5)\n",
        "print(10<=5)\n"
      ],
      "metadata": {
        "colab": {
          "base_uri": "https://localhost:8080/"
        },
        "id": "JpoabdDHWfqi",
        "outputId": "72d19fbf-8ce6-460b-f02b-b9948869a66b"
      },
      "execution_count": null,
      "outputs": [
        {
          "output_type": "stream",
          "name": "stdout",
          "text": [
            "True\n",
            "False\n",
            "False\n",
            "True\n",
            "True\n",
            "False\n",
            "False\n"
          ]
        }
      ]
    },
    {
      "cell_type": "markdown",
      "source": [
        "3.3) Logical"
      ],
      "metadata": {
        "id": "aqhS_nl6WkmI"
      }
    },
    {
      "cell_type": "code",
      "source": [
        "n = 70\n",
        "\n",
        "print((n%7 == 0) and (n%5 == 0))\n",
        "print((n%7 == 0) or (n%5 == 0))\n",
        "\n",
        "print((n%7 == 0) and (n%5 == 0) and not (n%9 == 0))\n",
        "print((n%7 == 0) and (n%5 == 0) and not (n%9 == 0) and (n%2 == 0))"
      ],
      "metadata": {
        "colab": {
          "base_uri": "https://localhost:8080/"
        },
        "id": "PM1loMLRWWao",
        "outputId": "88717230-6b3e-4ed6-9fca-54e676f5a8de"
      },
      "execution_count": null,
      "outputs": [
        {
          "output_type": "stream",
          "name": "stdout",
          "text": [
            "True\n",
            "True\n",
            "True\n",
            "True\n"
          ]
        }
      ]
    },
    {
      "cell_type": "markdown",
      "source": [
        "4.1) Typecasting"
      ],
      "metadata": {
        "id": "WCrtIitpWzsh"
      }
    },
    {
      "cell_type": "code",
      "source": [
        "print(int(12.99999))\n",
        "print(int('4623'))\n",
        "print(int(True))\n",
        "print(int(False))"
      ],
      "metadata": {
        "colab": {
          "base_uri": "https://localhost:8080/"
        },
        "id": "RsAMFoYpW078",
        "outputId": "f559f5d6-bf65-4c0e-fe7d-155e8a1057df"
      },
      "execution_count": null,
      "outputs": [
        {
          "output_type": "stream",
          "name": "stdout",
          "text": [
            "12\n",
            "4623\n",
            "1\n",
            "0\n"
          ]
        }
      ]
    },
    {
      "cell_type": "markdown",
      "source": [
        "4.2) Float"
      ],
      "metadata": {
        "id": "v-rn-xmgW6UO"
      }
    },
    {
      "cell_type": "code",
      "source": [
        "print(float(12))\n",
        "print(float('462332'))\n",
        "print(float(True))\n",
        "print(float(False))"
      ],
      "metadata": {
        "colab": {
          "base_uri": "https://localhost:8080/"
        },
        "id": "3qsLK7oXW7gP",
        "outputId": "b0de96dd-8937-4549-ac03-d8ecdb9c18a5"
      },
      "execution_count": null,
      "outputs": [
        {
          "output_type": "stream",
          "name": "stdout",
          "text": [
            "12.0\n",
            "462332.0\n",
            "1.0\n",
            "0.0\n"
          ]
        }
      ]
    },
    {
      "cell_type": "markdown",
      "source": [
        "4.3) Boolean"
      ],
      "metadata": {
        "id": "WrHnBWvIXAD6"
      }
    },
    {
      "cell_type": "code",
      "source": [
        "print(bool(0))\n",
        "print(bool(0.0000))\n",
        "print(bool(' '))\n",
        "print(bool(12))\n",
        "print(bool('Aman'))\n",
        "print(bool(-12))\n",
        "print(bool(''))\n",
        "print(bool(0))"
      ],
      "metadata": {
        "colab": {
          "base_uri": "https://localhost:8080/"
        },
        "id": "nOCgfJ1VXDFY",
        "outputId": "fed49e74-3865-4d3a-ebdb-cfc2e0beb576"
      },
      "execution_count": 7,
      "outputs": [
        {
          "output_type": "stream",
          "name": "stdout",
          "text": [
            "False\n",
            "False\n",
            "True\n",
            "True\n",
            "True\n",
            "True\n",
            "False\n",
            "False\n"
          ]
        }
      ]
    },
    {
      "cell_type": "markdown",
      "source": [
        "a = 1\n",
        "b = 2\n",
        "c = 3\n",
        "\n",
        "print\n",
        "(a,b,c)"
      ],
      "metadata": {
        "id": "8xiQafWxbvT2"
      }
    },
    {
      "cell_type": "code",
      "source": [
        "print('a,b,c')"
      ],
      "metadata": {
        "id": "IqP_tqbRbu1I"
      },
      "execution_count": null,
      "outputs": []
    },
    {
      "cell_type": "markdown",
      "source": [
        "#1. Number is Even or Odd\n",
        "#2. Number is divisible by 5&7 but not and must be off  between(0,100)"
      ],
      "metadata": {
        "id": "h5O3eR-ug0Z7"
      }
    },
    {
      "cell_type": "code",
      "source": [
        "n = int(input())\n",
        "if (n%2 == 0):\n",
        "  print('Divisible')\n",
        "else:\n",
        "  print('Not Divisible')"
      ],
      "metadata": {
        "colab": {
          "base_uri": "https://localhost:8080/"
        },
        "id": "Qbx9PNzrhQHd",
        "outputId": "13987a24-ff6b-48cd-ffd7-50f910feb2c8"
      },
      "execution_count": null,
      "outputs": [
        {
          "output_type": "stream",
          "name": "stdout",
          "text": [
            "6\n",
            "Divisible\n"
          ]
        }
      ]
    },
    {
      "cell_type": "code",
      "source": [
        "# 2. Number is divisible by 5&7 but not 9 and must be off between (0,100)\n",
        "n = int(input())\n",
        " if (n%)\n"
      ],
      "metadata": {
        "id": "C3zTT9EXguAd"
      },
      "execution_count": null,
      "outputs": []
    },
    {
      "cell_type": "markdown",
      "source": [
        "5 - 5 not 7 not 9\n",
        "7 - 7 not 5 not 9\n",
        "9 - 9 not 5 not 7\n",
        "(5,7) - not 9\n",
        "(5,9) - not 7\n",
        "(9,7) - not 5"
      ],
      "metadata": {
        "id": "wIueMF2LqW2t"
      }
    },
    {
      "cell_type": "code",
      "source": [
        "n = 35\n",
        "\n",
        "if n <= 100 and n>= 0:\n",
        "  if n%5 == 0 and n%7 == 0 or n%9 == 0:\n",
        "    print ('by 5 not 7 not 9')\n",
        "  elif n%7 == 0:\n",
        "    print ('by 7 not 5 not 9')\n",
        "  elif n%9 == 0:\n",
        "    print ('by 9 not 7 not 9')\n",
        "\n",
        "else:\n",
        "  print('Not in range')\n"
      ],
      "metadata": {
        "colab": {
          "base_uri": "https://localhost:8080/"
        },
        "id": "Vedmle06haT1",
        "outputId": "a87a15e8-0274-474c-eed4-22d4e4bcc657"
      },
      "execution_count": null,
      "outputs": [
        {
          "output_type": "stream",
          "name": "stdout",
          "text": [
            "by 5 not 7 not 9\n"
          ]
        }
      ]
    },
    {
      "cell_type": "markdown",
      "source": [
        "### 2. type"
      ],
      "metadata": {
        "id": "9f825qtymHNd"
      }
    },
    {
      "cell_type": "code",
      "source": [
        "print(type(12))\n",
        "print(type(12.5))\n",
        "print(type('Aman'))\n",
        "print(type(True))\n"
      ],
      "metadata": {
        "colab": {
          "base_uri": "https://localhost:8080/"
        },
        "id": "cWVgfhDFmBdf",
        "outputId": "f345bc82-215e-4f03-d473-837d1237bf35"
      },
      "execution_count": 1,
      "outputs": [
        {
          "output_type": "stream",
          "name": "stdout",
          "text": [
            "<class 'int'>\n",
            "<class 'float'>\n",
            "<class 'str'>\n",
            "<class 'bool'>\n"
          ]
        }
      ]
    },
    {
      "cell_type": "markdown",
      "source": [
        "### 3. Operators"
      ],
      "metadata": {
        "id": "Aau3Dsp7nd82"
      }
    },
    {
      "cell_type": "markdown",
      "source": [
        "#### 3.1) Arithmetic"
      ],
      "metadata": {
        "id": "YshmOlOAove9"
      }
    },
    {
      "cell_type": "markdown",
      "source": [
        "####3.1.2) Int - Float"
      ],
      "metadata": {
        "id": "D_vTMy-FsSdz"
      }
    },
    {
      "cell_type": "code",
      "source": [],
      "metadata": {
        "id": "0eJQm2nKsc-B"
      },
      "execution_count": null,
      "outputs": []
    },
    {
      "cell_type": "markdown",
      "source": [],
      "metadata": {
        "id": "lwLihg4ssSaa"
      }
    },
    {
      "cell_type": "code",
      "source": [],
      "metadata": {
        "id": "LH3I0JAjoChY"
      },
      "execution_count": 2,
      "outputs": []
    },
    {
      "cell_type": "code",
      "source": [],
      "metadata": {
        "id": "LQo2iWLSocHS"
      },
      "execution_count": null,
      "outputs": []
    },
    {
      "cell_type": "code",
      "source": [],
      "metadata": {
        "id": "Tjh6KQbhocD6"
      },
      "execution_count": null,
      "outputs": []
    },
    {
      "cell_type": "code",
      "source": [],
      "metadata": {
        "id": "8x4vQ0w2ocBa"
      },
      "execution_count": null,
      "outputs": []
    },
    {
      "cell_type": "markdown",
      "source": [
        "### 4. typecasting"
      ],
      "metadata": {
        "id": "NwoXutXGpQVr"
      }
    },
    {
      "cell_type": "markdown",
      "source": [
        "### 4.1) Int"
      ],
      "metadata": {
        "id": "mHleAnXu0097"
      }
    },
    {
      "cell_type": "code",
      "source": [
        "print(12+5)\n",
        "print(12-5)\n",
        "print(12*5)\n",
        "print(12/5)\n",
        "print(12//5)\n",
        "print(12%5)\n",
        "print(12**12)"
      ],
      "metadata": {
        "colab": {
          "base_uri": "https://localhost:8080/"
        },
        "id": "g8Ma0Fm6ob-B",
        "outputId": "5adc7418-9830-416a-bd45-81706101a4f9"
      },
      "execution_count": 5,
      "outputs": [
        {
          "output_type": "stream",
          "name": "stdout",
          "text": [
            "17\n",
            "7\n",
            "60\n",
            "2.4\n",
            "2\n",
            "2\n",
            "8916100448256\n"
          ]
        }
      ]
    },
    {
      "cell_type": "markdown",
      "source": [],
      "metadata": {
        "id": "KVbofkI4sOgj"
      }
    },
    {
      "cell_type": "code",
      "source": [
        "print ('\\n\\tAMANULLAH')\n",
        "print ('CHAND')"
      ],
      "metadata": {
        "colab": {
          "base_uri": "https://localhost:8080/"
        },
        "id": "Aib2Gowiob7g",
        "outputId": "b15afea8-67b6-4ae3-cc2f-e5a0b731a62b"
      },
      "execution_count": 12,
      "outputs": [
        {
          "output_type": "stream",
          "name": "stdout",
          "text": [
            "\n",
            "\tAMANULLAH\n",
            "CHAND\n"
          ]
        }
      ]
    },
    {
      "cell_type": "code",
      "source": [
        "print(11, 2.5, True, 'Amanullah')"
      ],
      "metadata": {
        "colab": {
          "base_uri": "https://localhost:8080/"
        },
        "id": "hlOs7pLSAPWb",
        "outputId": "cb43c713-04d1-4e8e-e26c-4a02075e7454"
      },
      "execution_count": 13,
      "outputs": [
        {
          "output_type": "stream",
          "name": "stdout",
          "text": [
            "11 2.5 True Amanullah\n"
          ]
        }
      ]
    },
    {
      "cell_type": "code",
      "source": [],
      "metadata": {
        "id": "Vta2mcJwob4Z"
      },
      "execution_count": null,
      "outputs": []
    },
    {
      "cell_type": "code",
      "source": [],
      "metadata": {
        "id": "wX6S91kgob1w"
      },
      "execution_count": null,
      "outputs": []
    },
    {
      "cell_type": "code",
      "source": [],
      "metadata": {
        "id": "_FAHFfzeobnk"
      },
      "execution_count": null,
      "outputs": []
    }
  ]
}